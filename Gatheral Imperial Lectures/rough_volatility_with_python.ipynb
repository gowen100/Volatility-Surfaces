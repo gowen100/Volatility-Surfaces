{
 "cells": [
  {
   "cell_type": "markdown",
   "metadata": {
    "slideshow": {
     "slide_type": "slide"
    }
   },
   "source": [
    "## Rough volatility with Python\n",
    "\n",
    "<p>\n",
    "\n",
    "\n",
    "Jim Gatheral\n",
    "\n",
    "For Python Quants, New York, Friday May 6, 2016\n",
    "\n",
    "  \n",
    "<h3><img src=\"http://mfe.baruch.cuny.edu/wp-content/uploads/2014/07/BaruchLogo2.png\" align = \"left\" width=160></h3>  \n",
    "\n",
    "<h3><img src=\"http://mfe.baruch.cuny.edu/wp-content/uploads/2014/07/MFElogo.png\" align = \"right\" width=100></h3>"
   ]
  },
  {
   "cell_type": "markdown",
   "metadata": {
    "slideshow": {
     "slide_type": "slide"
    }
   },
   "source": [
    "### Acknowledgements\n",
    "\n",
    "The code in this iPython notebook used to be in R.  I am very grateful to Yves Hilpisch and Michael Schwed for translating my R-code to Python.\n",
    "\n",
    "For slideshow functionality I use RISE by Damián Avila.\n",
    "\n",
    "\n",
    "$$\n",
    "\\newcommand{\\beas}{\\begin{eqnarray*}}\n",
    "\\newcommand{\\eeas}{\\end{eqnarray*}}\n",
    "\\newcommand{\\bea}{\\begin{eqnarray}}\n",
    "\\newcommand{\\eea}{\\end{eqnarray}}\n",
    "\\newcommand{\\ben}{\\begin{enumerate}}\n",
    "\\newcommand{\\een}{\\end{enumerate}}\n",
    "\\newcommand{\\bi}{\\begin{itemize}}\n",
    "\\newcommand{\\ei}{\\end{itemize}}\n",
    "\\newcommand{\\beq}{\\begin{equation}}\n",
    "\\newcommand{\\eeq}{\\end{equation}}\n",
    "\\newcommand{\\bv}{\\begin{verbatim}}\n",
    "\\newcommand{\\ev}{\\end{verbatim}}\n",
    "\\newcommand{\\E}{\\mathbb{E}}\n",
    "\\newcommand{\\R}{\\mathbb{R}}\n",
    "\\newcommand{\\mP}{\\mathbb{P}}\n",
    "\\newcommand{\\mQ}{\\mathbb{Q}}\n",
    "\\newcommand{\\sigl}{\\sigma_L}\n",
    "\\newcommand{\\BS}{\\rm BS}\n",
    "\\newcommand{\\vix}{\\text{VIX}}\n",
    "\\newcommand{\\p}{\\partial}\n",
    "\\newcommand{\\var}{{\\rm var}}\n",
    "\\newcommand{\\cov}{{\\rm cov}}\n",
    "\\newcommand{\\mt}{\\mathbf{t}}\n",
    "\\newcommand{\\mS}{\\mathbf{S}}\n",
    "\\newcommand{\\tC}{\\widetilde{C}}\n",
    "\\newcommand{\\hC}{\\widehat{C}}\n",
    "\\newcommand{\\cE}{\\mathcal{E}}\n",
    "\\newcommand{\\tH}{\\widetilde{H}}\n",
    "\\newcommand{\\cD}{\\mathcal{D}}\n",
    "\\newcommand{\\cM}{\\mathcal{M}}\n",
    "\\newcommand{\\cS}{\\mathcal{S}}\n",
    "\\newcommand{\\cR}{\\mathcal{R}}\n",
    "\\newcommand{\\cF}{\\mathcal{F}}\n",
    "\\newcommand{\\cV}{\\mathcal{V}}\n",
    "\\newcommand{\\cG}{\\mathcal{G}}\n",
    "\\newcommand{\\cv}{\\mathcal{v}}\n",
    "\\newcommand{\\cg}{\\mathcal{g}}\n",
    "\\newcommand{\\cL}{\\mathcal{L}}\n",
    "\\newcommand{\\cO}{\\mathcal{O}}\n",
    "\\newcommand{\\dt}{\\Delta t}\n",
    "\\newcommand{\\tr}{{\\rm tr}}\n",
    "\\newcommand{\\sgn}{\\mathrm{sign}}\n",
    "\\newcommand{\\ee}[1]{{\\mathbb{E}\\left[{#1}\\right]}}\n",
    "\\newcommand{\\eef}[1]{{\\mathbb{E}\\left[\\left.{#1}\\right|\\cF_t\\right]}}\n",
    "\\newcommand{\\eefm}[2]{{\\mathbb{E}^{#2}\\left[\\left.{#1}\\right|\\cF_t\\right]}}\n",
    "\\newcommand{\\angl}[1]{{\\langle{#1}\\rangle}}\n",
    "$$"
   ]
  },
  {
   "cell_type": "markdown",
   "metadata": {
    "slideshow": {
     "slide_type": "slide"
    }
   },
   "source": [
    "\n",
    "\n",
    "### Outline of presentation\n",
    "\n",
    "* The time series of historical volatility\n",
    "    - Scaling properties\n",
    "\n",
    "* The RFSV model\n",
    "\n",
    "* Pricing under rough volatility\n",
    "\n",
    "* Forecasting realized variance\n",
    "\n",
    "* The time series of variance swaps\n",
    "\n",
    "* Relating historical and implied\n",
    "\n"
   ]
  },
  {
   "cell_type": "markdown",
   "metadata": {
    "slideshow": {
     "slide_type": "slide"
    }
   },
   "source": [
    "### The time series of realized variance\n",
    "\n",
    "- Assuming an underlying variance process $v_s$, integrated variance $\n",
    "\\frac 1 \\delta \\,\\int_t^{t+\\delta}\\,v_s\\,ds$ may (in principle) be estimated arbitrarily accurately given enough price data.\n",
    "\n",
    "    - In practice, market microstructure noise makes estimation harder at very high frequency.\n",
    "    - Sophisticated estimators of integrated variance have been developed to adjust for market microstructure noise.  See Gatheral and Oomen <sup id=\"cite_ref-GO\" class=\"reference\"><a href=\"#cite_note-GO\"><span>[</span>6<span>]</span></a></sup> (for example) for details of these."
   ]
  },
  {
   "cell_type": "markdown",
   "metadata": {
    "slideshow": {
     "slide_type": "subslide"
    }
   },
   "source": [
    "- The Oxford-Man Institute of Quantitative Finance makes historical realized variance (RV) estimates freely available at http://realized.oxford-man.ox.ac.uk.  These estimates are updated daily.\n",
    "\n",
    "    - Each day, for 21 different indices, all trades and quotes are used to estimate realized (or integrated) variance over the trading day from open to close.\n",
    "\n",
    "\n",
    "\n",
    "- Using daily RV estimates as proxies for instantaneous variance, we may investigate the time series properties of $v_t$ empirically."
   ]
  },
  {
   "cell_type": "markdown",
   "metadata": {
    "slideshow": {
     "slide_type": "slide"
    }
   },
   "source": [
    "First load all necessary Python libraries."
   ]
  },
  {
   "cell_type": "code",
   "execution_count": 12,
   "metadata": {
    "collapsed": false,
    "jupyter": {
     "outputs_hidden": false
    },
    "slideshow": {
     "slide_type": "fragment"
    }
   },
   "outputs": [],
   "source": [
    "import warnings; warnings.simplefilter('ignore')\n",
    "import datetime as dt\n",
    "import numpy as np\n",
    "import matplotlib.pyplot as plt\n",
    "import matplotlib.mlab as mlab\n",
    "#from matplotlib.mlab import stineman_interp\n",
    "import pandas as pd\n",
    "#import pandas.io.data as web\n",
    "from pandas_datareader import data as web\n",
    "from urllib.request import urlopen\n",
    "import zipfile as zi \n",
    "from io import StringIO \n",
    "from sklearn import datasets, linear_model\n",
    "import scipy.special as scsp\n",
    "import statsmodels.api as sm\n",
    "import math\n",
    "import seaborn as sns; sns.set()\n",
    "%matplotlib inline"
   ]
  },
  {
   "cell_type": "markdown",
   "metadata": {
    "slideshow": {
     "slide_type": "subslide"
    }
   },
   "source": [
    "Then update and save the latest Oxford-Man data."
   ]
  },
  {
   "cell_type": "code",
   "execution_count": 14,
   "metadata": {
    "collapsed": false,
    "jupyter": {
     "outputs_hidden": false
    },
    "slideshow": {
     "slide_type": "fragment"
    }
   },
   "outputs": [
    {
     "ename": "TypeError",
     "evalue": "initial_value must be str or None, not bytes",
     "output_type": "error",
     "traceback": [
      "\u001b[1;31m---------------------------------------------------------------------------\u001b[0m",
      "\u001b[1;31mTypeError\u001b[0m                                 Traceback (most recent call last)",
      "\u001b[1;32m<ipython-input-14-ee2ce9a14ae3>\u001b[0m in \u001b[0;36m<module>\u001b[1;34m\u001b[0m\n\u001b[0;32m      2\u001b[0m \u001b[0murl\u001b[0m \u001b[1;33m=\u001b[0m\u001b[1;34m'https://www.bankofengland.co.uk/-/media/boe/files/statistics/yield-curves/glcrealddata.zip'\u001b[0m\u001b[1;33m\u001b[0m\u001b[1;33m\u001b[0m\u001b[0m\n\u001b[0;32m      3\u001b[0m \u001b[0mresp\u001b[0m \u001b[1;33m=\u001b[0m \u001b[0murlopen\u001b[0m\u001b[1;33m(\u001b[0m\u001b[0murl\u001b[0m\u001b[1;33m)\u001b[0m\u001b[1;33m\u001b[0m\u001b[1;33m\u001b[0m\u001b[0m\n\u001b[1;32m----> 4\u001b[1;33m \u001b[0mzipfile\u001b[0m \u001b[1;33m=\u001b[0m \u001b[0mzi\u001b[0m\u001b[1;33m.\u001b[0m\u001b[0mZipFile\u001b[0m\u001b[1;33m(\u001b[0m\u001b[0mStringIO\u001b[0m\u001b[1;33m(\u001b[0m\u001b[0mresp\u001b[0m\u001b[1;33m.\u001b[0m\u001b[0mread\u001b[0m\u001b[1;33m(\u001b[0m\u001b[1;33m)\u001b[0m\u001b[1;33m)\u001b[0m\u001b[1;33m)\u001b[0m\u001b[1;33m\u001b[0m\u001b[1;33m\u001b[0m\u001b[0m\n\u001b[0m\u001b[0;32m      5\u001b[0m \u001b[0mresp\u001b[0m\u001b[1;33m.\u001b[0m\u001b[0mclose\u001b[0m\u001b[1;33m(\u001b[0m\u001b[1;33m)\u001b[0m\u001b[1;33m\u001b[0m\u001b[1;33m\u001b[0m\u001b[0m\n\u001b[0;32m      6\u001b[0m \u001b[0mdisplay\u001b[0m\u001b[1;33m(\u001b[0m\u001b[0mpd\u001b[0m\u001b[1;33m.\u001b[0m\u001b[0mDataFrame\u001b[0m\u001b[1;33m(\u001b[0m\u001b[1;33m[\u001b[0m\u001b[1;33m[\u001b[0m\u001b[0mname\u001b[0m\u001b[1;33m]\u001b[0m \u001b[1;32mfor\u001b[0m \u001b[0mi\u001b[0m\u001b[1;33m,\u001b[0m\u001b[0mname\u001b[0m \u001b[1;32min\u001b[0m \u001b[0menumerate\u001b[0m\u001b[1;33m(\u001b[0m\u001b[0mzipfile\u001b[0m\u001b[1;33m.\u001b[0m\u001b[0mnamelist\u001b[0m\u001b[1;33m(\u001b[0m\u001b[1;33m)\u001b[0m\u001b[1;33m)\u001b[0m\u001b[1;33m]\u001b[0m\u001b[1;33m,\u001b[0m\u001b[0mcolumns\u001b[0m\u001b[1;33m=\u001b[0m\u001b[1;33m[\u001b[0m\u001b[1;34m\"File Name\"\u001b[0m\u001b[1;33m]\u001b[0m\u001b[1;33m)\u001b[0m\u001b[1;33m)\u001b[0m\u001b[1;33m\u001b[0m\u001b[1;33m\u001b[0m\u001b[0m\n",
      "\u001b[1;31mTypeError\u001b[0m: initial_value must be str or None, not bytes"
     ]
    }
   ],
   "source": []
  },
  {
   "cell_type": "markdown",
   "metadata": {
    "slideshow": {
     "slide_type": "slide"
    }
   },
   "source": [
    "There are many different estimates of realized variance, all of them very similar.  We will use the realized kernel estimates denoted by \".rk\"."
   ]
  },
  {
   "cell_type": "code",
   "execution_count": 16,
   "metadata": {
    "collapsed": false,
    "jupyter": {
     "outputs_hidden": false
    },
    "slideshow": {
     "slide_type": "fragment"
    }
   },
   "outputs": [],
   "source": [
    "df = pd.read_csv('OxfordManRealizedVolatilityIndices.csv', index_col=0, header=2 )\n",
    "rv1 = pd.DataFrame(index=df.index)\n",
    "for col in df.columns:\n",
    "    if col[-3:] == '.rk':\n",
    "        rv1[col] = df[col]\n",
    "#rv1.index = [dt.datetime.strptime(str(date), \"%Y%m%d\") for date in rv1.index.values]"
   ]
  },
  {
   "cell_type": "markdown",
   "metadata": {
    "slideshow": {
     "slide_type": "slide"
    }
   },
   "source": [
    "Let's plot SPX realized variance."
   ]
  },
  {
   "cell_type": "code",
   "execution_count": 17,
   "metadata": {
    "collapsed": false,
    "jupyter": {
     "outputs_hidden": false
    },
    "slideshow": {
     "slide_type": "fragment"
    }
   },
   "outputs": [
    {
     "ename": "KeyError",
     "evalue": "'SPX2.rk'",
     "output_type": "error",
     "traceback": [
      "\u001b[1;31m---------------------------------------------------------------------------\u001b[0m",
      "\u001b[1;31mKeyError\u001b[0m                                  Traceback (most recent call last)",
      "\u001b[1;32md:\\Anaconda3\\lib\\site-packages\\pandas\\core\\indexes\\base.py\u001b[0m in \u001b[0;36mget_loc\u001b[1;34m(self, key, method, tolerance)\u001b[0m\n\u001b[0;32m   2645\u001b[0m             \u001b[1;32mtry\u001b[0m\u001b[1;33m:\u001b[0m\u001b[1;33m\u001b[0m\u001b[1;33m\u001b[0m\u001b[0m\n\u001b[1;32m-> 2646\u001b[1;33m                 \u001b[1;32mreturn\u001b[0m \u001b[0mself\u001b[0m\u001b[1;33m.\u001b[0m\u001b[0m_engine\u001b[0m\u001b[1;33m.\u001b[0m\u001b[0mget_loc\u001b[0m\u001b[1;33m(\u001b[0m\u001b[0mkey\u001b[0m\u001b[1;33m)\u001b[0m\u001b[1;33m\u001b[0m\u001b[1;33m\u001b[0m\u001b[0m\n\u001b[0m\u001b[0;32m   2647\u001b[0m             \u001b[1;32mexcept\u001b[0m \u001b[0mKeyError\u001b[0m\u001b[1;33m:\u001b[0m\u001b[1;33m\u001b[0m\u001b[1;33m\u001b[0m\u001b[0m\n",
      "\u001b[1;32mpandas\\_libs\\index.pyx\u001b[0m in \u001b[0;36mpandas._libs.index.IndexEngine.get_loc\u001b[1;34m()\u001b[0m\n",
      "\u001b[1;32mpandas\\_libs\\index.pyx\u001b[0m in \u001b[0;36mpandas._libs.index.IndexEngine.get_loc\u001b[1;34m()\u001b[0m\n",
      "\u001b[1;32mpandas\\_libs\\hashtable_class_helper.pxi\u001b[0m in \u001b[0;36mpandas._libs.hashtable.PyObjectHashTable.get_item\u001b[1;34m()\u001b[0m\n",
      "\u001b[1;32mpandas\\_libs\\hashtable_class_helper.pxi\u001b[0m in \u001b[0;36mpandas._libs.hashtable.PyObjectHashTable.get_item\u001b[1;34m()\u001b[0m\n",
      "\u001b[1;31mKeyError\u001b[0m: 'SPX2.rk'",
      "\nDuring handling of the above exception, another exception occurred:\n",
      "\u001b[1;31mKeyError\u001b[0m                                  Traceback (most recent call last)",
      "\u001b[1;32m<ipython-input-17-bae3f5c77042>\u001b[0m in \u001b[0;36m<module>\u001b[1;34m\u001b[0m\n\u001b[1;32m----> 1\u001b[1;33m \u001b[0mspx\u001b[0m \u001b[1;33m=\u001b[0m \u001b[0mpd\u001b[0m\u001b[1;33m.\u001b[0m\u001b[0mDataFrame\u001b[0m\u001b[1;33m(\u001b[0m\u001b[0mrv1\u001b[0m\u001b[1;33m[\u001b[0m\u001b[1;34m'SPX2.rk'\u001b[0m\u001b[1;33m]\u001b[0m\u001b[1;33m)\u001b[0m\u001b[1;33m\u001b[0m\u001b[1;33m\u001b[0m\u001b[0m\n\u001b[0m\u001b[0;32m      2\u001b[0m spx.plot(color='red', grid=True, title='SPX realized variance',\n\u001b[0;32m      3\u001b[0m          figsize=(16, 9), ylim=(0,0.003));\n",
      "\u001b[1;32md:\\Anaconda3\\lib\\site-packages\\pandas\\core\\frame.py\u001b[0m in \u001b[0;36m__getitem__\u001b[1;34m(self, key)\u001b[0m\n\u001b[0;32m   2798\u001b[0m             \u001b[1;32mif\u001b[0m \u001b[0mself\u001b[0m\u001b[1;33m.\u001b[0m\u001b[0mcolumns\u001b[0m\u001b[1;33m.\u001b[0m\u001b[0mnlevels\u001b[0m \u001b[1;33m>\u001b[0m \u001b[1;36m1\u001b[0m\u001b[1;33m:\u001b[0m\u001b[1;33m\u001b[0m\u001b[1;33m\u001b[0m\u001b[0m\n\u001b[0;32m   2799\u001b[0m                 \u001b[1;32mreturn\u001b[0m \u001b[0mself\u001b[0m\u001b[1;33m.\u001b[0m\u001b[0m_getitem_multilevel\u001b[0m\u001b[1;33m(\u001b[0m\u001b[0mkey\u001b[0m\u001b[1;33m)\u001b[0m\u001b[1;33m\u001b[0m\u001b[1;33m\u001b[0m\u001b[0m\n\u001b[1;32m-> 2800\u001b[1;33m             \u001b[0mindexer\u001b[0m \u001b[1;33m=\u001b[0m \u001b[0mself\u001b[0m\u001b[1;33m.\u001b[0m\u001b[0mcolumns\u001b[0m\u001b[1;33m.\u001b[0m\u001b[0mget_loc\u001b[0m\u001b[1;33m(\u001b[0m\u001b[0mkey\u001b[0m\u001b[1;33m)\u001b[0m\u001b[1;33m\u001b[0m\u001b[1;33m\u001b[0m\u001b[0m\n\u001b[0m\u001b[0;32m   2801\u001b[0m             \u001b[1;32mif\u001b[0m \u001b[0mis_integer\u001b[0m\u001b[1;33m(\u001b[0m\u001b[0mindexer\u001b[0m\u001b[1;33m)\u001b[0m\u001b[1;33m:\u001b[0m\u001b[1;33m\u001b[0m\u001b[1;33m\u001b[0m\u001b[0m\n\u001b[0;32m   2802\u001b[0m                 \u001b[0mindexer\u001b[0m \u001b[1;33m=\u001b[0m \u001b[1;33m[\u001b[0m\u001b[0mindexer\u001b[0m\u001b[1;33m]\u001b[0m\u001b[1;33m\u001b[0m\u001b[1;33m\u001b[0m\u001b[0m\n",
      "\u001b[1;32md:\\Anaconda3\\lib\\site-packages\\pandas\\core\\indexes\\base.py\u001b[0m in \u001b[0;36mget_loc\u001b[1;34m(self, key, method, tolerance)\u001b[0m\n\u001b[0;32m   2646\u001b[0m                 \u001b[1;32mreturn\u001b[0m \u001b[0mself\u001b[0m\u001b[1;33m.\u001b[0m\u001b[0m_engine\u001b[0m\u001b[1;33m.\u001b[0m\u001b[0mget_loc\u001b[0m\u001b[1;33m(\u001b[0m\u001b[0mkey\u001b[0m\u001b[1;33m)\u001b[0m\u001b[1;33m\u001b[0m\u001b[1;33m\u001b[0m\u001b[0m\n\u001b[0;32m   2647\u001b[0m             \u001b[1;32mexcept\u001b[0m \u001b[0mKeyError\u001b[0m\u001b[1;33m:\u001b[0m\u001b[1;33m\u001b[0m\u001b[1;33m\u001b[0m\u001b[0m\n\u001b[1;32m-> 2648\u001b[1;33m                 \u001b[1;32mreturn\u001b[0m \u001b[0mself\u001b[0m\u001b[1;33m.\u001b[0m\u001b[0m_engine\u001b[0m\u001b[1;33m.\u001b[0m\u001b[0mget_loc\u001b[0m\u001b[1;33m(\u001b[0m\u001b[0mself\u001b[0m\u001b[1;33m.\u001b[0m\u001b[0m_maybe_cast_indexer\u001b[0m\u001b[1;33m(\u001b[0m\u001b[0mkey\u001b[0m\u001b[1;33m)\u001b[0m\u001b[1;33m)\u001b[0m\u001b[1;33m\u001b[0m\u001b[1;33m\u001b[0m\u001b[0m\n\u001b[0m\u001b[0;32m   2649\u001b[0m         \u001b[0mindexer\u001b[0m \u001b[1;33m=\u001b[0m \u001b[0mself\u001b[0m\u001b[1;33m.\u001b[0m\u001b[0mget_indexer\u001b[0m\u001b[1;33m(\u001b[0m\u001b[1;33m[\u001b[0m\u001b[0mkey\u001b[0m\u001b[1;33m]\u001b[0m\u001b[1;33m,\u001b[0m \u001b[0mmethod\u001b[0m\u001b[1;33m=\u001b[0m\u001b[0mmethod\u001b[0m\u001b[1;33m,\u001b[0m \u001b[0mtolerance\u001b[0m\u001b[1;33m=\u001b[0m\u001b[0mtolerance\u001b[0m\u001b[1;33m)\u001b[0m\u001b[1;33m\u001b[0m\u001b[1;33m\u001b[0m\u001b[0m\n\u001b[0;32m   2650\u001b[0m         \u001b[1;32mif\u001b[0m \u001b[0mindexer\u001b[0m\u001b[1;33m.\u001b[0m\u001b[0mndim\u001b[0m \u001b[1;33m>\u001b[0m \u001b[1;36m1\u001b[0m \u001b[1;32mor\u001b[0m \u001b[0mindexer\u001b[0m\u001b[1;33m.\u001b[0m\u001b[0msize\u001b[0m \u001b[1;33m>\u001b[0m \u001b[1;36m1\u001b[0m\u001b[1;33m:\u001b[0m\u001b[1;33m\u001b[0m\u001b[1;33m\u001b[0m\u001b[0m\n",
      "\u001b[1;32mpandas\\_libs\\index.pyx\u001b[0m in \u001b[0;36mpandas._libs.index.IndexEngine.get_loc\u001b[1;34m()\u001b[0m\n",
      "\u001b[1;32mpandas\\_libs\\index.pyx\u001b[0m in \u001b[0;36mpandas._libs.index.IndexEngine.get_loc\u001b[1;34m()\u001b[0m\n",
      "\u001b[1;32mpandas\\_libs\\hashtable_class_helper.pxi\u001b[0m in \u001b[0;36mpandas._libs.hashtable.PyObjectHashTable.get_item\u001b[1;34m()\u001b[0m\n",
      "\u001b[1;32mpandas\\_libs\\hashtable_class_helper.pxi\u001b[0m in \u001b[0;36mpandas._libs.hashtable.PyObjectHashTable.get_item\u001b[1;34m()\u001b[0m\n",
      "\u001b[1;31mKeyError\u001b[0m: 'SPX2.rk'"
     ]
    }
   ],
   "source": [
    "spx = pd.DataFrame(rv1['SPX2.rk'])\n",
    "spx.plot(color='red', grid=True, title='SPX realized variance',\n",
    "         figsize=(16, 9), ylim=(0,0.003));"
   ]
  },
  {
   "cell_type": "markdown",
   "metadata": {
    "slideshow": {
     "slide_type": "fragment"
    }
   },
   "source": [
    "Figure 1: Oxford-Man KRV estimates of SPX realized variance from January 2000 to the current date."
   ]
  },
  {
   "cell_type": "code",
   "execution_count": 5,
   "metadata": {
    "collapsed": false,
    "jupyter": {
     "outputs_hidden": false
    },
    "slideshow": {
     "slide_type": "subslide"
    }
   },
   "outputs": [
    {
     "data": {
      "text/html": [
       "<div>\n",
       "<table border=\"1\" class=\"dataframe\">\n",
       "  <thead>\n",
       "    <tr style=\"text-align: right;\">\n",
       "      <th></th>\n",
       "      <th>SPX2.rk</th>\n",
       "    </tr>\n",
       "  </thead>\n",
       "  <tbody>\n",
       "    <tr>\n",
       "      <th>2000-01-03</th>\n",
       "      <td>0.000161</td>\n",
       "    </tr>\n",
       "    <tr>\n",
       "      <th>2000-01-04</th>\n",
       "      <td>0.000264</td>\n",
       "    </tr>\n",
       "    <tr>\n",
       "      <th>2000-01-05</th>\n",
       "      <td>0.000305</td>\n",
       "    </tr>\n",
       "    <tr>\n",
       "      <th>2000-01-06</th>\n",
       "      <td>0.000149</td>\n",
       "    </tr>\n",
       "    <tr>\n",
       "      <th>2000-01-07</th>\n",
       "      <td>0.000123</td>\n",
       "    </tr>\n",
       "  </tbody>\n",
       "</table>\n",
       "</div>"
      ],
      "text/plain": [
       "             SPX2.rk\n",
       "2000-01-03  0.000161\n",
       "2000-01-04  0.000264\n",
       "2000-01-05  0.000305\n",
       "2000-01-06  0.000149\n",
       "2000-01-07  0.000123"
      ]
     },
     "execution_count": 5,
     "metadata": {},
     "output_type": "execute_result"
    }
   ],
   "source": [
    "spx.head()"
   ]
  },
  {
   "cell_type": "code",
   "execution_count": 6,
   "metadata": {
    "collapsed": false,
    "jupyter": {
     "outputs_hidden": false
    },
    "slideshow": {
     "slide_type": "subslide"
    }
   },
   "outputs": [
    {
     "data": {
      "text/html": [
       "<div>\n",
       "<table border=\"1\" class=\"dataframe\">\n",
       "  <thead>\n",
       "    <tr style=\"text-align: right;\">\n",
       "      <th></th>\n",
       "      <th>SPX2.rk</th>\n",
       "    </tr>\n",
       "  </thead>\n",
       "  <tbody>\n",
       "    <tr>\n",
       "      <th>2016-04-27</th>\n",
       "      <td>0.000031</td>\n",
       "    </tr>\n",
       "    <tr>\n",
       "      <th>2016-04-28</th>\n",
       "      <td>0.000031</td>\n",
       "    </tr>\n",
       "    <tr>\n",
       "      <th>2016-04-29</th>\n",
       "      <td>0.000048</td>\n",
       "    </tr>\n",
       "    <tr>\n",
       "      <th>2016-05-02</th>\n",
       "      <td>0.000028</td>\n",
       "    </tr>\n",
       "    <tr>\n",
       "      <th>2016-05-03</th>\n",
       "      <td>0.000041</td>\n",
       "    </tr>\n",
       "  </tbody>\n",
       "</table>\n",
       "</div>"
      ],
      "text/plain": [
       "             SPX2.rk\n",
       "2016-04-27  0.000031\n",
       "2016-04-28  0.000031\n",
       "2016-04-29  0.000048\n",
       "2016-05-02  0.000028\n",
       "2016-05-03  0.000041"
      ]
     },
     "execution_count": 6,
     "metadata": {},
     "output_type": "execute_result"
    }
   ],
   "source": [
    "spx.tail()"
   ]
  },
  {
   "cell_type": "markdown",
   "metadata": {
    "slideshow": {
     "slide_type": "slide"
    }
   },
   "source": [
    "We can get SPX data from Yahoo using the `DataReader` function:"
   ]
  },
  {
   "cell_type": "code",
   "execution_count": 18,
   "metadata": {
    "collapsed": false,
    "jupyter": {
     "outputs_hidden": false
    },
    "slideshow": {
     "slide_type": "fragment"
    }
   },
   "outputs": [
    {
     "data": {
      "image/png": "[encoded data removed]",
      "text/plain": [
       "<Figure size 1008x576 with 1 Axes>"
      ]
     },
     "metadata": {
      "needs_background": "light"
     },
     "output_type": "display_data"
    }
   ],
   "source": [
    "SPX = web.DataReader(name = '^GSPC',data_source = 'yahoo', start='2000-01-01')\n",
    "SPX = SPX['Adj Close']\n",
    "SPX.plot(title='SPX',figsize=(14, 8));"
   ]
  },
  {
   "cell_type": "markdown",
   "metadata": {
    "slideshow": {
     "slide_type": "slide"
    }
   },
   "source": [
    "### The smoothness of the volatility process\n",
    "\n",
    "\n",
    "For $q\\geq 0$, we define the $q$th sample moment of differences of log-volatility at a given lag $\\Delta$.($\\angl{\\cdot}$ denotes the sample average):\n",
    "\n",
    "$$\n",
    "m(q,\\Delta)=\\angl{\\left|\\log \\sigma_{t+\\Delta} -\\log \\sigma_{t} \\right|^q}\n",
    "$$\n",
    "\n",
    "For example\n",
    "\n",
    "$$\n",
    "m(2,\\Delta)=\\angl{\\left(\\log \\sigma_{t+\\Delta} -\\log \\sigma_{t} \\right)^2}\n",
    "$$\n",
    "\n",
    "is just the sample variance of differences in log-volatility at the lag $\\Delta$.\n",
    "\n",
    "\n"
   ]
  },
  {
   "cell_type": "markdown",
   "metadata": {
    "slideshow": {
     "slide_type": "slide"
    }
   },
   "source": [
    "### Scaling of $m(q,\\Delta)$ with lag $\\Delta$"
   ]
  },
  {
   "cell_type": "code",
   "execution_count": 19,
   "metadata": {
    "collapsed": false,
    "jupyter": {
     "outputs_hidden": false
    },
    "slideshow": {
     "slide_type": "fragment"
    }
   },
   "outputs": [
    {
     "ename": "NameError",
     "evalue": "name 'spx' is not defined",
     "output_type": "error",
     "traceback": [
      "\u001b[1;31m---------------------------------------------------------------------------\u001b[0m",
      "\u001b[1;31mNameError\u001b[0m                                 Traceback (most recent call last)",
      "\u001b[1;32m<ipython-input-19-eb6838636dff>\u001b[0m in \u001b[0;36m<module>\u001b[1;34m\u001b[0m\n\u001b[1;32m----> 1\u001b[1;33m \u001b[0mspx\u001b[0m\u001b[1;33m[\u001b[0m\u001b[1;34m'sqrt'\u001b[0m\u001b[1;33m]\u001b[0m\u001b[1;33m=\u001b[0m \u001b[0mnp\u001b[0m\u001b[1;33m.\u001b[0m\u001b[0msqrt\u001b[0m\u001b[1;33m(\u001b[0m\u001b[0mspx\u001b[0m\u001b[1;33m[\u001b[0m\u001b[1;34m'SPX2.rk'\u001b[0m\u001b[1;33m]\u001b[0m\u001b[1;33m)\u001b[0m\u001b[1;33m\u001b[0m\u001b[1;33m\u001b[0m\u001b[0m\n\u001b[0m\u001b[0;32m      2\u001b[0m \u001b[0mspx\u001b[0m\u001b[1;33m[\u001b[0m\u001b[1;34m'log_sqrt'\u001b[0m\u001b[1;33m]\u001b[0m \u001b[1;33m=\u001b[0m \u001b[0mnp\u001b[0m\u001b[1;33m.\u001b[0m\u001b[0mlog\u001b[0m\u001b[1;33m(\u001b[0m\u001b[0mspx\u001b[0m\u001b[1;33m[\u001b[0m\u001b[1;34m'sqrt'\u001b[0m\u001b[1;33m]\u001b[0m\u001b[1;33m)\u001b[0m\u001b[1;33m\u001b[0m\u001b[1;33m\u001b[0m\u001b[0m\n\u001b[0;32m      3\u001b[0m \u001b[1;33m\u001b[0m\u001b[0m\n\u001b[0;32m      4\u001b[0m \u001b[1;32mdef\u001b[0m \u001b[0mdel_Raw\u001b[0m\u001b[1;33m(\u001b[0m\u001b[0mq\u001b[0m\u001b[1;33m,\u001b[0m \u001b[0mx\u001b[0m\u001b[1;33m)\u001b[0m\u001b[1;33m:\u001b[0m\u001b[1;33m\u001b[0m\u001b[1;33m\u001b[0m\u001b[0m\n\u001b[0;32m      5\u001b[0m     return [np.mean(np.abs(spx['log_sqrt'] - spx['log_sqrt'].shift(lag)) ** q)\n",
      "\u001b[1;31mNameError\u001b[0m: name 'spx' is not defined"
     ]
    }
   ],
   "source": [
    "spx['sqrt']= np.sqrt(spx['SPX2.rk'])\n",
    "spx['log_sqrt'] = np.log(spx['sqrt'])\n",
    "\n",
    "def del_Raw(q, x): \n",
    "    return [np.mean(np.abs(spx['log_sqrt'] - spx['log_sqrt'].shift(lag)) ** q)\n",
    "            for lag in x]"
   ]
  },
  {
   "cell_type": "code",
   "execution_count": 9,
   "metadata": {
    "collapsed": false,
    "jupyter": {
     "outputs_hidden": false
    },
    "slideshow": {
     "slide_type": "subslide"
    }
   },
   "outputs": [
    {
     "name": "stdout",
     "output_type": "stream",
     "text": [
      "[0.072526605081197543, 0.14178030350291049, 0.20760692212873791, 0.27007948205423049, 0.38534332343872962]\n"
     ]
    },
    {
     "data": {
      "image/png": "[encoded data removed]",
      "text/plain": [
       "<matplotlib.figure.Figure at 0x104131150>"
      ]
     },
     "metadata": {},
     "output_type": "display_data"
    }
   ],
   "source": [
    "plt.figure(figsize=(8, 8))\n",
    "plt.xlabel('$log(\\Delta)$')\n",
    "plt.ylabel('$log\\  m(q.\\Delta)$')\n",
    "plt.ylim=(-3, -.5)\n",
    "\n",
    "zeta_q = list()\n",
    "qVec = np.array([.5, 1, 1.5, 2, 3])\n",
    "x = np.arange(1, 100)\n",
    "for q in qVec:\n",
    "    plt.plot(np.log(x), np.log(del_Raw(q, x)), 'o') \n",
    "    model = np.polyfit(np.log(x), np.log(del_Raw(q, x)), 1)\n",
    "    plt.plot(np.log(x), np.log(x) * model[0] + model[1])\n",
    "    zeta_q.append(model[0])\n",
    "    \n",
    "print zeta_q"
   ]
  },
  {
   "cell_type": "markdown",
   "metadata": {
    "slideshow": {
     "slide_type": "fragment"
    }
   },
   "source": [
    "Figure 2: $\\log m(q,\\Delta)$ as a function of $\\log \\Delta$, SPX."
   ]
  },
  {
   "cell_type": "markdown",
   "metadata": {
    "slideshow": {
     "slide_type": "slide"
    }
   },
   "source": [
    "### Monofractal scaling result\n",
    "\n",
    "- From the above log-log plot, we see that for each $q$, $m(q,\\Delta) \\propto \\Delta ^{\\zeta_q}$.\n",
    "\n",
    "\n",
    "- How does $\\zeta_q$ scale with $q$?"
   ]
  },
  {
   "cell_type": "markdown",
   "metadata": {
    "slideshow": {
     "slide_type": "slide"
    }
   },
   "source": [
    "### Scaling of $\\zeta_q$ with $q$"
   ]
  },
  {
   "cell_type": "code",
   "execution_count": 10,
   "metadata": {
    "collapsed": false,
    "jupyter": {
     "outputs_hidden": false
    },
    "slideshow": {
     "slide_type": "fragment"
    }
   },
   "outputs": [
    {
     "name": "stdout",
     "output_type": "stream",
     "text": [
      "0.131697049909\n"
     ]
    },
    {
     "data": {
      "image/png": "[encoded data removed]",
      "text/plain": [
       "<matplotlib.figure.Figure at 0x101bee350>"
      ]
     },
     "metadata": {},
     "output_type": "display_data"
    }
   ],
   "source": [
    "plt.figure(figsize=(8,8))\n",
    "plt.xlabel('q')\n",
    "plt.ylabel('$\\zeta_{q}$')\n",
    "plt.plot(qVec, zeta_q, 'or')\n",
    "\n",
    "line = np.polyfit(qVec[:4], zeta_q[:4],1)\n",
    "plt.plot(qVec, line[0] * qVec + line[1])\n",
    "h_est= line[0]\n",
    "print(h_est)"
   ]
  },
  {
   "cell_type": "markdown",
   "metadata": {
    "slideshow": {
     "slide_type": "fragment"
    }
   },
   "source": [
    "Figure 3: Scaling of $\\zeta_q$ with $q$."
   ]
  },
  {
   "cell_type": "markdown",
   "metadata": {
    "slideshow": {
     "slide_type": "slide"
    }
   },
   "source": [
    "We find the monofractal scaling relationship\n",
    "\n",
    "$$\n",
    "\\zeta_q = q\\,H\n",
    "$$\n",
    "\n",
    "with $H \\approx 0.13$.\n",
    "\n",
    "- Note however that $H$ does vary over time, in a narrow range.\n",
    "\n",
    "\n",
    "- Note also that our estimate of $H$ is biased high because we proxied instantaneous variance $v_t$ with its average over each day $\\frac 1T\\,\\int_0^T\\,v_t\\,dt$, where $T$ is one trading day."
   ]
  },
  {
   "cell_type": "markdown",
   "metadata": {
    "slideshow": {
     "slide_type": "slide"
    }
   },
   "source": [
    "### Estimated $H$ for all indices\n",
    "\n",
    "We now repeat this analysis for all 21 indices in the Oxford-Man dataset."
   ]
  },
  {
   "cell_type": "code",
   "execution_count": 11,
   "metadata": {
    "collapsed": true,
    "jupyter": {
     "outputs_hidden": true
    },
    "slideshow": {
     "slide_type": "fragment"
    }
   },
   "outputs": [],
   "source": [
    "def dlsig2(sic, x, pr=False):\n",
    "    if pr:\n",
    "        a= np.array([(sig-sig.shift(lag)).dropna() for lag in x])\n",
    "        a=a ** 2\n",
    "        print a.info()\n",
    "    return [np.mean((sig-sig.shift(lag)).dropna() ** 2) for lag in x]"
   ]
  },
  {
   "cell_type": "code",
   "execution_count": 12,
   "metadata": {
    "collapsed": false,
    "jupyter": {
     "outputs_hidden": false
    },
    "slideshow": {
     "slide_type": "subslide"
    }
   },
   "outputs": [],
   "source": [
    "h = list()\n",
    "nu = list()\n",
    "\n",
    "for col in rv1.columns:\n",
    "    sig = rv1[col]\n",
    "    sig = np.log(np.sqrt(sig))\n",
    "    sig = sig.dropna()\n",
    "    model = np.polyfit(np.log(x), np.log(dlsig2(sig, x)), 1)\n",
    "    nu.append(np.sqrt(np.exp(model[1])))\n",
    "    h.append(model[0]/2.)\n",
    "    \n",
    "OxfordH = pd.DataFrame({'names':rv1.columns, 'h_est': h, 'nu_est': nu})\n",
    "  "
   ]
  },
  {
   "cell_type": "code",
   "execution_count": 13,
   "metadata": {
    "collapsed": false,
    "jupyter": {
     "outputs_hidden": false
    },
    "slideshow": {
     "slide_type": "subslide"
    }
   },
   "outputs": [
    {
     "data": {
      "text/html": [
       "<div>\n",
       "<table border=\"1\" class=\"dataframe\">\n",
       "  <thead>\n",
       "    <tr style=\"text-align: right;\">\n",
       "      <th></th>\n",
       "      <th>h_est</th>\n",
       "      <th>names</th>\n",
       "      <th>nu_est</th>\n",
       "    </tr>\n",
       "  </thead>\n",
       "  <tbody>\n",
       "    <tr>\n",
       "      <th>0</th>\n",
       "      <td>0.133954</td>\n",
       "      <td>SPX2.rk</td>\n",
       "      <td>0.321337</td>\n",
       "    </tr>\n",
       "    <tr>\n",
       "      <th>1</th>\n",
       "      <td>0.142315</td>\n",
       "      <td>FTSE2.rk</td>\n",
       "      <td>0.270677</td>\n",
       "    </tr>\n",
       "    <tr>\n",
       "      <th>2</th>\n",
       "      <td>0.113366</td>\n",
       "      <td>N2252.rk</td>\n",
       "      <td>0.320396</td>\n",
       "    </tr>\n",
       "    <tr>\n",
       "      <th>3</th>\n",
       "      <td>0.150251</td>\n",
       "      <td>GDAXI2.rk</td>\n",
       "      <td>0.274873</td>\n",
       "    </tr>\n",
       "    <tr>\n",
       "      <th>4</th>\n",
       "      <td>NaN</td>\n",
       "      <td>RUT2.rk</td>\n",
       "      <td>NaN</td>\n",
       "    </tr>\n",
       "    <tr>\n",
       "      <th>5</th>\n",
       "      <td>0.083370</td>\n",
       "      <td>AORD2.rk</td>\n",
       "      <td>0.359025</td>\n",
       "    </tr>\n",
       "    <tr>\n",
       "      <th>6</th>\n",
       "      <td>0.131013</td>\n",
       "      <td>DJI2.rk</td>\n",
       "      <td>0.317327</td>\n",
       "    </tr>\n",
       "    <tr>\n",
       "      <th>7</th>\n",
       "      <td>NaN</td>\n",
       "      <td>IXIC2.rk</td>\n",
       "      <td>NaN</td>\n",
       "    </tr>\n",
       "    <tr>\n",
       "      <th>8</th>\n",
       "      <td>0.130485</td>\n",
       "      <td>FCHI2.rk</td>\n",
       "      <td>0.291967</td>\n",
       "    </tr>\n",
       "    <tr>\n",
       "      <th>9</th>\n",
       "      <td>0.103370</td>\n",
       "      <td>HSI2.rk</td>\n",
       "      <td>0.281453</td>\n",
       "    </tr>\n",
       "    <tr>\n",
       "      <th>10</th>\n",
       "      <td>0.125847</td>\n",
       "      <td>KS11.rk</td>\n",
       "      <td>0.274713</td>\n",
       "    </tr>\n",
       "    <tr>\n",
       "      <th>11</th>\n",
       "      <td>0.145671</td>\n",
       "      <td>AEX.rk</td>\n",
       "      <td>0.290187</td>\n",
       "    </tr>\n",
       "    <tr>\n",
       "      <th>12</th>\n",
       "      <td>0.178427</td>\n",
       "      <td>SSMI.rk</td>\n",
       "      <td>0.223249</td>\n",
       "    </tr>\n",
       "    <tr>\n",
       "      <th>13</th>\n",
       "      <td>0.128117</td>\n",
       "      <td>IBEX2.rk</td>\n",
       "      <td>0.281662</td>\n",
       "    </tr>\n",
       "    <tr>\n",
       "      <th>14</th>\n",
       "      <td>0.110092</td>\n",
       "      <td>NSEI.rk</td>\n",
       "      <td>0.324883</td>\n",
       "    </tr>\n",
       "    <tr>\n",
       "      <th>15</th>\n",
       "      <td>0.092252</td>\n",
       "      <td>MXX.rk</td>\n",
       "      <td>0.324180</td>\n",
       "    </tr>\n",
       "    <tr>\n",
       "      <th>16</th>\n",
       "      <td>0.106595</td>\n",
       "      <td>BVSP.rk</td>\n",
       "      <td>0.312907</td>\n",
       "    </tr>\n",
       "    <tr>\n",
       "      <th>17</th>\n",
       "      <td>NaN</td>\n",
       "      <td>GSPTSE.rk</td>\n",
       "      <td>NaN</td>\n",
       "    </tr>\n",
       "    <tr>\n",
       "      <th>18</th>\n",
       "      <td>0.119857</td>\n",
       "      <td>STOXX50E.rk</td>\n",
       "      <td>0.337045</td>\n",
       "    </tr>\n",
       "    <tr>\n",
       "      <th>19</th>\n",
       "      <td>0.127094</td>\n",
       "      <td>FTSTI.rk</td>\n",
       "      <td>0.228910</td>\n",
       "    </tr>\n",
       "    <tr>\n",
       "      <th>20</th>\n",
       "      <td>0.133361</td>\n",
       "      <td>FTSEMIB.rk</td>\n",
       "      <td>0.298712</td>\n",
       "    </tr>\n",
       "  </tbody>\n",
       "</table>\n",
       "</div>"
      ],
      "text/plain": [
       "       h_est        names    nu_est\n",
       "0   0.133954      SPX2.rk  0.321337\n",
       "1   0.142315     FTSE2.rk  0.270677\n",
       "2   0.113366     N2252.rk  0.320396\n",
       "3   0.150251    GDAXI2.rk  0.274873\n",
       "4        NaN      RUT2.rk       NaN\n",
       "5   0.083370     AORD2.rk  0.359025\n",
       "6   0.131013      DJI2.rk  0.317327\n",
       "7        NaN     IXIC2.rk       NaN\n",
       "8   0.130485     FCHI2.rk  0.291967\n",
       "9   0.103370      HSI2.rk  0.281453\n",
       "10  0.125847      KS11.rk  0.274713\n",
       "11  0.145671       AEX.rk  0.290187\n",
       "12  0.178427      SSMI.rk  0.223249\n",
       "13  0.128117     IBEX2.rk  0.281662\n",
       "14  0.110092      NSEI.rk  0.324883\n",
       "15  0.092252       MXX.rk  0.324180\n",
       "16  0.106595      BVSP.rk  0.312907\n",
       "17       NaN    GSPTSE.rk       NaN\n",
       "18  0.119857  STOXX50E.rk  0.337045\n",
       "19  0.127094     FTSTI.rk  0.228910\n",
       "20  0.133361   FTSEMIB.rk  0.298712"
      ]
     },
     "execution_count": 13,
     "metadata": {},
     "output_type": "execute_result"
    }
   ],
   "source": [
    "OxfordH"
   ]
  },
  {
   "cell_type": "markdown",
   "metadata": {
    "slideshow": {
     "slide_type": "slide"
    }
   },
   "source": [
    "### Distributions of $(\\log \\sigma_{t+\\Delta}-\\log \\sigma_t)$ for various lags $\\Delta$\n",
    "\n",
    "Having established these beautiful scaling results for the moments, how do the histograms look?"
   ]
  },
  {
   "cell_type": "code",
   "execution_count": 14,
   "metadata": {
    "collapsed": true,
    "jupyter": {
     "outputs_hidden": true
    },
    "slideshow": {
     "slide_type": "fragment"
    }
   },
   "outputs": [],
   "source": [
    "def plotScaling(j, scaleFactor):\n",
    "    col_name = rv1.columns[j]\n",
    "    v = rv1[col_name]\n",
    "    x = np.arange(1,101)\n",
    "    \n",
    "    def xDel(x, lag):\n",
    "        return x-x.shift(lag)\n",
    "    \n",
    "    def sdl(lag):\n",
    "        return (xDel(np.log(v), lag)).std()\n",
    "    \n",
    "    sd1 = (xDel(np.log(v), 1)).std()\n",
    "    h = OxfordH['h_est'][j]\n",
    "    f, ax = plt.subplots(2,2,sharex=False, sharey=False, figsize=(10, 10))\n",
    "    \n",
    "    for i_0 in range(0, 2):\n",
    "        for i_1 in range(0, 2):\n",
    "            la = scaleFactor ** (i_1*1+i_0*2)\n",
    "        \n",
    "            hist_val = xDel(np.log(v), la).dropna()\n",
    "            std = hist_val.std()\n",
    "            mean = hist_val.mean()\n",
    "        \n",
    "            ax[i_0][i_1].set_title('Lag = %s Days' %la)\n",
    "            n, bins, patches = ax[i_0][i_1].hist(hist_val.values, bins=100,\n",
    "                                   normed=1, facecolor='green',alpha=0.2)\n",
    "            ax[i_0][i_1].plot(bins, mlab.normpdf(bins,mean,std), \"r\")\n",
    "            ax[i_0][i_1].plot(bins, mlab.normpdf(bins,0,sd1 * la ** h), \"b--\")\n",
    "            hist_val.plot(kind='density', ax=ax[i_0][i_1])\n",
    "        \n",
    "   "
   ]
  },
  {
   "cell_type": "code",
   "execution_count": 15,
   "metadata": {
    "collapsed": false,
    "jupyter": {
     "outputs_hidden": false
    },
    "slideshow": {
     "slide_type": "subslide"
    }
   },
   "outputs": [
    {
     "data": {
      "image/png": "[encoded data removed]",
      "text/plain": [
       "<matplotlib.figure.Figure at 0x110457f90>"
      ]
     },
     "metadata": {},
     "output_type": "display_data"
    }
   ],
   "source": [
    " plotScaling(1,5)"
   ]
  },
  {
   "cell_type": "markdown",
   "metadata": {
    "slideshow": {
     "slide_type": "fragment"
    }
   },
   "source": [
    "Figure 4: Histograms of $(\\log \\sigma_{t+\\Delta}-\\log \\sigma_t)$ for various lags $\\Delta$; normal fit in red; $\\Delta=1$ normal fit scaled by $\\Delta^{0.14}$ in blue.\n"
   ]
  },
  {
   "cell_type": "markdown",
   "metadata": {
    "slideshow": {
     "slide_type": "slide"
    }
   },
   "source": [
    "### Universality?\n",
    "\n",
    "- <span>[Gatheral, Jaisson and Rosenbaum]<sup id=\"cite_ref-GJR\" class=\"reference\"><a href=\"#cite_note-GJR\"><span>[</span>5<span>]</span></a></sup> compute daily realized variance estimates over one hour windows for DAX and Bund futures contracts, finding similar scaling relationships.\n",
    "\n",
    "\n",
    "- We have also checked that Gold and Crude Oil futures scale similarly.\n",
    "\n",
    "    - Although the increments $(\\log \\sigma_{t+\\Delta}-\\log \\sigma_t)$ seem to be fatter tailed than Gaussian.  "
   ]
  },
  {
   "cell_type": "markdown",
   "metadata": {
    "slideshow": {
     "slide_type": "slide"
    }
   },
   "source": [
    "### A natural model of realized volatility\n",
    "\n",
    "- As noted originally by <span>[Andersen et al.]<sup id=\"cite_ref-ABDE\" class=\"reference\"><a href=\"#cite_note-ABDE\"><span>[</span>1<span>]</span></a></sup>, distributions of differences in the log of realized volatility are close to Gaussian.\n",
    "\n",
    "    - This motivates us to model $\\sigma_t$ as a lognormal random variable.\n",
    "\n",
    "\n",
    "- Moreover, the scaling property of variance of RV differences suggests the model:\n",
    "\n",
    "<a name=\"eq:dataDriven\"></a>(1)\n",
    "$$\n",
    "\\log \\sigma_{t+\\Delta} - \\log \\sigma_t =\\nu\\,\\left( W^H_{t+\\Delta}-W^H_t\\right)\n",
    "$$\n",
    "\n",
    "where $W^H$ is fractional Brownian motion."
   ]
  },
  {
   "cell_type": "markdown",
   "metadata": {
    "slideshow": {
     "slide_type": "subslide"
    }
   },
   "source": [
    "- In  <span>[Gatheral, Jaisson and Rosenbaum]<sup id=\"cite_ref-GJR\" class=\"reference\"><a href=\"#cite_note-GJR\"><span>[</span>5<span>]</span></a></sup>, we refer to a stationary version of [(1)](#eq:dataDriven) as the RFSV (for Rough Fractional Stochastic Volatility) model."
   ]
  },
  {
   "cell_type": "markdown",
   "metadata": {
    "slideshow": {
     "slide_type": "slide"
    }
   },
   "source": [
    "### Fractional Brownian motion (fBm)\n",
    "\n",
    "- *Fractional Brownian motion* (fBm) $\\{W^H_t; t \\in \\mathbb{R}\\}$ is the unique Gaussian process with mean zero and autocovariance function\n",
    "$$\n",
    "\\ee{ W^H_t\\,W^H_s  } = \\frac12\\,\\left\\{ |t|^{2\\,H}+|s|^{2\\,H}-|t-s|^{2\\,H}  \\right\\}\n",
    "$$\n",
    "where $H \\in (0,1)$ is called the *Hurst index* or parameter.\n",
    "   - In particular, when $H=1/2$, fBm is just Brownian motion.\n",
    " \n",
    "   - If $H>1/2$, increments are positively correlated.% so the process is trending.\n",
    "   - If $H<1/2$, increments are negatively correlated.% so the process is reverting.\n",
    "\n",
    " "
   ]
  },
  {
   "cell_type": "markdown",
   "metadata": {
    "slideshow": {
     "slide_type": "slide"
    }
   },
   "source": [
    "### Representations of fBm\n",
    "\n",
    "There are infinitely many possible representations of fBm in terms of Brownian motion.  For example, with $\\gamma = \\frac 12 - H$,\n",
    "\n",
    "\n",
    "<blockquote><div style=\"background-color:#add8e6; color:#FFFFFF; font-style: normal;  \" ><h4>\n",
    "Mandelbrot-Van Ness</h4>\n",
    "</div>\n",
    "<div style=\"background-color:#E8E8E8; color:#000000; font-style: normal; \">\n",
    "<br>\n",
    "\n",
    "$$\n",
    "W^H_t ={C_H}\\,\\left\\{\\int_{-\\infty}^t \\,\\frac{dW_s}{(t-s)^\\gamma} - \\int_{-\\infty}^0 \\,\\frac{dW_s}{(-s)^\\gamma}\\right\\}.\n",
    "$$\n",
    "<br>\n",
    "\n",
    "</div>\n",
    "\n",
    "</blockquote>"
   ]
  },
  {
   "cell_type": "markdown",
   "metadata": {
    "slideshow": {
     "slide_type": "subslide"
    }
   },
   "source": [
    "The choice\n",
    "\n",
    "$$\n",
    "C_H = \\sqrt{ \\frac{2\\,H\\,\\Gamma(3/2-H)}{\\Gamma(H+1/2)\\,\\Gamma(2-2\\,H)}}\n",
    "$$\n",
    "\n",
    "ensures that\n",
    "\n",
    "$$\n",
    "\\ee{W^H_t\\,W^H_s }= \\frac{1}{2}\\,\\left\\{t^{2 H} + s^{2 H} - |t-s|^{2 H}\\right\\}.\n",
    "$$"
   ]
  },
  {
   "cell_type": "markdown",
   "metadata": {
    "slideshow": {
     "slide_type": "slide"
    }
   },
   "source": [
    "### Does simulated RSFV data look real?"
   ]
  },
  {
   "cell_type": "markdown",
   "metadata": {
    "slideshow": {
     "slide_type": "fragment"
    }
   },
   "source": [
    "<h3><img src=\"http://mfe.baruch.cuny.edu/wp-content/uploads/2015/02/vol2.png\" align = \"left\" width=900></h3> "
   ]
  },
  {
   "cell_type": "markdown",
   "metadata": {
    "slideshow": {
     "slide_type": "fragment"
    }
   },
   "source": [
    "Figure 8: Volatility of SPX (above) and of the RFSV model (below)."
   ]
  },
  {
   "cell_type": "markdown",
   "metadata": {
    "slideshow": {
     "slide_type": "slide"
    }
   },
   "source": [
    "### Remarks on the comparison\n",
    "\n",
    " \n",
    "  - The simulated and actual graphs look very alike. \n",
    " \n",
    "  - Persistent periods of high volatility alternate with low volatility periods. \n",
    "  \n",
    "  - $H \\sim 0.1$ generates very rough looking sample paths (compared with $H=1/2$ for Brownian motion).\n",
    " \n",
    "  - Hence *rough volatility*.\n",
    "  "
   ]
  },
  {
   "cell_type": "markdown",
   "metadata": {
    "slideshow": {
     "slide_type": "subslide"
    }
   },
   "source": [
    "  - On closer inspection, we observe fractal-type behavior.\n",
    " \n",
    "  - The graph of volatility over a small time period looks like the same graph over a much longer time period.\n",
    "  \n",
    "  - This feature of volatility has been investigated both empirically and theoretically in, for example, <span>[Bacry and Muzy]<sup id=\"cite_ref-BacryMuzy\" class=\"reference\"><a href=\"#cite_note-BacryMuzy\"><span>[</span>3<span>]</span></a></sup>\n",
    ".\n",
    " \n",
    "  - In particular, their Multifractal Random Walk (MRW) is related to a limiting case of the RSFV model as $H \\to 0$.\n",
    "  \n",
    " "
   ]
  },
  {
   "cell_type": "markdown",
   "metadata": {
    "slideshow": {
     "slide_type": "slide"
    }
   },
   "source": [
    "### Pricing under rough volatility\n",
    "\n",
    "The foregoing behavior suggest the following model (see <span>[Bayer et al.]<sup id=\"cite_ref-BayerFriz\" class=\"reference\"><a href=\"#cite_note-BayerFriz\"><span>[</span>2<span>]</span></a></sup> for volatility under the real (or historical or physical) measure $\\mP$:\n",
    "\n",
    "$$\n",
    " \\log \\sigma_t =\\nu\\,W^H_t.\n",
    "$$\n",
    "\n",
    "Let $\\gamma=\\frac{1}{2}-H$.  We choose the Mandelbrot-Van Ness representation of fractional Brownian motion $W^H$ as follows:\n",
    "\n",
    "$$\n",
    "W^H_t ={C_H}\\,\\left\\{\\int_{-\\infty}^t \\,\\frac{dW^{\\mP}_s}{(t-s)^\\gamma} - \\int_{-\\infty}^0 \\,\\frac{dW^{\\mP}_s}{(-s)^\\gamma}\\right\\}.\n",
    "$$\n",
    "\n"
   ]
  },
  {
   "cell_type": "markdown",
   "metadata": {
    "slideshow": {
     "slide_type": "subslide"
    }
   },
   "source": [
    "Then\n",
    "\n",
    "$$\n",
    "\\begin{eqnarray}\n",
    "&&\\log v_u - \\log v_t \\nonumber\\\\\n",
    "&=&\\nu\\,C_H\\,\\left\\{ \\int_t^u\\,\\frac{1}{(u-s)^\\gamma}\\,d{W}^{\\mP}_s  +\\int_{-\\infty}^t\\,\\left[ \\frac{1}{(u-s)^\\gamma}-\\frac{1}{(t-s)^\\gamma} \\right]\\,d{W}^{\\mP}_s\\right\\}\\nonumber\\\\\n",
    "&=:& 2\\,\\nu\\,C_H\\,\\left[M_t(u)+ Z_t(u)\\right].\n",
    "\\end{eqnarray}\n",
    "$$\n",
    "\n",
    "- Note that $\\eefm{M_t(u)}{\\mP}=0$ and $Z_t(u)$ is $\\cF_t$-measurable.  \n",
    "\n",
    "  - To price options, it would seem that we would need to know $\\cF_t$, the entire history of the Brownian motion $W_s$ for $s<t$!\n",
    "\n",
    "  "
   ]
  },
  {
   "cell_type": "markdown",
   "metadata": {
    "slideshow": {
     "slide_type": "slide"
    }
   },
   "source": [
    "### Pricing under $\\mP$\n",
    "\n",
    "\n",
    "Let\n",
    "\n",
    "$$\n",
    "\\tilde W^{\\mP}_t(u) := \\sqrt{2\\,H}\\,\\int_t^u\\,\\frac{dW^{\\mP}_s}{(u-s)^\\gamma}\n",
    "$$\n",
    "\n",
    "With \n",
    "$\\eta := 2\\,\\nu\\,C_H/\\sqrt{2\\,H}$ we have $2\\,\\nu\\,C_H\\, M_t(u)\n",
    "= \\eta\\, \\tilde W^{\\mP}_t(u)$ so denoting the stochastic exponential by $\\cE(\\cdot)$, we may write\n",
    "\n",
    "$$\n",
    "\\begin{eqnarray}\n",
    "v_u &=& v_t \\exp\\left\\{  \\eta \\tilde W^{\\mP}_t(u) +\n",
    " 2\\,\\nu\\,C_H\\, \n",
    "Z_t(u) \\right\\}\\nonumber\\\\\n",
    "&=& \\eefm{v_u}{\\mP}\\,\\cE \\left(\\eta\\,\\tilde W^{\\mP}_t(u) \\right).\n",
    "%\\label{eq:rBergomiP}\n",
    "\\end{eqnarray}\n",
    "$$  \n",
    " "
   ]
  },
  {
   "cell_type": "markdown",
   "metadata": {
    "slideshow": {
     "slide_type": "subslide"
    }
   },
   "source": [
    "  - The conditional distribution of $v_u$ depends on $\\cF_t$ only through the variance forecasts $\\eefm{v_u}{\\mP}$, \n",
    " \n",
    " \n",
    " - To price options, one does not need to know $\\cF_t$, the entire history of the Brownian motion $W_s^{\\mP}$ for $s<t$.\n",
    "\n",
    " "
   ]
  },
  {
   "cell_type": "markdown",
   "metadata": {
    "slideshow": {
     "slide_type": "slide"
    }
   },
   "source": [
    "### Pricing under $\\mQ$\n",
    "\n",
    "Our model under $\\mP$ reads:\n",
    "\n",
    "<a name=\"eq:Pmodel\"></a>(2)\n",
    "$$\n",
    "v_u =\\eefm{v_u}{\\mP}\\,\\cE\\left(\\eta\\,\\tilde W^{\\mP}_t(u) \\right).\n",
    "%\\label{eq:Pmodel}\n",
    "$$\n",
    "\n",
    "Consider some general change of measure\n",
    "\n",
    "$$\n",
    "dW^{\\mP}_s = dW^{\\mQ}_s + \\lambda_s\\,ds,\n",
    "%\\label{eq:dQdP}\n",
    "$$\n",
    "\n",
    "where $\\{ \\lambda_s: s > t \\}$  has a natural interpretation as the price of volatility risk. "
   ]
  },
  {
   "cell_type": "markdown",
   "metadata": {
    "slideshow": {
     "slide_type": "subslide"
    }
   },
   "source": [
    "We may then rewrite [(2)](#eq:Pmodel) as\n",
    "\n",
    "$$\n",
    "v_u\n",
    "=  \\eefm{v_u}{\\mP}\\,\\cE\\left(\\eta\\,\\tilde W^{\\mQ}_t(u) \\right)\n",
    "\\exp \\left\\{ \\eta\\,\\sqrt{2\\,H}\\, \\int_t^u\\,\\frac{\\lambda_s}{(u-s)^\\gamma}\\,ds\\right\\}.\n",
    "%\\label{eq:explicitBergomiQ1}\n",
    "$$\n",
    " \n",
    "- Although the conditional distribution of $v_u$ under $\\mP$ is lognormal, it will not be lognormal in general under $\\mQ$.  \n",
    " \n",
    "  - The upward sloping smile in VIX options means $\\lambda_s$ cannot be deterministic in this picture."
   ]
  },
  {
   "cell_type": "markdown",
   "metadata": {
    "slideshow": {
     "slide_type": "slide"
    }
   },
   "source": [
    "### The rough Bergomi (rBergomi) model\n",
    "\n",
    "Let's nevertheless consider the simplest change of measure \n",
    "\n",
    "$$\n",
    "d{W}^{\\mP}_s = d{W}^{\\mQ}_s + \\lambda(s)\\,ds, \n",
    "$$\n",
    "\n",
    "where $\\lambda(s)$ is a deterministic function of $s$.  Then from [(2)](#eq:Pmodel), we would have\n",
    "\n",
    "$$\n",
    "\\begin{eqnarray}\n",
    "v_u \n",
    "&=&  \\eefm{v_u}{\\mP}\\,\\cE\\left(\\eta\\,\\tilde W^{\\mQ}_t(u) \\right)\n",
    "\\exp \\left\\{ \\eta\\,\\sqrt{2\\,H}\\,  \\int_t^u\\,\\frac{1}{(u-s)^\\gamma}\\,\\lambda(s)\\,ds\\right\\}\\nonumber\\\\\n",
    "&=& \\xi_t(u) \\,\\cE\\left(\\eta\\,\\tilde W^{\\mQ}_t(u) \\right)%\\label{eq:explicitBergomiQ}\n",
    "\\end{eqnarray}\n",
    "$$\n",
    "\n",
    "where the forward variances $\\xi_t(u) =  \\eefm{v_u}{\\mQ}$ are (at least in principle) tradable and  observed in the market.\n",
    "\n",
    " "
   ]
  },
  {
   "cell_type": "markdown",
   "metadata": {
    "slideshow": {
     "slide_type": "subslide"
    }
   },
   "source": [
    "-  $\\xi_t(u)$ is the product of two terms:\n",
    "  \n",
    "      - $ \\eefm{v_u}{\\mP}$ which depends on the historical path $\\{W_s, s<t \\}$ of the Brownian motion\n",
    "      - a term which depends on the price of risk $\\lambda(s)$.\n",
    "  \n",
    "  "
   ]
  },
  {
   "cell_type": "markdown",
   "metadata": {
    "slideshow": {
     "slide_type": "slide"
    }
   },
   "source": [
    "### Features of the rough Bergomi model\n",
    "\n",
    "\n",
    " - The rBergomi model is a non-Markovian generalization of the Bergomi model:\n",
    "$$\n",
    "\\eef{v_u}\\neq \\E[v_u|v_t].\n",
    "$$\n",
    "    - The rBergomi model is Markovian in the (infinite-dimensional) state vector $\\eefm{v_u}{\\mQ}=\\xi_t(u)$.\n",
    "\n",
    "\n",
    "  - We have achieved our aim from Session 1 of replacing the exponential kernels in the Bergomi model with a power-law kernel.  \n",
    " \n",
    "- We may therefore expect that the rBergomi model will generate a realistic term structure of ATM volatility skew."
   ]
  },
  {
   "cell_type": "markdown",
   "metadata": {
    "slideshow": {
     "slide_type": "slide"
    }
   },
   "source": [
    "### Re-interpretation of the conventional Bergomi model\n",
    "\n",
    " \n",
    "  - A conventional $n$-factor Bergomi model is not self-consistent for an arbitrary choice of the initial forward variance curve $\\xi_t(u)$.\n",
    " \n",
    " - $\\xi_t(u)=\\eef{v_u}$ should be consistent with the assumed dynamics.\n",
    "  "
   ]
  },
  {
   "cell_type": "markdown",
   "metadata": {
    "slideshow": {
     "slide_type": "subslide"
    }
   },
   "source": [
    "  \n",
    "- Viewed from the perspective of the fractional Bergomi model however:\n",
    " \n",
    "  - The initial curve $\\xi_t(u)$ reflects the history $\\{W_s; s<t\\}$ of the driving Brownian motion up to time $t$.\n",
    "  - The exponential kernels in the exponent of the conventional Bergomi model approximate more realistic power-law kernels.\n",
    "  \n",
    "\n",
    "  - The conventional two-factor Bergomi model is then justified in practice as a tractable Markovian engineering approximation to a more realistic fractional Bergomi model."
   ]
  },
  {
   "cell_type": "markdown",
   "metadata": {
    "slideshow": {
     "slide_type": "slide"
    }
   },
   "source": [
    "### The stock price process\n",
    "\n",
    " \n",
    "- The observed anticorrelation between price moves and volatility moves may be  modeled naturally by anticorrelating the Brownian motion $W$ that drives the volatility process with the Brownian motion driving the price process.  \n",
    "\n",
    "\n",
    "- Thus\n",
    "$$\n",
    "\\frac{dS_t}{S_t}=\\sqrt{v_t}\\,dZ_t\n",
    "$$\n",
    "with\n",
    "$$\n",
    "dZ_t = \\rho\\,dW_t + \\sqrt{1-\\rho^2}\\,dW^\\perp_t\n",
    "$$\n",
    "where $\\rho$ is the correlation between volatility moves and price moves.\n",
    "  "
   ]
  },
  {
   "cell_type": "markdown",
   "metadata": {
    "slideshow": {
     "slide_type": "slide"
    }
   },
   "source": [
    "### Simulation of the  rBergomi model\n",
    "\n",
    "We simulate the rBergomi model as follows:\n",
    " \n",
    "\n",
    "\n",
    "- Construct the  joint covariance matrix for the Volterra process $\\tilde\n",
    "  W$ and the Brownian motion $Z$ and compute its Cholesky decomposition.\n",
    "\n",
    "\n",
    "- For each time, generate iid normal random vectors {and\n",
    "    multiply them by the lower-triangular matrix obtained by the Cholesky\n",
    "    decomposition} to get a $m \\times 2\\,n$ matrix of paths of $\\tilde W$     and $Z$ with the correct joint marginals."
   ]
  },
  {
   "cell_type": "markdown",
   "metadata": {
    "slideshow": {
     "slide_type": "subslide"
    }
   },
   "source": [
    "- With these paths held in memory, we may evaluate the expectation under $\\mQ$ of any payoff of interest.\n",
    "\n",
    "\n",
    "\n",
    "\n",
    "- This procedure is very slow!\n",
    " \n",
    "    - Speeding up the simulation is work in progress.\n",
    "  "
   ]
  },
  {
   "cell_type": "markdown",
   "metadata": {
    "slideshow": {
     "slide_type": "slide"
    }
   },
   "source": [
    "### Guessing rBergomi model parameters\n",
    "\n",
    " \n",
    "- The rBergomi model has only three parameters: $H$, $\\eta$ and $\\rho$.\n",
    "\n",
    "\n",
    "- If we had a fast simulation, we could just iterate on these parameters to find the best fit to observed option prices.  But we don't."
   ]
  },
  {
   "cell_type": "markdown",
   "metadata": {
    "slideshow": {
     "slide_type": "subslide"
    }
   },
   "source": [
    "- However, the model parameters $H$, $\\eta$ and $\\rho$ have very direct interpretations:\n",
    " \n",
    "    - $H$ controls the decay of ATM skew $\\psi(\\tau)$ for very short expirations.\n",
    "    \n",
    "    - The product $\\rho\\,\\eta$ sets the level of the ATM skew for longer expirations.\n",
    "    \n",
    "      - Keeping  $\\rho\\,\\eta$ constant but decreasing $\\rho$ (so as to make it more negative) pushes the minimum of each smile towards higher strikes. \n",
    "  "
   ]
  },
  {
   "cell_type": "markdown",
   "metadata": {
    "slideshow": {
     "slide_type": "subslide"
    }
   },
   "source": [
    "- So we can guess parameters in practice.\n",
    "\n",
    "\n",
    "- As we will see, even without proper calibration (*i.e.* just guessing parameters), rBergomi model fits to the volatility surface are amazingly good."
   ]
  },
  {
   "cell_type": "markdown",
   "metadata": {
    "slideshow": {
     "slide_type": "slide"
    }
   },
   "source": [
    "### SPX smiles in the rBergomi model\n",
    "\n",
    " \n",
    "- In Figures 9 and 10, we show how well a rBergomi model simulation with guessed parameters fits the SPX option market as of February 4, 2010, a day when the ATM volatility term structure happened to be pretty flat.  \n",
    " \n",
    "   - rBergomi parameters were: $H=0.07$, $\\eta=1.9$, $\\rho=-0.9$.\n",
    "  \n",
    " \n",
    "\n",
    "- Only three parameters to get a very good fit to the whole SPX volatility surface!"
   ]
  },
  {
   "cell_type": "markdown",
   "metadata": {
    "slideshow": {
     "slide_type": "slide"
    }
   },
   "source": [
    "### rBergomi fits to SPX smiles as of 04-Feb-2010\n",
    "\n",
    "<h3><img src=\"http://mfe.baruch.cuny.edu/wp-content/uploads/2015/02/spxSmiles20140204-07.png\" align = \"left\" width=900></h3> "
   ]
  },
  {
   "cell_type": "markdown",
   "metadata": {
    "slideshow": {
     "slide_type": "fragment"
    }
   },
   "source": [
    "Figure 9: Red and blue points represent bid and offer SPX implied volatilities; orange smiles are from the rBergomi simulation."
   ]
  },
  {
   "cell_type": "markdown",
   "metadata": {
    "slideshow": {
     "slide_type": "slide"
    }
   },
   "source": [
    "### Shortest dated smile as of February 4, 2010\n",
    "\n",
    "<h3><img src=\"http://mfe.baruch.cuny.edu/wp-content/uploads/2015/02/spxSmiles20140204-07-1.png\" align = \"left\" width=900></h3> "
   ]
  },
  {
   "cell_type": "markdown",
   "metadata": {
    "slideshow": {
     "slide_type": "fragment"
    }
   },
   "source": [
    "Figure 10: Red and blue points represent bid and offer SPX implied volatilities; orange smile is from the rBergomi simulation.\n"
   ]
  },
  {
   "cell_type": "markdown",
   "metadata": {
    "slideshow": {
     "slide_type": "slide"
    }
   },
   "source": [
    "### ATM volatilities and skews\n",
    "\n",
    "In Figures 11 and 12, we see just how well the rBergomi model can match empirical skews and vols.  Recall also that the parameters we used are just guesses!"
   ]
  },
  {
   "cell_type": "markdown",
   "metadata": {
    "slideshow": {
     "slide_type": "slide"
    }
   },
   "source": [
    "### Term structure of ATM skew as of February 4, 2010\n",
    "\n",
    "<h3><img src=\"http://mfe.baruch.cuny.edu/wp-content/uploads/2015/02/atmSkew20100204.png\" align = \"left\" width=900></h3> "
   ]
  },
  {
   "cell_type": "markdown",
   "metadata": {
    "slideshow": {
     "slide_type": "fragment"
    }
   },
   "source": [
    "Figure 11: Blue points are empirical skews; the red line is from the rBergomi simulation."
   ]
  },
  {
   "cell_type": "markdown",
   "metadata": {
    "slideshow": {
     "slide_type": "slide"
    }
   },
   "source": [
    "### Term structure of ATM vol as of February 4, 2010\n",
    "\n",
    "<h3><img src=\"http://mfe.baruch.cuny.edu/wp-content/uploads/2015/02/atmVols20100204.png\" align = \"left\" width=900></h3> "
   ]
  },
  {
   "cell_type": "markdown",
   "metadata": {
    "slideshow": {
     "slide_type": "fragment"
    }
   },
   "source": [
    "Figure 12: Blue points are empirical ATM volatilities; the red line is from the rBergomi simulation."
   ]
  },
  {
   "cell_type": "markdown",
   "metadata": {
    "slideshow": {
     "slide_type": "slide"
    }
   },
   "source": [
    "### Another date\n",
    "\n",
    " \n",
    "  - Now we take a look at another date: August 14, 2013, two days before the last expiration date in our dataset.\n",
    " \n",
    " \n",
    "  - Options set at the open of August 16, 2013 so only one trading day left.\n",
    "  \n",
    "  \n",
    "  - Note in particular that the extreme short-dated smile is well reproduced by the rBergomi model.\n",
    " \n",
    " \n",
    "  - There is no need to add jumps!\n",
    "  "
   ]
  },
  {
   "cell_type": "markdown",
   "metadata": {
    "slideshow": {
     "slide_type": "slide"
    }
   },
   "source": [
    "### SPX smiles as of August 14, 2013\n",
    "\n",
    "<h3><img src=\"http://mfe.baruch.cuny.edu/wp-content/uploads/2015/02/spxSmiles20130814-05.png\" align = \"left\" width=900></h3> "
   ]
  },
  {
   "cell_type": "markdown",
   "metadata": {
    "slideshow": {
     "slide_type": "fragment"
    }
   },
   "source": [
    "Figure 13: Red and blue points represent bid and offer SPX implied volatilities; orange smiles are from the rBergomi simulation."
   ]
  },
  {
   "cell_type": "markdown",
   "metadata": {
    "slideshow": {
     "slide_type": "slide"
    }
   },
   "source": [
    "### The forecast formula\n",
    "\n",
    " \n",
    "- In the RFSV model [(1)](#eq:dataDriven), $\\log \\sigma_t \\approx \\nu\\,W^H_t+C$ for some constant $C$.\n",
    "\n",
    "\n",
    "-  <span>[Nuzman and Poor]<sup id=\"cite_ref-NuzmanPoor\" class=\"reference\"><a href=\"#cite_note-NuzmanPoor\"><span>[</span>7<span>]</span></a></sup> show that $W^H_{t+\\Delta}$ is conditionally Gaussian with conditional expectation\n",
    "\n",
    "$$\\E[W^H_{t+\\Delta}|\\cF_t]=\\frac{\\cos(H\\pi)}{\\pi} \\Delta^{H+1/2} \\int_{-\\infty}^t \\frac{W^H_s}{(t-s+\\Delta)(t-s)^{H+1/2}} ds\n",
    "$$  \n",
    "\n",
    "and conditional variance\n",
    "\n",
    "$$\n",
    "\\text{Var}[W^H_{t+\\Delta}|\\cF_t]=c\\,\\Delta^{2H}.\n",
    "$$\n",
    "where $$\n",
    "c = \\frac{\\Gamma(3/2-H)}{\\Gamma(H+1/2)\\,\\Gamma(2-2H)}.\n",
    "$$\n",
    "\n",
    " "
   ]
  },
  {
   "cell_type": "markdown",
   "metadata": {
    "slideshow": {
     "slide_type": "slide"
    }
   },
   "source": [
    "### The forecast formula\n",
    " \n",
    "Thus, we obtain \n",
    "\n",
    "<blockquote><div style=\"background-color:#add8e6; color:#FFFFFF; font-style: normal;  \" ><h4>\n",
    "Variance forecast formula</h4>\n",
    "</div>\n",
    "<div style=\"background-color:#E8E8E8; color:#000000; font-style: normal; \">\n",
    "<br>\n",
    "\n",
    "<a name=\"eq:vForecast\"></a>(3)\n",
    "$$\n",
    "\\eefm{v_{t+\\Delta}}{\\mP}=\\exp\\left\\{\\eefm{\\log(v_{t+\\Delta})}{\\mP}+2\\, c\\,\\nu^2\\Delta^{2\\,H}\\right\\}\n",
    "%\\label{eq:vForecast}\n",
    "$$\n",
    "\n",
    "<br>\n",
    "\n",
    "</div>\n",
    "\n",
    "</blockquote>\n",
    "\n",
    "where \n",
    "\n",
    "$$\n",
    "\\beas\n",
    "&&\\eefm{\\log v_{t+\\Delta}}{\\mP}\\\\\n",
    "&&= \\frac{\\cos(H\\pi)}{\\pi} \\Delta^{H+1/2} \\int_{-\\infty}^t \\frac{\\log v_s}{(t-s+\\Delta)(t-s)^{H+1/2}} ds.\n",
    "\\eeas\n",
    "$$"
   ]
  },
  {
   "cell_type": "markdown",
   "metadata": {
    "slideshow": {
     "slide_type": "slide"
    }
   },
   "source": [
    "### Implement variance forecast in Python"
   ]
  },
  {
   "cell_type": "code",
   "execution_count": 16,
   "metadata": {
    "collapsed": false,
    "jupyter": {
     "outputs_hidden": false
    },
    "slideshow": {
     "slide_type": "fragment"
    }
   },
   "outputs": [],
   "source": [
    "def c_tilde(h):\n",
    "    return scsp.gamma(3. / 2. - h) / scsp.gamma(h + 1. / 2.) * scsp.gamma(2. - 2. * h)\n",
    "\n",
    "def forecast_XTS(rvdata, h, date, nLags, delta, nu):\n",
    "    i = np.arange(nLags)\n",
    "    cf = 1./((i + 1. / 2.) ** (h + 1. / 2.) * (i + 1. / 2. + delta))\n",
    "    ldata = rvdata.truncate(after=date)\n",
    "    l = len(ldata)\n",
    "    ldata = np.log(ldata.iloc[l - nLags:])\n",
    "    ldata['cf'] = np.fliplr([cf])[0]\n",
    "    # print ldata\n",
    "    ldata = ldata.dropna()\n",
    "    fcst = (ldata.iloc[:, 0] * ldata['cf']).sum() / sum(ldata['cf'])\n",
    "    \n",
    "    return math.exp(fcst + 2 * nu ** 2 * c_tilde(h) * delta ** (2 * h))\n"
   ]
  },
  {
   "cell_type": "markdown",
   "metadata": {
    "slideshow": {
     "slide_type": "slide"
    }
   },
   "source": [
    "### SPX actual vs forecast variance"
   ]
  },
  {
   "cell_type": "code",
   "execution_count": 17,
   "metadata": {
    "collapsed": false,
    "jupyter": {
     "outputs_hidden": false
    },
    "slideshow": {
     "slide_type": "fragment"
    }
   },
   "outputs": [],
   "source": [
    "rvdata = pd.DataFrame(rv1['SPX2.rk'])\n",
    "nu  = OxfordH['nu_est'][0] # Vol of vol estimate for SPX\n",
    "h = OxfordH['h_est'][0] \n",
    "n = len(rvdata)\n",
    "delta = 1\n",
    "nLags = 500\n",
    "dates = rvdata.iloc[nLags:n-delta].index\n",
    "rv_predict = [forecast_XTS(rvdata, h=h, date=d, nLags=nLags,\n",
    "                           delta=delta, nu=nu) for d in dates]\n",
    "rv_actual = rvdata.iloc[nLags+delta:n].values"
   ]
  },
  {
   "cell_type": "markdown",
   "metadata": {
    "slideshow": {
     "slide_type": "slide"
    }
   },
   "source": [
    "### Scatter plot of delta days ahead predictions"
   ]
  },
  {
   "cell_type": "code",
   "execution_count": 18,
   "metadata": {
    "collapsed": false,
    "jupyter": {
     "outputs_hidden": false
    },
    "slideshow": {
     "slide_type": "fragment"
    }
   },
   "outputs": [
    {
     "data": {
      "image/png": "[encoded data removed]",
      "text/plain": [
       "<matplotlib.figure.Figure at 0x1180612d0>"
      ]
     },
     "metadata": {},
     "output_type": "display_data"
    }
   ],
   "source": [
    "plt.figure(figsize=(8, 8))\n",
    "plt.plot(rv_predict, rv_actual, 'bo');"
   ]
  },
  {
   "cell_type": "markdown",
   "metadata": {
    "slideshow": {
     "slide_type": "fragment"
    }
   },
   "source": [
    "Figure 14: Actual vols vs predicted vols."
   ]
  },
  {
   "cell_type": "markdown",
   "metadata": {
    "slideshow": {
     "slide_type": "slide"
    }
   },
   "source": [
    "### Superimpose actual and predicted vols"
   ]
  },
  {
   "cell_type": "code",
   "execution_count": 19,
   "metadata": {
    "collapsed": false,
    "jupyter": {
     "outputs_hidden": false
    },
    "slideshow": {
     "slide_type": "fragment"
    }
   },
   "outputs": [
    {
     "data": {
      "image/png": "[encoded data removed]",
      "text/plain": [
       "<matplotlib.figure.Figure at 0x1180316d0>"
      ]
     },
     "metadata": {},
     "output_type": "display_data"
    }
   ],
   "source": [
    "plt.figure(figsize=(11, 6))\n",
    "vol_actual = np.sqrt(np.multiply(rv_actual,252))\n",
    "vol_predict = np.sqrt(np.multiply(rv_predict,252))\n",
    "plt.plot(vol_actual, \"b\")\n",
    "plt.plot(vol_predict, \"r\");"
   ]
  },
  {
   "cell_type": "markdown",
   "metadata": {
    "slideshow": {
     "slide_type": "fragment"
    }
   },
   "source": [
    "Figure 15: Actual volatilities in blue; predicted vols in red."
   ]
  },
  {
   "cell_type": "markdown",
   "metadata": {
    "slideshow": {
     "slide_type": "slide"
    }
   },
   "source": [
    "### Forecasting the variance swap curve\n",
    "\n",
    "Finally, we forecast the whole variance swap curve using the variance forecasting formula [(3)](#eq:vForecast).\n"
   ]
  },
  {
   "cell_type": "code",
   "execution_count": 20,
   "metadata": {
    "collapsed": false,
    "jupyter": {
     "outputs_hidden": false
    },
    "slideshow": {
     "slide_type": "fragment"
    }
   },
   "outputs": [],
   "source": [
    "def xi(date, tt, nu,h, tscale):  # dt=(u-t) is in units of years\n",
    "    rvdata = pd.DataFrame(rv1['SPX2.rk'])\n",
    "    return [ forecast_XTS(rvdata,h=h,date=date,nLags=500,delta=dt*tscale,nu=nu) for dt in tt]\n",
    "\n",
    "nu = OxfordH[\"nu_est\"][0]\n",
    "h = OxfordH[\"h_est\"][0]\n",
    "\n",
    "def varSwapCurve(date, bigT, nSteps, nu, h, tscale, onFactor):\n",
    "  # Make vector of fwd variances\n",
    "  tt = [ float(i) * (bigT) / nSteps for i in range(nSteps+1)]\n",
    "  delta_t = tt[1]\n",
    "  xicurve = xi(date, tt, nu, h, tscale)\n",
    "  xicurve_mid = (np.array(xicurve[0:nSteps]) + np.array(xicurve[1:nSteps+1])) / 2\n",
    "  xicurve_int = np.cumsum(xicurve_mid) * delta_t\n",
    "  varcurve1 = np.divide(xicurve_int, np.array(tt[1:]))\n",
    "  varcurve = np.array([xicurve[0],]+list(varcurve1))\n",
    "  varcurve = varcurve * onFactor * tscale #  onFactor is to compensate for overnight moves\n",
    "  res = pd.DataFrame({\"texp\":np.array(tt), \"vsQuote\":np.sqrt(varcurve)})\n",
    "  return(res)"
   ]
  },
  {
   "cell_type": "code",
   "execution_count": 21,
   "metadata": {
    "collapsed": false,
    "jupyter": {
     "outputs_hidden": false
    },
    "slideshow": {
     "slide_type": "subslide"
    }
   },
   "outputs": [
    {
     "data": {
      "text/plain": [
       "array([ 0.21949454,  0.21398188,  0.2117466 ,  0.21262899])"
      ]
     },
     "execution_count": 21,
     "metadata": {},
     "output_type": "execute_result"
    }
   ],
   "source": [
    "def varSwapForecast(date,tau,nu,h,tscale,onFactor):\n",
    "  vsc = varSwapCurve(date, bigT=2.5, nSteps=100, nu=nu, h=h,\n",
    "                    tscale=tscale, onFactor=onFactor) # Creates the whole curve\n",
    "  x = vsc['texp']\n",
    "  y = vsc['vsQuote']\n",
    "  res = stineman_interp(tau,x,y,None)\n",
    "\n",
    "  return(res)\n",
    "\n",
    "# Test the function\n",
    "\n",
    "tau = (.25,.5,1,2)\n",
    "date = dt.datetime(2008,9,8)\n",
    "varSwapForecast(date,tau,nu=nu,h=h,tscale=252,onFactor=1)"
   ]
  },
  {
   "cell_type": "markdown",
   "metadata": {
    "slideshow": {
     "slide_type": "slide"
    }
   },
   "source": [
    "### 'Constructing a time series of variance swap curves\n",
    "\n",
    "For each of 2,658 days from Jan 27, 2003 to August 31, 2013:\n",
    " \n",
    "  - We compute proxy variance swaps from closing prices of SPX options sourced from OptionMetrics (www.optionmetrics.com) via WRDS.\n",
    "  \n",
    "  \n",
    "  - We form the forecasts $\\eefm{v_u}{\\mP}$ using [(3)](#eq:vForecast) with 500 lags of SPX RV data sourced from The Oxford-Man Institute of Quantitative Finance (http://realized.oxford-man.ox.ac.uk).\n",
    " \n",
    " "
   ]
  },
  {
   "cell_type": "markdown",
   "metadata": {
    "slideshow": {
     "slide_type": "subslide"
    }
   },
   "source": [
    " \n",
    "   - We note that the actual variance swap curve is a factor (of roughly 1.4) higher than the forecast, which we may attribute to a combination of overnight movements of the index and the price of volatility risk.\n",
    " \n",
    " \n",
    " - Forecasts must therefore be rescaled to obtain close-to-close realized variance forecasts."
   ]
  },
  {
   "cell_type": "markdown",
   "metadata": {
    "slideshow": {
     "slide_type": "slide"
    }
   },
   "source": [
    "### 3-month forecast vs actual variance swaps\n",
    "\n",
    "<h3><img src=\"http://mfe.baruch.cuny.edu/wp-content/uploads/2015/02/vsfa3m.png\" align = \"left\" width=900></h3> "
   ]
  },
  {
   "cell_type": "markdown",
   "metadata": {
    "slideshow": {
     "slide_type": "fragment"
    }
   },
   "source": [
    "Figure 16: Actual (proxy) 3-month variance swap quotes in blue vs forecast in red (with no scaling factor)."
   ]
  },
  {
   "cell_type": "markdown",
   "metadata": {
    "slideshow": {
     "slide_type": "slide"
    }
   },
   "source": [
    "### Ratio of actual to forecast\n",
    "\n",
    "<h3><img src=\"http://mfe.baruch.cuny.edu/wp-content/uploads/2015/02/3mratio.png\" align = \"left\" width=900></h3>"
   ]
  },
  {
   "cell_type": "markdown",
   "metadata": {
    "slideshow": {
     "slide_type": "fragment"
    }
   },
   "source": [
    "Figure 17: The ratio between 3-month actual variance swap quotes and 3-month forecasts."
   ]
  },
  {
   "cell_type": "markdown",
   "metadata": {
    "slideshow": {
     "slide_type": "slide"
    }
   },
   "source": [
    "### The Lehman weekend\n",
    "\n",
    " \n",
    "  -  Empirically, it seems that the variance curve is a simple scaling factor times the forecast, but that this scaling factor is time-varying.\n",
    "  \n",
    "      - We can think of this factor as having two multiplicative components: the overnight factor, and the price of volatility risk.\n",
    "\n",
    "\n",
    "\n",
    "  - Recall that as of the close on Friday September 12, 2008, it was widely believed that Lehman Brothers would be rescued over the weekend. By Monday morning, we knew that Lehman had failed. "
   ]
  },
  {
   "cell_type": "markdown",
   "metadata": {
    "slideshow": {
     "slide_type": "subslide"
    }
   },
   "source": [
    "- In Figure 18, we see that variance swap curves just before and just after the collapse of Lehman are just rescaled versions of the RFSV forecast curves.\n",
    "\n",
    "  "
   ]
  },
  {
   "cell_type": "markdown",
   "metadata": {
    "slideshow": {
     "slide_type": "slide"
    }
   },
   "source": [
    "### We need variance swap estimates for 12-Sep-2008 and 15-Sep-2008\n",
    "\n",
    "We proxy these by taking SVI fits for the two dates and computing the log-strips."
   ]
  },
  {
   "cell_type": "code",
   "execution_count": 22,
   "metadata": {
    "collapsed": true,
    "jupyter": {
     "outputs_hidden": true
    },
    "slideshow": {
     "slide_type": "fragment"
    }
   },
   "outputs": [],
   "source": [
    "varSwaps12 =(\n",
    "    0.2872021, 0.2754535, 0.2601864, 0.2544684, 0.2513854, 0.2515314,\n",
    "    0.2508418, 0.2520099, 0.2502763, 0.2503309, 0.2580933, 0.2588361, \n",
    "    0.2565093)\n",
    "\n",
    "texp12 = (\n",
    "    0.01916496, 0.04654346, 0.09582478, 0.19164956, 0.26830938, 0.29842574,\n",
    "    0.51745380, 0.54483231, 0.76659822, 0.79397673, 1.26488706, 1.76317591, \n",
    "    2.26146475)\n",
    "\n",
    "varSwaps15 = (\n",
    "    0.4410505, 0.3485560, 0.3083603, 0.2944378, 0.2756881, 0.2747838, \n",
    "    0.2682212, 0.2679770, 0.2668113, 0.2706713, 0.2729533, 0.2689598, \n",
    "    0.2733176)\n",
    "\n",
    "texp15 = (\n",
    "    0.01095140, 0.03832991, 0.08761123, 0.18343600, 0.26009582, 0.29021218, \n",
    "    0.50924025, 0.53661875, 0.75838467, 0.78576318, 1.25667351, 1.75496235, \n",
    "    2.25325120)"
   ]
  },
  {
   "cell_type": "markdown",
   "metadata": {
    "slideshow": {
     "slide_type": "slide"
    }
   },
   "source": [
    "### Actual vs predicted over the Lehman weekend\n"
   ]
  },
  {
   "cell_type": "code",
   "execution_count": 23,
   "metadata": {
    "collapsed": false,
    "jupyter": {
     "outputs_hidden": false
    },
    "slideshow": {
     "slide_type": "fragment"
    }
   },
   "outputs": [],
   "source": [
    "nu = OxfordH['nu_est'][0]\n",
    "h = OxfordH['h_est'][0]\n",
    "date1 = dt.datetime(2008, 9, 12)\n",
    "date2 = dt.datetime(2008, 9, 15)\n",
    "\n",
    "# Variance curve fV model forecasts\n",
    "tau1000 = [ float(i) * 2.5 / 1000. for i in range(1,1001)]\n",
    "vs1 = varSwapForecast(date1, tau1000, nu=nu,h=h, tscale=252, onFactor=1.29)\n",
    "vs2 = varSwapForecast(date2, tau1000, nu=nu,h=h, tscale=252, onFactor=1.29)"
   ]
  },
  {
   "cell_type": "code",
   "execution_count": 24,
   "metadata": {
    "collapsed": false,
    "jupyter": {
     "outputs_hidden": false
    },
    "slideshow": {
     "slide_type": "fragment"
    }
   },
   "outputs": [
    {
     "data": {
      "image/png": "[encoded data removed]",
      "text/plain": [
       "<matplotlib.figure.Figure at 0x10d69c550>"
      ]
     },
     "metadata": {},
     "output_type": "display_data"
    }
   ],
   "source": [
    "plt.figure(figsize=(11, 6))\n",
    "plt.plot(texp12, varSwaps12, \"r\")\n",
    "plt.plot(texp15, varSwaps15, \"b\")\n",
    "plt.plot(tau1000, vs1, \"r--\")\n",
    "plt.plot(tau1000, vs2, \"b--\");"
   ]
  },
  {
   "cell_type": "markdown",
   "metadata": {
    "slideshow": {
     "slide_type": "fragment"
    }
   },
   "source": [
    "Figure 18: SPX variance swap curves as of September 12, 2008 (red) and September 15, 2008 (blue). The dashed curves are RFSV model forecasts rescaled by the 3-month ratio ($1.29$) as of the Friday close."
   ]
  },
  {
   "cell_type": "markdown",
   "metadata": {
    "slideshow": {
     "slide_type": "slide"
    }
   },
   "source": [
    "### Remarks\n",
    "\n",
    "We note that\n",
    " \n",
    "  - The actual variance swaps curves are very close to the forecast curves, up to a scaling factor.\n",
    "  \n",
    "  \n",
    "  - We are able to explain the change in the variance swap curve with only one extra observation: daily variance over the trading day on Monday 15-Sep-2008. \n",
    " \n",
    " \n",
    " - The SPX options market appears to be backward-looking in a very sophisticated way.\n",
    "\n",
    " "
   ]
  },
  {
   "cell_type": "markdown",
   "metadata": {
    "slideshow": {
     "slide_type": "slide"
    }
   },
   "source": [
    "### The Flash Crash\n",
    "\n",
    " \n",
    "- The so-called Flash Crash of Thursday May 6, 2010 caused  intraday realized variance to be much higher than normal.   \n",
    "  \n",
    "  \n",
    "- In Figure 19, we plot the actual variance swap curves as of the Wednesday and Friday market closes together with forecast curves rescaled by the 3-month ratio as of the close on Wednesday May 5 (which was $2.52$).  \n",
    "  \n",
    "  \n",
    "- We see that the actual variance curve as of the close on Friday is consistent with a forecast from the time series of realized variance that *includes* the anomalous price action of Thursday May 6. "
   ]
  },
  {
   "cell_type": "markdown",
   "metadata": {
    "slideshow": {
     "slide_type": "slide"
    }
   },
   "source": [
    "### Variance swap estimates \n",
    "\n",
    "We again proxy variance swaps for 05-May-2010, 07-May-2010 and 10-May-2010 by taking SVI fits (see <span>[Gatheral and Jacquier]<sup id=\"cite_ref-GatheralJacquierSSVI\" class=\"reference\"><a href=\"#cite_note-GatheralJacquierSSVI\"><span>[</span>4<span>]</span></a></sup> ) for the three dates and computing the log-strips."
   ]
  },
  {
   "cell_type": "code",
   "execution_count": 25,
   "metadata": {
    "collapsed": true,
    "jupyter": {
     "outputs_hidden": true
    },
    "slideshow": {
     "slide_type": "fragment"
    }
   },
   "outputs": [],
   "source": [
    "varSwaps5 = (\n",
    "    0.4250369, 0.2552473, 0.2492892, 0.2564899, 0.2612677, 0.2659618, 0.2705928, 0.2761203,\n",
    "    0.2828139, 0.2841165, 0.2884955, 0.2895839, 0.2927817, 0.2992602, 0.3116500)\n",
    "\n",
    "texp5 = (\n",
    "    0.002737851, 0.043805613, 0.120465435, 0.150581793, 0.197125257, 0.292950034,\n",
    "    0.369609856, 0.402464066, 0.618754278, 0.654346338, 0.867898700, 0.900752909,\n",
    "    1.117043121, 1.615331964, 2.631074606)\n",
    " \n",
    "varSwaps7 = (\n",
    "    0.5469727, 0.4641713, 0.3963352, 0.3888213, 0.3762354, 0.3666858, 0.3615814, 0.3627013,\n",
    "    0.3563324, 0.3573946, 0.3495730, 0.3533829, 0.3521515, 0.3506186, 0.3594066)\n",
    "\n",
    "texp7 = (\n",
    "    0.01642710, 0.03832991, 0.11498973, 0.14510609, 0.19164956, 0.28747433, 0.36413415,\n",
    "    0.39698836, 0.61327858, 0.64887064, 0.86242300, 0.89527721, 1.11156742, 1.60985626,\n",
    "    2.62559890)\n",
    "\n",
    "varSwaps10 = (\n",
    "    0.3718439, 0.3023223, 0.2844810, 0.2869835, 0.2886912, 0.2905637, 0.2957070, 0.2960737,\n",
    "    0.3005086, 0.3031188, 0.3058492, 0.3065815, 0.3072041, 0.3122905, 0.3299425)\n",
    "\n",
    "texp10 = (\n",
    "    0.008213552, 0.030116359, 0.106776181, 0.136892539, 0.183436003, 0.279260780,\n",
    "    0.355920602, 0.388774812, 0.605065024, 0.640657084, 0.854209446, 0.887063655,\n",
    "    1.103353867, 1.601642710, 2.617385352)"
   ]
  },
  {
   "cell_type": "code",
   "execution_count": 26,
   "metadata": {
    "collapsed": false,
    "jupyter": {
     "outputs_hidden": false
    },
    "slideshow": {
     "slide_type": "subslide"
    }
   },
   "outputs": [],
   "source": [
    "date1 = dt.datetime(2010, 5, 5)\n",
    "date2 = dt.datetime(2010, 5, 7)\n",
    "\n",
    "vsf5 = varSwapCurve(date1, bigT=2.5, nSteps=100, nu=nu, h=h, tscale=252, onFactor=2.52)\n",
    "vsf7 = varSwapCurve(date2, bigT=2.5, nSteps=100, nu=nu, h=h, tscale=252, onFactor=2.52)"
   ]
  },
  {
   "cell_type": "code",
   "execution_count": 27,
   "metadata": {
    "collapsed": false,
    "jupyter": {
     "outputs_hidden": false
    },
    "slideshow": {
     "slide_type": "slide"
    }
   },
   "outputs": [
    {
     "data": {
      "image/png": "[encoded data removed]",
      "text/plain": [
       "<matplotlib.figure.Figure at 0x1040b0250>"
      ]
     },
     "metadata": {},
     "output_type": "display_data"
    }
   ],
   "source": [
    "plt.figure(figsize=(11, 6))\n",
    "plt.plot(texp5, varSwaps5, \"r\", label='May 5')\n",
    "plt.plot(texp7, varSwaps7, \"g\", label='May 7')\n",
    "\n",
    "plt.legend()\n",
    "plt.xlabel(\"Time to maturity\")\n",
    "plt.ylabel(\"Variance swap quote\")\n",
    "\n",
    "plt.plot(vsf5['texp'], vsf5['vsQuote'], \"r--\")\n",
    "plt.plot(vsf7['texp'], vsf7['vsQuote'], \"g--\");"
   ]
  },
  {
   "cell_type": "markdown",
   "metadata": {
    "slideshow": {
     "slide_type": "fragment"
    }
   },
   "source": [
    "Figure 19: SPX variance swap curves as of May 5, 2010 (red) and May 7, 2010 (green). The dashed curves are RFSV model forecasts rescaled by the 3-month ratio ($2.52$) as of the close on Wednesday May 5.  The curve as of the close on May 7 is consistent with the forecast **including** the crazy moves on May 6.\n"
   ]
  },
  {
   "cell_type": "markdown",
   "metadata": {
    "slideshow": {
     "slide_type": "slide"
    }
   },
   "source": [
    "### The weekend after the Flash Crash\n",
    "\n",
    "Now we plot forecast and actual variance swap curves as of the close on Friday May 7 and Monday May 10."
   ]
  },
  {
   "cell_type": "code",
   "execution_count": 28,
   "metadata": {
    "collapsed": false,
    "jupyter": {
     "outputs_hidden": false
    },
    "slideshow": {
     "slide_type": "fragment"
    }
   },
   "outputs": [],
   "source": [
    "date1 = dt.datetime(2010,5,7)\n",
    "date2 = dt.datetime(2010,5,10)\n",
    "\n",
    "vsf7 = varSwapCurve(date1, bigT=2.5, nSteps=100, nu=nu, h=h, tscale=252, onFactor=2.52)\n",
    "vsf10 = varSwapCurve(date2, bigT=2.5, nSteps=100, nu=nu, h=h, tscale=252, onFactor=2.52)"
   ]
  },
  {
   "cell_type": "code",
   "execution_count": 29,
   "metadata": {
    "collapsed": false,
    "jupyter": {
     "outputs_hidden": false
    },
    "slideshow": {
     "slide_type": "subslide"
    }
   },
   "outputs": [
    {
     "data": {
      "image/png": "[encoded data removed]",
      "text/plain": [
       "<matplotlib.figure.Figure at 0x1180f31d0>"
      ]
     },
     "metadata": {},
     "output_type": "display_data"
    }
   ],
   "source": [
    "plt.figure(figsize=(11, 6))\n",
    "plt.plot(texp7, varSwaps7, \"g\", label='May 7')\n",
    "plt.plot(texp10, varSwaps10, \"m\", label='May 10')\n",
    "\n",
    "plt.legend()\n",
    "plt.xlabel(\"Time to maturity\")\n",
    "plt.ylabel(\"Variance swap quote\")\n",
    "\n",
    "plt.plot(vsf7['texp'], vsf7['vsQuote'], \"g--\")\n",
    "plt.plot(vsf10['texp'], vsf10['vsQuote'], \"m--\");"
   ]
  },
  {
   "cell_type": "markdown",
   "metadata": {
    "slideshow": {
     "slide_type": "fragment"
    }
   },
   "source": [
    "Figure 20: The May 10 actual curve is  inconsistent with a forecast that includes the Flash Crash.  \n"
   ]
  },
  {
   "cell_type": "markdown",
   "metadata": {
    "slideshow": {
     "slide_type": "slide"
    }
   },
   "source": [
    "Now let's see what happens if we exclude the Flash Crash from the time series used to generate the variance curve forecast. "
   ]
  },
  {
   "cell_type": "code",
   "execution_count": 30,
   "metadata": {
    "collapsed": false,
    "jupyter": {
     "outputs_hidden": false
    },
    "slideshow": {
     "slide_type": "fragment"
    }
   },
   "outputs": [
    {
     "data": {
      "image/png": "[encoded data removed]",
      "text/plain": [
       "<matplotlib.figure.Figure at 0x101bc7c90>"
      ]
     },
     "metadata": {},
     "output_type": "display_data"
    }
   ],
   "source": [
    "plt.figure(figsize=(11, 6))\n",
    "ax = plt.subplot(111)\n",
    "rvdata_p = rvdata.drop((dt.datetime(2010, 5, 6)), axis=0)\n",
    "rvdata.loc[\"2010-05-04\":\"2010-05-10\"].plot(ax=ax, legend=False)\n",
    "rvdata_p.loc[\"2010-05-04\":\"2010-05-10\"].plot(ax=ax, legend=False);"
   ]
  },
  {
   "cell_type": "markdown",
   "metadata": {
    "slideshow": {
     "slide_type": "fragment"
    }
   },
   "source": [
    "Figure 21: `rvdata_p` has the May 6 realized variance datapoint eliminated (green line).  Notice the crazy realized variance estimate for May 6!\n",
    "\n",
    "We need a new variance curve forecast function that uses the new time series."
   ]
  },
  {
   "cell_type": "code",
   "execution_count": 31,
   "metadata": {
    "collapsed": false,
    "jupyter": {
     "outputs_hidden": false
    },
    "slideshow": {
     "slide_type": "subslide"
    }
   },
   "outputs": [
    {
     "data": {
      "text/plain": [
       "array([ 0.26077084,  0.25255902,  0.25299844,  0.26116175])"
      ]
     },
     "execution_count": 31,
     "metadata": {},
     "output_type": "execute_result"
    }
   ],
   "source": [
    "def xip(date, tt, nu,h, tscale):  # dt=(u-t) is in units of years\n",
    "    rvdata = pd.DataFrame(rv1['SPX2.rk'])\n",
    "    rvdata_p = rvdata.drop((dt.datetime(2010, 5, 6)), axis=0)\n",
    "    return [ forecast_XTS(rvdata_p, h=h, date=date,nLags=500,\n",
    "                          delta=delta_t * tscale, nu=nu) for delta_t in tt]\n",
    "\n",
    "nu = OxfordH[\"nu_est\"][0]\n",
    "h = OxfordH[\"h_est\"][0]\n",
    "\n",
    "def varSwapCurve_p(date, bigT, nSteps, nu, h, tscale, onFactor):\n",
    "  # Make vector of fwd variances\n",
    "  tt = [ float(i) * (bigT) / nSteps for i in range(nSteps+1)]\n",
    "  delta_t = tt[1]\n",
    "  xicurve = xip(date, tt, nu, h, tscale)\n",
    "  xicurve_mid = (np.array(xicurve[0:nSteps]) + np.array(xicurve[1:nSteps + 1])) / 2\n",
    "  xicurve_int = np.cumsum(xicurve_mid) * delta_t\n",
    "  varcurve1 = np.divide(xicurve_int, np.array(tt[1:]))\n",
    "  varcurve = np.array([xicurve[0],]+list(varcurve1))\n",
    "  varcurve = varcurve * onFactor * tscale #  onFactor is to compensate for overnight moves\n",
    "  res = pd.DataFrame({\"texp\":np.array(tt), \"vsQuote\":np.sqrt(varcurve)})\n",
    "  return(res)\n",
    "\n",
    "def varSwapForecast_p(date, tau, nu, h, tscale, onFactor):\n",
    "  vsc = varSwapCurve_p(date, bigT=2.5, nSteps=100, nu=nu, h=h,\n",
    "                    tscale=tscale, onFactor=onFactor) # Creates the whole curve\n",
    "  x = vsc['texp']\n",
    "  y = vsc['vsQuote']\n",
    "  res = stineman_interp(tau, x, y, None)\n",
    "\n",
    "  return(res)\n",
    "\n",
    "# Test the function\n",
    "\n",
    "tau = (.25, .5 ,1, 2)\n",
    "date = dt.datetime(2010, 5, 10)\n",
    "varSwapForecast_p(date, tau, nu=nu, h=h, tscale=252, onFactor=1. / (1 - .35))"
   ]
  },
  {
   "cell_type": "markdown",
   "metadata": {
    "slideshow": {
     "slide_type": "slide"
    }
   },
   "source": [
    "Finally, we compare our new forecast curves with the actuals."
   ]
  },
  {
   "cell_type": "code",
   "execution_count": 32,
   "metadata": {
    "collapsed": false,
    "jupyter": {
     "outputs_hidden": false
    },
    "slideshow": {
     "slide_type": "fragment"
    }
   },
   "outputs": [],
   "source": [
    "date1 = dt.datetime(2010, 5, 7)\n",
    "date2 = dt.datetime(2010, 5, 10)\n",
    "\n",
    "vsf7 = varSwapCurve(date1, bigT=2.5, nSteps=100, nu=nu, h=h, tscale=252, onFactor=2.52)\n",
    "vsf10p = varSwapCurve_p(date2, bigT=2.5, nSteps=100, nu=nu, h=h, tscale=252, onFactor=2.52)"
   ]
  },
  {
   "cell_type": "code",
   "execution_count": 33,
   "metadata": {
    "collapsed": false,
    "jupyter": {
     "outputs_hidden": false
    },
    "slideshow": {
     "slide_type": "subslide"
    }
   },
   "outputs": [
    {
     "data": {
      "image/png": "[encoded data removed]",
      "text/plain": [
       "<matplotlib.figure.Figure at 0x1180a08d0>"
      ]
     },
     "metadata": {},
     "output_type": "display_data"
    }
   ],
   "source": [
    "plt.figure(figsize=(11, 6))\n",
    "plt.plot(texp7, varSwaps7, \"g\", label='May 7')\n",
    "plt.plot(texp10, varSwaps10, \"m\", label='May 10')\n",
    "\n",
    "plt.legend()\n",
    "plt.xlabel(\"Time to maturity\")\n",
    "plt.ylabel(\"Variance swap quote\")\n",
    "\n",
    "plt.plot(vsf7['texp'], vsf7['vsQuote'], \"g--\")\n",
    "plt.plot(vsf10p['texp'], vsf10p['vsQuote'], \"m--\");"
   ]
  },
  {
   "cell_type": "markdown",
   "metadata": {
    "slideshow": {
     "slide_type": "fragment"
    }
   },
   "source": [
    "Figure 22: The May 10 actual curve is consistent with a forecast that excludes the Flash Crash."
   ]
  },
  {
   "cell_type": "markdown",
   "metadata": {
    "slideshow": {
     "slide_type": "slide"
    }
   },
   "source": [
    "###  Resetting of expectations over the weekend  \n",
    "  \n",
    "  -  In Figures 20 and 22, we see that the actual variance swap curve on Monday, May 10  is consistent with a  forecast that excludes the  Flash Crash.\n",
    " \n",
    " \n",
    "  - Volatility traders realized that the Flash Crash should not influence future realized variance projections."
   ]
  },
  {
   "cell_type": "markdown",
   "metadata": {
    "slideshow": {
     "slide_type": "slide"
    }
   },
   "source": [
    "### Summary\n",
    "\n",
    " \n",
    "  - We uncovered a remarkable monofractal scaling relationship in historical volatility.\n",
    " \n",
    "      - A corollary is that volatility is not a long memory process, as widely believed.\n",
    "  \n",
    "  \n",
    "  - This leads to a natural non-Markovian stochastic volatility model under $\\mP$.\n",
    "  \n",
    "  \n",
    "  - The simplest specification of $\\frac{d\\mQ}{d\\mP}$ gives a non-Markovian generalization of the Bergomi model.\n",
    " "
   ]
  },
  {
   "cell_type": "markdown",
   "metadata": {
    "slideshow": {
     "slide_type": "subslide"
    }
   },
   "source": [
    "  \n",
    "  - The history of the Brownian motion $\\lbrace W_s, s<t\\rbrace $ required for pricing is encoded in the forward variance curve, which is observed in the market.\n",
    "  \n",
    "\n",
    "  - This model fits the observed volatility surface surprisingly well with very few parameters.\n",
    " \n",
    " \n",
    " \n",
    "- For perhaps the first time, we have a simple consistent model of historical and implied volatility.\n",
    "\n",
    " "
   ]
  },
  {
   "cell_type": "markdown",
   "metadata": {
    "slideshow": {
     "slide_type": "slide"
    }
   },
   "source": [
    "## References  \n",
    "\n",
    "<br />\n",
    "\n",
    "<div class=\"reflist\" style=\"list-style-type: decimal;\">\n",
    "\n",
    "<ol>\n",
    "\n",
    "<li id=\"cite_note-ABDE\"><span class=\"mw-cite-backlink\"><b><a href=\"#cite_ref-ABDE\">^</a></b></span>\n",
    "Torben G Andersen, Tim Bollerslev, Francis X Diebold, and Heiko Ebens, The distribution of realized stock return volatility, *Journal of Financial Economics* **61**(1) 43-76 (2001).\n",
    "</li>\n",
    "\n",
    "<li id=\"cite_note-BayerFriz\"><span class=\"mw-cite-backlink\"><b><a href=\"#cite_ref-BayerFriz\">^</a></b></span> \n",
    "Christian Bayer, Peter Friz and Jim Gatheral, Pricing under rough volatility, *Quantitative Finance* forthcoming, available at http://papers.ssrn.com/sol3/papers.cfm?abstract_id=2554754, (2015).\n",
    "</li>\n",
    " \n",
    "<li id=\"cite_note-BacryMuzy\"><span class=\"mw-cite-backlink\"><b><a href=\"#cite_ref-BacryMuzy\">^</a></b></span>\n",
    "Emmanuel Bacry and Jean-François Muzy, Log-infinitely divisible multifractal processes, \n",
    "*Communications in Mathematical Physics* **236**(3) 449-475 (2003).</li>\n",
    " \n",
    "\n",
    " <li id=\"cite_note-GatheralJacquierSSVI\"><span class=\"mw-cite-backlink\"><b><a href=\"#cite_ref-GatheralJacquierSSVI\">^</a></b></span>  Jim Gatheral and Antoine Jacquier, Arbitrage-free SVI volatility\n",
    "surfaces, <span>*Quantitative Finance*</span> <span>**14**</span>(1) 59-71 (2014).</li>\n",
    "\n",
    "<li id=\"cite_note-GJR\"><span class=\"mw-cite-backlink\"><b><a href=\"#cite_ref-GJR\">^</a></b></span> Jim Gatheral, Thibault Jaisson and Mathieu Rosenbaum, Volatility is rough, available at http://papers.ssrn.com/sol3/papers.cfm?abstract_id=2509457, (2014).</li>\n",
    "\n",
    "<li id=\"cite_note-GO\"><span class=\"mw-cite-backlink\"><b><a href=\"#cite_ref-GO\">^</a></b></span> Jim Gatheral and Roel Oomen, Zero-intelligence realized variance estimation, *Finance and Stochastics* **14**(2) 249-283 (2010).</li> \n",
    " \n",
    "<li id=\"cite_note-NuzmanPoor\"><span class=\"mw-cite-backlink\"><b><a href=\"#cite_ref-NuzmanPoor\">^</a></b></span> Carl J. Nuzman and H. Vincent Poor, Linear estimation of self-similar processes via Lamperti’s transformation, *Journal of Applied Probability* **37**(2) 429-452 (2000).</li>\n",
    " \n",
    " \n",
    "\n",
    "</ol>\n",
    "  \n",
    "\n",
    "\n",
    " "
   ]
  }
 ],
 "metadata": {
  "celltoolbar": "Slideshow",
  "kernelspec": {
   "display_name": "Python 3",
   "language": "python",
   "name": "python3"
  },
  "language_info": {
   "codemirror_mode": {
    "name": "ipython",
    "version": 3
   },
   "file_extension": ".py",
   "mimetype": "text/x-python",
   "name": "python",
   "nbconvert_exporter": "python",
   "pygments_lexer": "ipython3",
   "version": "3.7.7"
  }
 },
 "nbformat": 4,
 "nbformat_minor": 4
}
