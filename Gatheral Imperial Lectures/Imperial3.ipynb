{
 "cells": [
  {
   "cell_type": "markdown",
   "metadata": {
    "slideshow": {
     "slide_type": "slide"
    }
   },
   "source": [
    "# CFM-Imperial Distinguished Lecture Series\n",
    "\n",
    "# The Volatility Surface\n",
    "\n",
    "\n",
    "### Lecture 3: Rough volatility and the connection between historical and implied volatility\n",
    "\n",
    "\n",
    "Jim Gatheral   \n",
    "Department of Mathematics   \n",
    "  \n",
    "  \n",
    "<h3><img src=\"http://mfe.baruch.cuny.edu/wp-content/uploads/2014/07/BaruchLogo2.png\" align = \"left\" width=160></h3>  \n",
    "\n",
    "<h3><img src=\"http://mfe.baruch.cuny.edu/wp-content/uploads/2014/07/MFElogo.png\" align = \"center\" width=100></h3>"
   ]
  },
  {
   "cell_type": "markdown",
   "metadata": {
    "slideshow": {
     "slide_type": "slide"
    }
   },
   "source": [
    "\n",
    "\n",
    "### Outline of lecture 3\n",
    "\n",
    "* The time series of historical volatility\n",
    "    - Scaling properties\n",
    "\n",
    "* The RFSV model\n",
    "\n",
    "* Forecasting realized variance\n",
    "\n",
    "* The time series of variance swaps\n",
    "\n",
    "* Relating historical and implied\n",
    "\n",
    "$$\n",
    "\\newcommand{\\beas}{\\begin{eqnarray*}}\n",
    "\\newcommand{\\eeas}{\\end{eqnarray*}}\n",
    "\\newcommand{\\bea}{\\begin{eqnarray}}\n",
    "\\newcommand{\\eea}{\\end{eqnarray}}\n",
    "\\newcommand{\\ben}{\\begin{enumerate}}\n",
    "\\newcommand{\\een}{\\end{enumerate}}\n",
    "\\newcommand{\\bi}{\\begin{itemize}}\n",
    "\\newcommand{\\ei}{\\end{itemize}}\n",
    "\\newcommand{\\beq}{\\begin{equation}}\n",
    "\\newcommand{\\eeq}{\\end{equation}}\n",
    "\\newcommand{\\bv}{\\begin{verbatim}}\n",
    "\\newcommand{\\ev}{\\end{verbatim}}\n",
    "\\newcommand{\\E}{\\mathbb{E}}\n",
    "\\newcommand{\\R}{\\mathbb{R}}\n",
    "\\newcommand{\\mP}{\\mathbb{P}}\n",
    "\\newcommand{\\mQ}{\\mathbb{Q}}\n",
    "\\newcommand{\\sigl}{\\sigma_L}\n",
    "\\newcommand{\\BS}{\\rm BS}\n",
    "\\newcommand{\\vix}{\\text{VIX}}\n",
    "\\newcommand{\\p}{\\partial}\n",
    "\\newcommand{\\var}{{\\rm var}}\n",
    "\\newcommand{\\cov}{{\\rm cov}}\n",
    "\\newcommand{\\mt}{\\mathbf{t}}\n",
    "\\newcommand{\\mS}{\\mathbf{S}}\n",
    "\\newcommand{\\tC}{\\widetilde{C}}\n",
    "\\newcommand{\\hC}{\\widehat{C}}\n",
    "\\newcommand{\\cE}{\\mathcal{E}}\n",
    "\\newcommand{\\tH}{\\widetilde{H}}\n",
    "\\newcommand{\\cD}{\\mathcal{D}}\n",
    "\\newcommand{\\cM}{\\mathcal{M}}\n",
    "\\newcommand{\\cS}{\\mathcal{S}}\n",
    "\\newcommand{\\cR}{\\mathcal{R}}\n",
    "\\newcommand{\\cF}{\\mathcal{F}}\n",
    "\\newcommand{\\cV}{\\mathcal{V}}\n",
    "\\newcommand{\\cG}{\\mathcal{G}}\n",
    "\\newcommand{\\cv}{\\mathcal{v}}\n",
    "\\newcommand{\\cg}{\\mathcal{g}}\n",
    "\\newcommand{\\cL}{\\mathcal{L}}\n",
    "\\newcommand{\\cO}{\\mathcal{O}}\n",
    "\\newcommand{\\dt}{\\Delta t}\n",
    "\\newcommand{\\tr}{{\\rm tr}}\n",
    "\\newcommand{\\sgn}{\\mathrm{sign}}\n",
    "\\newcommand{\\ee}[1]{{\\mathbb{E}\\left[{#1}\\right]}}\n",
    "\\newcommand{\\eef}[1]{{\\mathbb{E}\\left[\\left.{#1}\\right|\\cF_t\\right]}}\n",
    "\\newcommand{\\eefm}[2]{{\\mathbb{E}^{#2}\\left[\\left.{#1}\\right|\\cF_t\\right]}}\n",
    "\\newcommand{\\angl}[1]{{\\langle{#1}\\rangle}}\n",
    "$$"
   ]
  },
  {
   "cell_type": "markdown",
   "metadata": {
    "slideshow": {
     "slide_type": "slide"
    }
   },
   "source": [
    "### The time series of realized variance\n",
    "\n",
    "- Assuming an underlying variance process $v_s$, integrated variance $\\frac 1 \\delta \\,\\int_t^{t+\\delta}\\,v_s\\,ds$ may (in principle) be estimated arbitrarily accurately given enough price data.\n",
    "\n",
    "    - In practice, market microstructure noise makes estimation harder at very high frequency.\n",
    "    - Sophisticated estimators of integrated variance have been developed to adjust for market microstructure noise.  See Gatheral and Oomen <sup id=\"cite_ref-GO\" class=\"reference\"><a href=\"#cite_note-GO\"><span>[</span>10<span>]</span></a></sup> (for example) for details of these.\n",
    "\n",
    "\n",
    "- The Oxford-Man Institute of Quantitative Finance makes historical realized variance (RV) estimates freely available at http://realized.oxford-man.ox.ac.uk.  These estimates are updated daily.\n",
    "\n",
    "    - Each day, for 21 different indices, all trades and quotes are used to estimate realized (or integrated) variance over the trading day from open to close.\n",
    "\n",
    "\n",
    "\n",
    "- Using daily RV estimates as proxies for instantaneous variance, we may investigate the time series properties of $v_t$ empirically.\n",
    "\n",
    "\n"
   ]
  },
  {
   "cell_type": "code",
   "execution_count": 8,
   "metadata": {
    "collapsed": false,
    "jupyter": {
     "outputs_hidden": false
    },
    "slideshow": {
     "slide_type": "slide"
    }
   },
   "outputs": [],
   "source": [
    "import os\n",
    "os.environ[\"R_HOME\"] = r\"D:\\Anaconda3\\envs\\rstudio\\lib\\R\""
   ]
  },
  {
   "cell_type": "code",
   "execution_count": 9,
   "metadata": {
    "collapsed": false,
    "jupyter": {
     "outputs_hidden": false
    },
    "slideshow": {
     "slide_type": "slide"
    }
   },
   "outputs": [
    {
     "ename": "OSError",
     "evalue": "cannot load library 'D:\\Anaconda3\\envs\\rstudio\\lib\\R\\bin\\x64\\R.dll': error 0x7e",
     "output_type": "error",
     "traceback": [
      "\u001b[1;31m---------------------------------------------------------------------------\u001b[0m",
      "\u001b[1;31mOSError\u001b[0m                                   Traceback (most recent call last)",
      "\u001b[1;32m<ipython-input-9-fb23c6edefe4>\u001b[0m in \u001b[0;36m<module>\u001b[1;34m\u001b[0m\n\u001b[1;32m----> 1\u001b[1;33m \u001b[0mget_ipython\u001b[0m\u001b[1;33m(\u001b[0m\u001b[1;33m)\u001b[0m\u001b[1;33m.\u001b[0m\u001b[0mrun_line_magic\u001b[0m\u001b[1;33m(\u001b[0m\u001b[1;34m'load_ext'\u001b[0m\u001b[1;33m,\u001b[0m \u001b[1;34m'rpy2.ipython'\u001b[0m\u001b[1;33m)\u001b[0m\u001b[1;33m\u001b[0m\u001b[1;33m\u001b[0m\u001b[0m\n\u001b[0m",
      "\u001b[1;32md:\\Anaconda3\\lib\\site-packages\\IPython\\core\\interactiveshell.py\u001b[0m in \u001b[0;36mrun_line_magic\u001b[1;34m(self, magic_name, line, _stack_depth)\u001b[0m\n\u001b[0;32m   2315\u001b[0m                 \u001b[0mkwargs\u001b[0m\u001b[1;33m[\u001b[0m\u001b[1;34m'local_ns'\u001b[0m\u001b[1;33m]\u001b[0m \u001b[1;33m=\u001b[0m \u001b[0msys\u001b[0m\u001b[1;33m.\u001b[0m\u001b[0m_getframe\u001b[0m\u001b[1;33m(\u001b[0m\u001b[0mstack_depth\u001b[0m\u001b[1;33m)\u001b[0m\u001b[1;33m.\u001b[0m\u001b[0mf_locals\u001b[0m\u001b[1;33m\u001b[0m\u001b[1;33m\u001b[0m\u001b[0m\n\u001b[0;32m   2316\u001b[0m             \u001b[1;32mwith\u001b[0m \u001b[0mself\u001b[0m\u001b[1;33m.\u001b[0m\u001b[0mbuiltin_trap\u001b[0m\u001b[1;33m:\u001b[0m\u001b[1;33m\u001b[0m\u001b[1;33m\u001b[0m\u001b[0m\n\u001b[1;32m-> 2317\u001b[1;33m                 \u001b[0mresult\u001b[0m \u001b[1;33m=\u001b[0m \u001b[0mfn\u001b[0m\u001b[1;33m(\u001b[0m\u001b[1;33m*\u001b[0m\u001b[0margs\u001b[0m\u001b[1;33m,\u001b[0m \u001b[1;33m**\u001b[0m\u001b[0mkwargs\u001b[0m\u001b[1;33m)\u001b[0m\u001b[1;33m\u001b[0m\u001b[1;33m\u001b[0m\u001b[0m\n\u001b[0m\u001b[0;32m   2318\u001b[0m             \u001b[1;32mreturn\u001b[0m \u001b[0mresult\u001b[0m\u001b[1;33m\u001b[0m\u001b[1;33m\u001b[0m\u001b[0m\n\u001b[0;32m   2319\u001b[0m \u001b[1;33m\u001b[0m\u001b[0m\n",
      "\u001b[1;32m<decorator-gen-65>\u001b[0m in \u001b[0;36mload_ext\u001b[1;34m(self, module_str)\u001b[0m\n",
      "\u001b[1;32md:\\Anaconda3\\lib\\site-packages\\IPython\\core\\magic.py\u001b[0m in \u001b[0;36m<lambda>\u001b[1;34m(f, *a, **k)\u001b[0m\n\u001b[0;32m    185\u001b[0m     \u001b[1;31m# but it's overkill for just that one bit of state.\u001b[0m\u001b[1;33m\u001b[0m\u001b[1;33m\u001b[0m\u001b[1;33m\u001b[0m\u001b[0m\n\u001b[0;32m    186\u001b[0m     \u001b[1;32mdef\u001b[0m \u001b[0mmagic_deco\u001b[0m\u001b[1;33m(\u001b[0m\u001b[0marg\u001b[0m\u001b[1;33m)\u001b[0m\u001b[1;33m:\u001b[0m\u001b[1;33m\u001b[0m\u001b[1;33m\u001b[0m\u001b[0m\n\u001b[1;32m--> 187\u001b[1;33m         \u001b[0mcall\u001b[0m \u001b[1;33m=\u001b[0m \u001b[1;32mlambda\u001b[0m \u001b[0mf\u001b[0m\u001b[1;33m,\u001b[0m \u001b[1;33m*\u001b[0m\u001b[0ma\u001b[0m\u001b[1;33m,\u001b[0m \u001b[1;33m**\u001b[0m\u001b[0mk\u001b[0m\u001b[1;33m:\u001b[0m \u001b[0mf\u001b[0m\u001b[1;33m(\u001b[0m\u001b[1;33m*\u001b[0m\u001b[0ma\u001b[0m\u001b[1;33m,\u001b[0m \u001b[1;33m**\u001b[0m\u001b[0mk\u001b[0m\u001b[1;33m)\u001b[0m\u001b[1;33m\u001b[0m\u001b[1;33m\u001b[0m\u001b[0m\n\u001b[0m\u001b[0;32m    188\u001b[0m \u001b[1;33m\u001b[0m\u001b[0m\n\u001b[0;32m    189\u001b[0m         \u001b[1;32mif\u001b[0m \u001b[0mcallable\u001b[0m\u001b[1;33m(\u001b[0m\u001b[0marg\u001b[0m\u001b[1;33m)\u001b[0m\u001b[1;33m:\u001b[0m\u001b[1;33m\u001b[0m\u001b[1;33m\u001b[0m\u001b[0m\n",
      "\u001b[1;32md:\\Anaconda3\\lib\\site-packages\\IPython\\core\\magics\\extension.py\u001b[0m in \u001b[0;36mload_ext\u001b[1;34m(self, module_str)\u001b[0m\n\u001b[0;32m     31\u001b[0m         \u001b[1;32mif\u001b[0m \u001b[1;32mnot\u001b[0m \u001b[0mmodule_str\u001b[0m\u001b[1;33m:\u001b[0m\u001b[1;33m\u001b[0m\u001b[1;33m\u001b[0m\u001b[0m\n\u001b[0;32m     32\u001b[0m             \u001b[1;32mraise\u001b[0m \u001b[0mUsageError\u001b[0m\u001b[1;33m(\u001b[0m\u001b[1;34m'Missing module name.'\u001b[0m\u001b[1;33m)\u001b[0m\u001b[1;33m\u001b[0m\u001b[1;33m\u001b[0m\u001b[0m\n\u001b[1;32m---> 33\u001b[1;33m         \u001b[0mres\u001b[0m \u001b[1;33m=\u001b[0m \u001b[0mself\u001b[0m\u001b[1;33m.\u001b[0m\u001b[0mshell\u001b[0m\u001b[1;33m.\u001b[0m\u001b[0mextension_manager\u001b[0m\u001b[1;33m.\u001b[0m\u001b[0mload_extension\u001b[0m\u001b[1;33m(\u001b[0m\u001b[0mmodule_str\u001b[0m\u001b[1;33m)\u001b[0m\u001b[1;33m\u001b[0m\u001b[1;33m\u001b[0m\u001b[0m\n\u001b[0m\u001b[0;32m     34\u001b[0m \u001b[1;33m\u001b[0m\u001b[0m\n\u001b[0;32m     35\u001b[0m         \u001b[1;32mif\u001b[0m \u001b[0mres\u001b[0m \u001b[1;33m==\u001b[0m \u001b[1;34m'already loaded'\u001b[0m\u001b[1;33m:\u001b[0m\u001b[1;33m\u001b[0m\u001b[1;33m\u001b[0m\u001b[0m\n",
      "\u001b[1;32md:\\Anaconda3\\lib\\site-packages\\IPython\\core\\extensions.py\u001b[0m in \u001b[0;36mload_extension\u001b[1;34m(self, module_str)\u001b[0m\n\u001b[0;32m     78\u001b[0m             \u001b[1;32mif\u001b[0m \u001b[0mmodule_str\u001b[0m \u001b[1;32mnot\u001b[0m \u001b[1;32min\u001b[0m \u001b[0msys\u001b[0m\u001b[1;33m.\u001b[0m\u001b[0mmodules\u001b[0m\u001b[1;33m:\u001b[0m\u001b[1;33m\u001b[0m\u001b[1;33m\u001b[0m\u001b[0m\n\u001b[0;32m     79\u001b[0m                 \u001b[1;32mwith\u001b[0m \u001b[0mprepended_to_syspath\u001b[0m\u001b[1;33m(\u001b[0m\u001b[0mself\u001b[0m\u001b[1;33m.\u001b[0m\u001b[0mipython_extension_dir\u001b[0m\u001b[1;33m)\u001b[0m\u001b[1;33m:\u001b[0m\u001b[1;33m\u001b[0m\u001b[1;33m\u001b[0m\u001b[0m\n\u001b[1;32m---> 80\u001b[1;33m                     \u001b[0mmod\u001b[0m \u001b[1;33m=\u001b[0m \u001b[0mimport_module\u001b[0m\u001b[1;33m(\u001b[0m\u001b[0mmodule_str\u001b[0m\u001b[1;33m)\u001b[0m\u001b[1;33m\u001b[0m\u001b[1;33m\u001b[0m\u001b[0m\n\u001b[0m\u001b[0;32m     81\u001b[0m                     \u001b[1;32mif\u001b[0m \u001b[0mmod\u001b[0m\u001b[1;33m.\u001b[0m\u001b[0m__file__\u001b[0m\u001b[1;33m.\u001b[0m\u001b[0mstartswith\u001b[0m\u001b[1;33m(\u001b[0m\u001b[0mself\u001b[0m\u001b[1;33m.\u001b[0m\u001b[0mipython_extension_dir\u001b[0m\u001b[1;33m)\u001b[0m\u001b[1;33m:\u001b[0m\u001b[1;33m\u001b[0m\u001b[1;33m\u001b[0m\u001b[0m\n\u001b[0;32m     82\u001b[0m                         print((\"Loading extensions from {dir} is deprecated. \"\n",
      "\u001b[1;32md:\\Anaconda3\\lib\\importlib\\__init__.py\u001b[0m in \u001b[0;36mimport_module\u001b[1;34m(name, package)\u001b[0m\n\u001b[0;32m    125\u001b[0m                 \u001b[1;32mbreak\u001b[0m\u001b[1;33m\u001b[0m\u001b[1;33m\u001b[0m\u001b[0m\n\u001b[0;32m    126\u001b[0m             \u001b[0mlevel\u001b[0m \u001b[1;33m+=\u001b[0m \u001b[1;36m1\u001b[0m\u001b[1;33m\u001b[0m\u001b[1;33m\u001b[0m\u001b[0m\n\u001b[1;32m--> 127\u001b[1;33m     \u001b[1;32mreturn\u001b[0m \u001b[0m_bootstrap\u001b[0m\u001b[1;33m.\u001b[0m\u001b[0m_gcd_import\u001b[0m\u001b[1;33m(\u001b[0m\u001b[0mname\u001b[0m\u001b[1;33m[\u001b[0m\u001b[0mlevel\u001b[0m\u001b[1;33m:\u001b[0m\u001b[1;33m]\u001b[0m\u001b[1;33m,\u001b[0m \u001b[0mpackage\u001b[0m\u001b[1;33m,\u001b[0m \u001b[0mlevel\u001b[0m\u001b[1;33m)\u001b[0m\u001b[1;33m\u001b[0m\u001b[1;33m\u001b[0m\u001b[0m\n\u001b[0m\u001b[0;32m    128\u001b[0m \u001b[1;33m\u001b[0m\u001b[0m\n\u001b[0;32m    129\u001b[0m \u001b[1;33m\u001b[0m\u001b[0m\n",
      "\u001b[1;32md:\\Anaconda3\\lib\\importlib\\_bootstrap.py\u001b[0m in \u001b[0;36m_gcd_import\u001b[1;34m(name, package, level)\u001b[0m\n",
      "\u001b[1;32md:\\Anaconda3\\lib\\importlib\\_bootstrap.py\u001b[0m in \u001b[0;36m_find_and_load\u001b[1;34m(name, import_)\u001b[0m\n",
      "\u001b[1;32md:\\Anaconda3\\lib\\importlib\\_bootstrap.py\u001b[0m in \u001b[0;36m_find_and_load_unlocked\u001b[1;34m(name, import_)\u001b[0m\n",
      "\u001b[1;32md:\\Anaconda3\\lib\\importlib\\_bootstrap.py\u001b[0m in \u001b[0;36m_load_unlocked\u001b[1;34m(spec)\u001b[0m\n",
      "\u001b[1;32md:\\Anaconda3\\lib\\importlib\\_bootstrap_external.py\u001b[0m in \u001b[0;36mexec_module\u001b[1;34m(self, module)\u001b[0m\n",
      "\u001b[1;32md:\\Anaconda3\\lib\\importlib\\_bootstrap.py\u001b[0m in \u001b[0;36m_call_with_frames_removed\u001b[1;34m(f, *args, **kwds)\u001b[0m\n",
      "\u001b[1;32md:\\Anaconda3\\lib\\site-packages\\rpy2\\ipython\\__init__.py\u001b[0m in \u001b[0;36m<module>\u001b[1;34m\u001b[0m\n\u001b[1;32m----> 1\u001b[1;33m \u001b[1;32mfrom\u001b[0m \u001b[1;33m.\u001b[0m \u001b[1;32mimport\u001b[0m \u001b[0mrmagic\u001b[0m\u001b[1;33m\u001b[0m\u001b[1;33m\u001b[0m\u001b[0m\n\u001b[0m\u001b[0;32m      2\u001b[0m \u001b[1;33m\u001b[0m\u001b[0m\n\u001b[0;32m      3\u001b[0m \u001b[0mload_ipython_extension\u001b[0m \u001b[1;33m=\u001b[0m \u001b[0mrmagic\u001b[0m\u001b[1;33m.\u001b[0m\u001b[0mload_ipython_extension\u001b[0m\u001b[1;33m\u001b[0m\u001b[1;33m\u001b[0m\u001b[0m\n",
      "\u001b[1;32md:\\Anaconda3\\lib\\site-packages\\rpy2\\ipython\\rmagic.py\u001b[0m in \u001b[0;36m<module>\u001b[1;34m\u001b[0m\n\u001b[0;32m     53\u001b[0m \u001b[1;31m# numpy and rpy2 imports\u001b[0m\u001b[1;33m\u001b[0m\u001b[1;33m\u001b[0m\u001b[1;33m\u001b[0m\u001b[0m\n\u001b[0;32m     54\u001b[0m \u001b[1;33m\u001b[0m\u001b[0m\n\u001b[1;32m---> 55\u001b[1;33m \u001b[1;32mimport\u001b[0m \u001b[0mrpy2\u001b[0m\u001b[1;33m.\u001b[0m\u001b[0mrinterface\u001b[0m \u001b[1;32mas\u001b[0m \u001b[0mri\u001b[0m\u001b[1;33m\u001b[0m\u001b[1;33m\u001b[0m\u001b[0m\n\u001b[0m\u001b[0;32m     56\u001b[0m \u001b[1;32mimport\u001b[0m \u001b[0mrpy2\u001b[0m\u001b[1;33m.\u001b[0m\u001b[0mrinterface_lib\u001b[0m\u001b[1;33m.\u001b[0m\u001b[0mcallbacks\u001b[0m\u001b[1;33m\u001b[0m\u001b[1;33m\u001b[0m\u001b[0m\n\u001b[0;32m     57\u001b[0m \u001b[1;32mimport\u001b[0m \u001b[0mrpy2\u001b[0m\u001b[1;33m.\u001b[0m\u001b[0mrobjects\u001b[0m \u001b[1;32mas\u001b[0m \u001b[0mro\u001b[0m\u001b[1;33m\u001b[0m\u001b[1;33m\u001b[0m\u001b[0m\n",
      "\u001b[1;32md:\\Anaconda3\\lib\\site-packages\\rpy2\\rinterface.py\u001b[0m in \u001b[0;36m<module>\u001b[1;34m\u001b[0m\n\u001b[0;32m      4\u001b[0m \u001b[1;32mimport\u001b[0m \u001b[0mtyping\u001b[0m\u001b[1;33m\u001b[0m\u001b[1;33m\u001b[0m\u001b[0m\n\u001b[0;32m      5\u001b[0m \u001b[1;32mfrom\u001b[0m \u001b[0mtyping\u001b[0m \u001b[1;32mimport\u001b[0m \u001b[0mUnion\u001b[0m\u001b[1;33m\u001b[0m\u001b[1;33m\u001b[0m\u001b[0m\n\u001b[1;32m----> 6\u001b[1;33m \u001b[1;32mfrom\u001b[0m \u001b[0mrpy2\u001b[0m\u001b[1;33m.\u001b[0m\u001b[0mrinterface_lib\u001b[0m \u001b[1;32mimport\u001b[0m \u001b[0mopenrlib\u001b[0m\u001b[1;33m\u001b[0m\u001b[1;33m\u001b[0m\u001b[0m\n\u001b[0m\u001b[0;32m      7\u001b[0m \u001b[1;32mimport\u001b[0m \u001b[0mrpy2\u001b[0m\u001b[1;33m.\u001b[0m\u001b[0mrinterface_lib\u001b[0m\u001b[1;33m.\u001b[0m\u001b[0m_rinterface_capi\u001b[0m \u001b[1;32mas\u001b[0m \u001b[0m_rinterface\u001b[0m\u001b[1;33m\u001b[0m\u001b[1;33m\u001b[0m\u001b[0m\n\u001b[0;32m      8\u001b[0m \u001b[1;32mimport\u001b[0m \u001b[0mrpy2\u001b[0m\u001b[1;33m.\u001b[0m\u001b[0mrinterface_lib\u001b[0m\u001b[1;33m.\u001b[0m\u001b[0membedded\u001b[0m \u001b[1;32mas\u001b[0m \u001b[0membedded\u001b[0m\u001b[1;33m\u001b[0m\u001b[1;33m\u001b[0m\u001b[0m\n",
      "\u001b[1;32md:\\Anaconda3\\lib\\site-packages\\rpy2\\rinterface_lib\\openrlib.py\u001b[0m in \u001b[0;36m<module>\u001b[1;34m\u001b[0m\n\u001b[0;32m     42\u001b[0m     \u001b[0mrlib\u001b[0m \u001b[1;33m=\u001b[0m \u001b[0m_rinterface_cffi\u001b[0m\u001b[1;33m.\u001b[0m\u001b[0mlib\u001b[0m\u001b[1;33m\u001b[0m\u001b[1;33m\u001b[0m\u001b[0m\n\u001b[0;32m     43\u001b[0m \u001b[1;32melse\u001b[0m\u001b[1;33m:\u001b[0m\u001b[1;33m\u001b[0m\u001b[1;33m\u001b[0m\u001b[0m\n\u001b[1;32m---> 44\u001b[1;33m     \u001b[0mrlib\u001b[0m \u001b[1;33m=\u001b[0m \u001b[0m_dlopen_rlib\u001b[0m\u001b[1;33m(\u001b[0m\u001b[0mR_HOME\u001b[0m\u001b[1;33m)\u001b[0m\u001b[1;33m\u001b[0m\u001b[1;33m\u001b[0m\u001b[0m\n\u001b[0m\u001b[0;32m     45\u001b[0m \u001b[1;33m\u001b[0m\u001b[0m\n\u001b[0;32m     46\u001b[0m \u001b[1;33m\u001b[0m\u001b[0m\n",
      "\u001b[1;32md:\\Anaconda3\\lib\\site-packages\\rpy2\\rinterface_lib\\openrlib.py\u001b[0m in \u001b[0;36m_dlopen_rlib\u001b[1;34m(r_home)\u001b[0m\n\u001b[0;32m     35\u001b[0m         \u001b[1;32mraise\u001b[0m \u001b[0mValueError\u001b[0m\u001b[1;33m(\u001b[0m\u001b[1;34m'The library path cannot be None.'\u001b[0m\u001b[1;33m)\u001b[0m\u001b[1;33m\u001b[0m\u001b[1;33m\u001b[0m\u001b[0m\n\u001b[0;32m     36\u001b[0m     \u001b[1;32melse\u001b[0m\u001b[1;33m:\u001b[0m\u001b[1;33m\u001b[0m\u001b[1;33m\u001b[0m\u001b[0m\n\u001b[1;32m---> 37\u001b[1;33m         \u001b[0mrlib\u001b[0m \u001b[1;33m=\u001b[0m \u001b[0mffi\u001b[0m\u001b[1;33m.\u001b[0m\u001b[0mdlopen\u001b[0m\u001b[1;33m(\u001b[0m\u001b[0mlib_path\u001b[0m\u001b[1;33m)\u001b[0m\u001b[1;33m\u001b[0m\u001b[1;33m\u001b[0m\u001b[0m\n\u001b[0m\u001b[0;32m     38\u001b[0m     \u001b[1;32mreturn\u001b[0m \u001b[0mrlib\u001b[0m\u001b[1;33m\u001b[0m\u001b[1;33m\u001b[0m\u001b[0m\n\u001b[0;32m     39\u001b[0m \u001b[1;33m\u001b[0m\u001b[0m\n",
      "\u001b[1;31mOSError\u001b[0m: cannot load library 'D:\\Anaconda3\\envs\\rstudio\\lib\\R\\bin\\x64\\R.dll': error 0x7e"
     ]
    }
   ],
   "source": [
    "%load_ext rpy2.ipython"
   ]
  },
  {
   "cell_type": "markdown",
   "metadata": {
    "slideshow": {
     "slide_type": "subslide"
    }
   },
   "source": [
    "First update and save the latest Oxford-Man data:"
   ]
  },
  {
   "cell_type": "code",
   "execution_count": 4,
   "metadata": {
    "collapsed": false,
    "jupyter": {
     "outputs_hidden": false
    },
    "slideshow": {
     "slide_type": "fragment"
    }
   },
   "outputs": [
    {
     "name": "stderr",
     "output_type": "stream",
     "text": [
      "UsageError: Cell magic `%%R` not found.\n"
     ]
    }
   ],
   "source": [
    "%%R\n",
    "\n",
    "download.file(url=\"http://realized.oxford-man.ox.ac.uk/media/1366/oxfordmanrealizedvolatilityindices.zip\", destfile=\"oxfordRvData.zip\")\n",
    "unzip(zipfile=\"oxfordRvData.zip\")\n"
   ]
  },
  {
   "cell_type": "markdown",
   "metadata": {
    "slideshow": {
     "slide_type": "slide"
    }
   },
   "source": [
    "There are many different estimates of realized variance, all of them very similar.  We will use the realized kernel estimates denoted by \".rk\"."
   ]
  },
  {
   "cell_type": "code",
   "execution_count": null,
   "metadata": {
    "collapsed": false,
    "jupyter": {
     "outputs_hidden": false
    },
    "slideshow": {
     "slide_type": "fragment"
    }
   },
   "outputs": [],
   "source": [
    "%%R\n",
    "\n",
    "library(xts)\n",
    "\n",
    "rv.data <- read.csv(\"OxfordManRealizedVolatilityIndices.csv\")\n",
    "colnums <- which(sapply(rv.data, function(x) grep(\".rk\",x))>0)\n",
    "col.names <- names(colnums)\n",
    "\n",
    "rv1 <- rv.data[,colnums]\n",
    "index.names <- rv1[2,]\n",
    "\n",
    "datesRaw <- rv.data[-(1:2),1]\n",
    "dates <- strptime(datesRaw,\"%Y%m%d\")\n",
    "\n",
    "rv.list <- NULL\n",
    "index.names <- as.matrix(index.names)\n",
    "\n",
    "n <- length(index.names)\n",
    "for (i in 1:n){\n",
    "    tmp.krv1 <- xts(rv1[-(1:2),i],order.by=dates) \n",
    "    rv.list[[i]] <- tmp.krv1[(tmp.krv1!=\"\")&(tmp.krv1!=\"0\")]\n",
    "}\n",
    "\n",
    "names(rv.list)<- index.names \n",
    "\n",
    "save(rv.list, file=\"oxfordRV.rData\")"
   ]
  },
  {
   "cell_type": "markdown",
   "metadata": {
    "slideshow": {
     "slide_type": "slide"
    }
   },
   "source": [
    "Let's plot SPX realized variance."
   ]
  },
  {
   "cell_type": "code",
   "execution_count": null,
   "metadata": {
    "collapsed": false,
    "jupyter": {
     "outputs_hidden": false
    },
    "slideshow": {
     "slide_type": "fragment"
    }
   },
   "outputs": [],
   "source": [
    "%%R\n",
    "\n",
    "# Load Oxford-Man KRV data\n",
    "load(\"oxfordRV.rData\")\n",
    "names(rv.list)\n",
    "\n",
    "spx.rk <- rv.list[[\"SPX2.rk\"]]\n",
    "plot(spx.rk, main=\"SPX realized variance\",plot=NULL)\n",
    "lines(spx.rk,col=\"red\")"
   ]
  },
  {
   "cell_type": "markdown",
   "metadata": {
    "slideshow": {
     "slide_type": "fragment"
    }
   },
   "source": [
    "Figure 1: Oxford-Man KRV estimates of SPX realized variance from January 2000 to the current date."
   ]
  },
  {
   "cell_type": "code",
   "execution_count": null,
   "metadata": {
    "collapsed": false,
    "jupyter": {
     "outputs_hidden": false
    },
    "slideshow": {
     "slide_type": "slide"
    }
   },
   "outputs": [],
   "source": [
    "%%R\n",
    "\n",
    "print(head(spx.rk))\n",
    "print(tail(spx.rk))"
   ]
  },
  {
   "cell_type": "markdown",
   "metadata": {
    "slideshow": {
     "slide_type": "slide"
    }
   },
   "source": [
    "We can get SPX data from Yahoo using the quantmod package:"
   ]
  },
  {
   "cell_type": "code",
   "execution_count": null,
   "metadata": {
    "collapsed": false,
    "jupyter": {
     "outputs_hidden": false
    },
    "slideshow": {
     "slide_type": "fragment"
    }
   },
   "outputs": [],
   "source": [
    "%%R\n",
    "\n",
    "library(quantmod)\n",
    "\n",
    "options(\"getSymbols.warning4.0\"=FALSE)\n",
    "getSymbols(\"^GSPC\",from=\"2000-01-01\") #Creates the time series object GSPC\n",
    "\n",
    "plot(GSPC)"
   ]
  },
  {
   "cell_type": "markdown",
   "metadata": {
    "slideshow": {
     "slide_type": "slide"
    }
   },
   "source": [
    "###The smoothness of the volatility process\n",
    "\n",
    "\n",
    "For $q\\geq 0$, we define the $q$th sample moment of differences of log-volatility at a given lag $\\Delta$.($\\angl{\\cdot}$ denotes the sample average):\n",
    "\n",
    "$$\n",
    "m(q,\\Delta)=\\angl{\\left|\\log \\sigma_{t+\\Delta} -\\log \\sigma_{t} \\right|^q}\n",
    "$$\n",
    "\n",
    "For example\n",
    "\n",
    "$$\n",
    "m(2,\\Delta)=\\angl{\\left(\\log \\sigma_{t+\\Delta} -\\log \\sigma_{t} \\right)^2}\n",
    "$$\n",
    "\n",
    "is just the sample variance of differences in log-volatility at the lag $\\Delta$.\n",
    "\n",
    "\n"
   ]
  },
  {
   "cell_type": "markdown",
   "metadata": {
    "slideshow": {
     "slide_type": "slide"
    }
   },
   "source": [
    "###Scaling of $m(q,\\Delta)$ with lag $\\Delta$"
   ]
  },
  {
   "cell_type": "code",
   "execution_count": null,
   "metadata": {
    "collapsed": false,
    "jupyter": {
     "outputs_hidden": false
    },
    "slideshow": {
     "slide_type": "fragment"
    }
   },
   "outputs": [],
   "source": [
    "%%R\n",
    "\n",
    "sig <- sqrt(as.numeric(spx.rk))\n",
    "\n",
    "mq.del.Raw <- function(q,lag){mean(abs(diff(log(sig),lag=lag))^q)}\n",
    "mq.del <- function(x,q){sapply(x,function(x){mq.del.Raw(q,x)})}\n",
    "\n",
    "# Plot mq.del(1:100,q) for various q\n",
    "\n",
    "x <- 1:100\n",
    "\n",
    "mycol <- rainbow(5)\n",
    "\n",
    "ylab <- expression(paste(log,\" \",m(q,Delta)))\n",
    "xlab <- expression(paste(log, \" \", Delta))\n",
    "\n",
    "qVec <- c(.5,1,1.5,2,3)\n",
    "zeta.q <- numeric(5)\n",
    "\n",
    "q <- qVec[1]\n",
    "plot(log(x),log(mq.del(x,q)),pch=20,cex=.5,\n",
    "         ylab=ylab, xlab=xlab,ylim=c(-3,-.5))\n",
    "(fit.lm <- lm(log(mq.del(x,q)) ~ log(x)))\n",
    "abline(fit.lm, col=mycol[1],lwd=2)\n",
    "zeta.q[1] <- coef(fit.lm)[2]\n",
    "\n",
    "for (i in 2:5){\n",
    "    q <- qVec[i]\n",
    "    points(log(x),log(mq.del(x,q)),pch=20,cex=.5)\n",
    "    fit.lm <- lm(log(mq.del(x,q)) ~ log(x))\n",
    "    abline(fit.lm, col=mycol[i],lwd=2)\n",
    "    zeta.q[i] <- coef(fit.lm)[2]\n",
    "    }\n",
    "legend(\"bottomright\", c(\"q = 0.5\",\"q = 1.0\",\"q = 1.5\",\"q = 2.0\",\"q = 3.0\"),inset=0.05, lty=1, col = mycol)\n",
    "\n",
    "print(zeta.q)"
   ]
  },
  {
   "cell_type": "markdown",
   "metadata": {
    "slideshow": {
     "slide_type": "fragment"
    }
   },
   "source": [
    "Figure 2: $\\log m(q,\\Delta)$ as a function of $\\log \\Delta$, SPX."
   ]
  },
  {
   "cell_type": "markdown",
   "metadata": {
    "slideshow": {
     "slide_type": "slide"
    }
   },
   "source": [
    "###Monofractal scaling result\n",
    "\n",
    "- From the above log-log plot, we see that for each $q$, $m(q,\\Delta) \\propto \\Delta ^{\\zeta_q}$.\n",
    "\n",
    "\n",
    "- How does $\\zeta_q$ scale with $q$?"
   ]
  },
  {
   "cell_type": "markdown",
   "metadata": {
    "slideshow": {
     "slide_type": "slide"
    }
   },
   "source": [
    "### Scaling of $\\zeta_q$ with $q$"
   ]
  },
  {
   "cell_type": "code",
   "execution_count": null,
   "metadata": {
    "collapsed": false,
    "jupyter": {
     "outputs_hidden": false
    },
    "slideshow": {
     "slide_type": "fragment"
    }
   },
   "outputs": [],
   "source": [
    "%%R\n",
    "\n",
    "plot(qVec,zeta.q,xlab=\"q\",ylab=expression(zeta[q]))\n",
    "fit.lm <- lm(zeta.q ~ qVec+0)\n",
    "abline(fit.lm, col=\"red\",lwd=2)\n",
    "(h.est <- coef(fit.lm)[1])"
   ]
  },
  {
   "cell_type": "markdown",
   "metadata": {
    "slideshow": {
     "slide_type": "fragment"
    }
   },
   "source": [
    "Figure 3: Scaling of $\\zeta_q$ with $q$."
   ]
  },
  {
   "cell_type": "markdown",
   "metadata": {
    "slideshow": {
     "slide_type": "slide"
    }
   },
   "source": [
    "We find the monofractal scaling relationship\n",
    "\n",
    "$$\n",
    "\\zeta_q = q\\,H\n",
    "$$\n",
    "\n",
    "with $H \\approx 0.13$.\n",
    "\n",
    "- Note however that $H$ does vary over time, in a narrow range.\n",
    "\n",
    "\n",
    "- Note also that our estimate of $H$ is biased high because we proxied instantaneous variance $v_t$ with its average over each day $\\frac 1T\\,\\int_0^T\\,v_t\\,dt$, where $T$ is one trading day."
   ]
  },
  {
   "cell_type": "markdown",
   "metadata": {
    "slideshow": {
     "slide_type": "slide"
    }
   },
   "source": [
    "###Estimated $H$ for all indices\n",
    "\n",
    "We now repeat this analysis for all 21 indices in the Oxford-Man dataset."
   ]
  },
  {
   "cell_type": "code",
   "execution_count": null,
   "metadata": {
    "collapsed": false,
    "jupyter": {
     "outputs_hidden": false
    },
    "slideshow": {
     "slide_type": "fragment"
    }
   },
   "outputs": [],
   "source": [
    "%%R\n",
    "\n",
    "n <- length(rv.list)\n",
    "h <- numeric(n) # H is estimated as half of the slope\n",
    "nu <- numeric(n)\n",
    "\n",
    "for (i in 1:n){ # Run all the regressions\n",
    "  v <- rv.list[[i]]\n",
    "  sig <- sqrt(as.numeric(v))\n",
    "    \n",
    "  x <- 1:100\n",
    "  dlsig2 <- function(lag){mean((diff(log(sig),lag=lag))^2)}\n",
    "  dlsig2Vec <- function(x){sapply(x,dlsig2)}\n",
    "\n",
    "  fit.lm <- lm(log(dlsig2Vec(x)) ~ log(x))\n",
    "\n",
    "  nu[i] <- sqrt(exp(coef(fit.lm)[1]))\n",
    "  h[i] <- coef(fit.lm)[2]/2\n",
    "  \n",
    "}\n",
    "\n",
    "(OxfordH <- data.frame(names(rv.list),h.est=h,nu.est=nu))\n",
    "\n"
   ]
  },
  {
   "cell_type": "markdown",
   "metadata": {
    "slideshow": {
     "slide_type": "slide"
    }
   },
   "source": [
    "###Distributions of $(\\log \\sigma_{t+\\Delta}-\\log \\sigma_t)$ for various lags $\\Delta$\n",
    "\n",
    "Having established these beautiful scaling results for the moments, how do the histograms look?"
   ]
  },
  {
   "cell_type": "code",
   "execution_count": null,
   "metadata": {
    "collapsed": false,
    "jupyter": {
     "outputs_hidden": false
    },
    "slideshow": {
     "slide_type": "fragment"
    }
   },
   "outputs": [],
   "source": [
    "%%R\n",
    "\n",
    "plotScaling <- function(j,scaleFactor){\n",
    "  v <- as.numeric(rv.list[[j]])\n",
    "  x <- 1:100\n",
    "  \n",
    "  xDel <- function(x,lag){diff(x,lag=lag)}\n",
    "  sd1 <- sd(xDel(log(v),1))\n",
    "  sdl <- function(lag){sd(xDel(log(v),lag))}\n",
    "\n",
    "  h <- OxfordH$h.est[j]\n",
    "  \n",
    "  plotLag <- function(lag){\n",
    "    y <- xDel(log(v),lag)\n",
    "    hist(y,breaks=100,freq=F,main=paste(\"Lag =\",lag,\"Days\"),xlab=NA)# Very long tailed!\n",
    "    curve(dnorm(x,mean=mean(y),sd=sd(y)),add=T,col=\"red\",lwd=2)\n",
    "    curve(dnorm(x,mean=0,sd=sd1*lag^h),add=T,lty=2,lwd=2,col=\"blue\")\n",
    "    lines(density(y)$x,density(y)$y,col=\"dark green\",lty=3,lwd=3)\n",
    "  }\n",
    "  \n",
    "  (lags <- scaleFactor^(0:3))\n",
    "  print(names(rv.list)[j])\n",
    "  par(mfrow=c(2,2))\n",
    "  par(mar=c(3,2,1,3))\n",
    "  for (i in 1:4){plotLag(lags[i])}\n",
    "  par(mfrow=c(1,1))\n",
    "}\n",
    "\n",
    "plotScaling(1,5)\n"
   ]
  },
  {
   "cell_type": "markdown",
   "metadata": {
    "slideshow": {
     "slide_type": "fragment"
    }
   },
   "source": [
    "Figure 4: Histograms of $(\\log \\sigma_{t+\\Delta}-\\log \\sigma_t)$ for various lags $\\Delta$; normal fit in red; $\\Delta=1$ normal fit scaled by $\\Delta^{0.14}$ in blue.\n"
   ]
  },
  {
   "cell_type": "markdown",
   "metadata": {
    "slideshow": {
     "slide_type": "slide"
    }
   },
   "source": [
    "###Universality?\n",
    "\n",
    "- <span>[Gatheral, Jaisson and Rosenbaum]<sup id=\"cite_ref-GJR\" class=\"reference\"><a href=\"#cite_note-GJR\"><span>[</span>9<span>]</span></a></sup> compute daily realized variance estimates over one hour windows for DAX and Bund futures contracts, finding similar scaling relationships.\n",
    "\n",
    "\n",
    "- We have also checked that Gold and Crude Oil futures scale similarly.\n",
    "\n",
    "    - Although the increments $(\\log \\sigma_{t+\\Delta}-\\log \\sigma_t)$ seem to be fatter tailed than Gaussian.  "
   ]
  },
  {
   "cell_type": "markdown",
   "metadata": {
    "slideshow": {
     "slide_type": "slide"
    }
   },
   "source": [
    "###A natural model of realized volatility\n",
    "\n",
    "- Distributions of differences in the log of realized volatility are close to Gaussian.\n",
    "\n",
    "    - This motivates us to model $\\sigma_t$ as a lognormal random variable.\n",
    "\n",
    "\n",
    "- Moreover, the scaling property of variance of RV differences suggests the model:\n",
    "\n",
    "<a name=\"eq:dataDriven\"></a>(1)\n",
    "$$\n",
    "\\log \\sigma_{t+\\Delta} - \\log \\sigma_t =\\nu\\,\\left( W^H_{t+\\Delta}-W^H_t\\right)\n",
    "$$\n",
    "where $W^H$ is fractional Brownian motion.\n",
    "\n",
    "\n",
    "- In  <span>[Gatheral, Jaisson and Rosenbaum]<sup id=\"cite_ref-GJR\" class=\"reference\"><a href=\"#cite_note-GJR\"><span>[</span>9<span>]</span></a></sup>, we refer to a stationary version of [(1)](#eq:dataDriven) as the RFSV (for Rough Fractional Stochastic Volatility) model."
   ]
  },
  {
   "cell_type": "markdown",
   "metadata": {
    "slideshow": {
     "slide_type": "slide"
    }
   },
   "source": [
    "###Fractional Brownian motion (fBm)\n",
    "\n",
    "- *Fractional Brownian motion* (fBm) $\\{W^H_t; t \\in \\mathbb{R}\\}$ is the unique Gaussian process with mean zero and autocovariance function\n",
    "$$\n",
    "\\ee{ W^H_t\\,W^H_s  } = \\frac12\\,\\left\\{ |t|^{2\\,H}+|s|^{2\\,H}-|t-s|^{2\\,H}  \\right\\}\n",
    "$$\n",
    "where $H \\in (0,1)$ is called the *Hurst index* or parameter.\n",
    "   - In particular, when $H=1/2$, fBm is just Brownian motion.\n",
    " \n",
    "   - If $H>1/2$, increments are positively correlated.% so the process is trending.\n",
    "   - If $H<1/2$, increments are negatively correlated.% so the process is reverting.\n",
    "\n",
    " "
   ]
  },
  {
   "cell_type": "markdown",
   "metadata": {
    "slideshow": {
     "slide_type": "slide"
    }
   },
   "source": [
    "###Representations of fBm\n",
    "\n",
    "There are infinitely many possible representations of fBm in terms of Brownian motion.  For example, with $\\gamma = \\frac 12 - H$,\n",
    "\n",
    "\n",
    "<blockquote><div style=\"background-color:#003399; color:#FFFFFF; font-style: normal;  \" ><h4>\n",
    "Mandelbrot-Van Ness</h4>\n",
    "</div>\n",
    "<div style=\"background-color:#E8E8E8; color:#000000; font-style: normal; \">\n",
    "<br>\n",
    "\n",
    "$$\n",
    "W^H_t ={C_H}\\,\\left\\{\\int_{-\\infty}^t \\,\\frac{dW_s}{(t-s)^\\gamma} - \\int_{-\\infty}^0 \\,\\frac{dW_s}{(-s)^\\gamma}\\right\\}.\n",
    "$$\n",
    "<br>\n",
    "\n",
    "</div>\n",
    "\n",
    "</blockquote>\n",
    "\n",
    "where the choice\n",
    "\n",
    "$$\n",
    "C_H = \\sqrt{ \\frac{2\\,H\\,\\Gamma(3/2-H)}{\\Gamma(H+1/2)\\,\\Gamma(2-2\\,H)}}\n",
    "$$\n",
    "\n",
    "ensures that\n",
    "\n",
    "$$\n",
    "\\ee{W^H_t\\,W^H_s }= \\frac{1}{2}\\,\\left\\{t^{2 H} + s^{2 H} - |t-s|^{2 H}\\right\\}.\n",
    "$$\n"
   ]
  },
  {
   "cell_type": "markdown",
   "metadata": {
    "slideshow": {
     "slide_type": "slide"
    }
   },
   "source": [
    "###Comte and Renault: FSV model\n",
    "\n",
    "<span>[Comte and Renault]<sup id=\"cite_ref-ComteRenault\" class=\"reference\"><a href=\"#cite_note-ComteRenault\"><span>[</span>6<span>]</span></a></sup> were perhaps the first to model volatility using fractional Brownian motion.  \n",
    "\n",
    "In their fractional stochastic volatility (FSV) model,\n",
    "\n",
    "$$\n",
    "\\bea\n",
    "\\frac{dS_t}{S_t} &=& \\sigma_t\\,dZ_t\\nonumber\\\\\n",
    "d\\log \\sigma_t &=& -\\alpha\\,(\\log \\sigma_t - \\theta)\\,dt+ \\gamma\\,d\\hat W^H_t\n",
    "%\\label{eq:FSV}\n",
    "\\eea\n",
    "$$\n",
    "\n",
    "with\n",
    "\n",
    "$$\n",
    "\\hat W^H_t = \\int_0^t\\,\\frac{(t-s)^{H-1/2}}{\\Gamma(H+1/2)}\\,dW_s,\\quad 1/2 \\leq H < 1\n",
    "$$\n",
    "\n",
    "and $\\ee{dW_t\\,dZ_t}=\\rho\\,dt$.\n",
    "\n",
    "- The FSV model is a generalization of the Hull-White stochastic volatility model.\n"
   ]
  },
  {
   "cell_type": "markdown",
   "metadata": {
    "slideshow": {
     "slide_type": "slide"
    }
   },
   "source": [
    "###RFSV and FSV\n",
    "\n",
    " \n",
    "  - The model [(1)](#eq:dataDriven):\n",
    "$$\n",
    "\\log \\sigma_{t+\\Delta} - \\log \\sigma_t =\\nu\\,\\left( W^H_{t+\\Delta}-W^H_t\\right)\n",
    "$$\n",
    "is not stationary.\n",
    " \n",
    " \n",
    "- Stationarity is desirable both for mathematical tractability and also to ensure reasonableness of the model at very large times. \n",
    "  \n",
    "  \n",
    "- The RFSV model (the stationary version of [(1)](#eq:dataDriven) is formally identical to the FSV model.  Except that\n",
    " \n",
    "  - $H<1/2$ in RFSV vs $H>1/2$ in FSV.\n",
    "  - $\\alpha\\,T \\gg1$  in RFSV vs $\\alpha\\,T \\sim 1$ in FSV,\n",
    "  where $T$ is a typical timescale of interest.\n",
    "\n",
    "\n",
    "  "
   ]
  },
  {
   "cell_type": "markdown",
   "metadata": {
    "slideshow": {
     "slide_type": "slide"
    }
   },
   "source": [
    "###FSV and long memory\n",
    "\n",
    " \n",
    "- Why did <span>[Comte and Renault]<sup id=\"cite_ref-ComteRenault\" class=\"reference\"><a href=\"#cite_note-ComteRenault\"><span>[</span>6<span>]</span></a></sup> choose $H>1/2$?\n",
    " \n",
    "  - Because it has been a widely-accepted stylized fact that the volatility time series exhibits long memory.  \n",
    "\n",
    "\n",
    "- In this technical sense, *long memory* means that the autocorrelation function of volatility decays as a power-law.\n",
    "\n",
    "\n",
    "- One of the influential papers that established this was  <span>[Andersen, Bollerslev, Diebold and Ebens]<sup id=\"cite_ref-ABDE\" class=\"reference\"><a href=\"#cite_note-ABDE\"><span>[</span>1<span>]</span></a></sup> which estimated the degree $d$ of fractional integration from daily realized variance data for the 30 DJIA stocks.\n",
    " \n",
    "  - Using the GPH estimator, they found $d$ around $0.35$ which implies that the ACF $\\rho(\\tau)  \\sim \\tau^{2\\,d-1} = \\tau ^{-0.3}$ as $\\tau \\to \\infty$.\n",
    " \n",
    " \n",
    "- But every statistical estimator assumes the validity of some underlying model!\n",
    " \n",
    " \n",
    "- In the RFSV model, \n",
    "$$\n",
    "\\rho(\\Delta) \\sim \\exp\\left\\{-\\frac{\\eta^2}{2}\\,\\Delta^{2\\,H}\\right\\}.\n",
    "$$\n",
    " \n",
    " \n",
    "- Using the same GPH estimator on the Oxford-Man RV data we find $d = 0.48$.  But our model [(1)](#eq:dataDriven) is different from that of <span>[Andersen, Bollerslev, Diebold and Ebens]<sup id=\"cite_ref-ABDE\" class=\"reference\"><a href=\"#cite_note-ABDE\"><span>[</span>1<span>]</span></a></sup>.  In our case, $\\rho(\\tau) \\sim \\tau^{2\\,H-1} = \\tau^{-0.72}$ as $\\tau \\to \\infty$.\n",
    "\n",
    "\n",
    "  "
   ]
  },
  {
   "cell_type": "markdown",
   "metadata": {
    "slideshow": {
     "slide_type": "slide"
    }
   },
   "source": [
    "###Correlogram and test of scaling"
   ]
  },
  {
   "cell_type": "code",
   "execution_count": null,
   "metadata": {
    "collapsed": false,
    "jupyter": {
     "outputs_hidden": false
    },
    "slideshow": {
     "slide_type": "fragment"
    }
   },
   "outputs": [],
   "source": [
    "%%R\n",
    "\n",
    "v <- rv.list[[1]]  # Pick spx.rk\n",
    "sig <- sqrt(as.numeric(v))\n",
    "\n",
    "aclog <-acf(log(sig),lag=100,plot=F)\n",
    "plot(aclog$lag[-1],aclog$acf[-1],pch=20,ylab=expression(rho(Delta)),xlab=expression(paste(Delta,\" (days)\")),log=\"xy\",col=\"blue\")\n",
    "esig2 <- mean(sig)^2\n",
    "covdel <- acf(sig,lag.max=100,type=\"covariance\",plot=F)$acf[-1]\n",
    "x <- (1:100)^.28\n",
    "plot(x,log(covdel+esig2),pch=20,col=\"dark green\",ylab=expression(phi(Delta)),xlab=expression(Delta^0.28 ))\n",
    "abline(lm(log(covdel+esig2)~x),col=\"red\",lwd=2)\n"
   ]
  },
  {
   "cell_type": "markdown",
   "metadata": {
    "slideshow": {
     "slide_type": "fragment"
    }
   },
   "source": [
    "Figure 5: The upper plot is a conventional correlogram of $\\sigma_t=\\sqrt{RV_t}$; the lower plot is of $\\phi(\\Delta):= \\angl{\\log\\left(\\cov(\\sigma_{t+\\Delta},\\sigma_t)+ \\angl{\\sigma_t}^2\\right)}$ vs $\\Delta^{2\\,H}$ with $H=0.14$.  The lower plot again supports the scaling relationship $m(2,\\Delta) \\propto \\Delta^{2\\,H}$.\n"
   ]
  },
  {
   "cell_type": "markdown",
   "metadata": {
    "slideshow": {
     "slide_type": "slide"
    }
   },
   "source": [
    "###Heuristic derivation of autocorrelation function\n",
    "\n",
    "We assume that $\\sigma_t = {\\bar \\sigma}_t\\,e^{\\eta\\,W^H_t}$.  Then\n",
    "\n",
    "$$\n",
    "\\beas\n",
    "&&\\cov\\left[\\sigma_t,\\sigma_{t+\\Delta}\\right]\\\\\n",
    "&=& {\\bar \\sigma}_t\\,{\\bar \\sigma}_{t+\\Delta}\\,\\left[\\exp\\left\\{ \\frac {\\eta^2}2\\,\\left(t^{2\\,H} +(t+\\Delta)^{2\\,H} - \\Delta^{2\\,H}\\right)  \\right\\}-1\\right]\\\\\n",
    "& \\sim& {\\bar \\sigma}_t\\,{\\bar \\sigma}_{t+\\Delta}\\,\\exp\\left\\{ \\frac {\\eta^2}2\\,\\left(t^{2\\,H} +(t+\\Delta)^{2\\,H} - \\Delta^{2\\,H}\\right)  \\right\\} \\text{ as } t \\to \\infty.\n",
    "\\eeas\n",
    "$$\n",
    "\n",
    "Similarly,\n",
    "$$\n",
    "\\var\\left[\\sigma_t\\right] \\sim {\\bar \\sigma}_t^2\\,\\exp\\left\\{ {\\eta^2}\\,t^{2\\,H}\\right\\}.\n",
    "$$\n",
    "\n",
    "Thus\n",
    "$$\n",
    "\\rho(\\Delta)=\\frac{\\cov\\left[\\sigma_t,\\sigma_{t+\\Delta}\\right]}{\\sqrt{\\var\\left[\\sigma_t\\right] \\,\\var\\left[\\sigma_{t+\\Delta}\\right] }} \\sim \\exp\\left\\{-\\frac{\\eta^2}{2}\\,\\Delta^{2\\,H}\\right\\}.\n",
    "$$\n"
   ]
  },
  {
   "cell_type": "markdown",
   "metadata": {
    "slideshow": {
     "slide_type": "slide"
    }
   },
   "source": [
    "###Model vs empirical autocorrelation functions"
   ]
  },
  {
   "cell_type": "code",
   "execution_count": null,
   "metadata": {
    "collapsed": false,
    "jupyter": {
     "outputs_hidden": false
    },
    "slideshow": {
     "slide_type": "fragment"
    }
   },
   "outputs": [],
   "source": [
    "%%R\n",
    "\n",
    "v <- rv.list[[1]]  # Pick spx.rk\n",
    "sig <- sqrt(as.numeric(v))\n",
    "\n",
    "aclog <-acf(log(sig),lag=100,plot=F)\n",
    "plot(aclog$lag[-1],aclog$acf[-1],pch=20,ylab=expression(rho(Delta)),\n",
    "     xlab=expression(paste(Delta,\" (days)\")),log=\"xy\",col=\"blue\")\n",
    "y <- log(aclog$acf)\n",
    "(h.spx <- OxfordH$h.est[1])\n",
    "x <- aclog$lag^(2*h.spx)\n",
    "fit.lm <- lm(y[-1]~x[-1])\n",
    "a <- fit.lm$coef[1]\n",
    "b <- fit.lm$coef[2]\n",
    "curve(exp(a+b*x^(2*h.est)),from=0.001,to=100,col=\"red\",add=T,lwd=2,log=\"xy\")\n",
    "\n"
   ]
  },
  {
   "cell_type": "markdown",
   "metadata": {
    "slideshow": {
     "slide_type": "fragment"
    }
   },
   "source": [
    "Figure 6: Here we superimpose the RFSV functional form $\\rho(\\Delta) \\sim \\exp\\left\\{-\\frac{\\eta^2}{2}\\,\\Delta^{2\\,H}\\right\\}$ (in red) on the empirical curve (in blue)."
   ]
  },
  {
   "cell_type": "markdown",
   "metadata": {
    "slideshow": {
     "slide_type": "slide"
    }
   },
   "source": [
    "###Volatility is not long memory\n",
    "\n",
    " \n",
    "- It's clear from Figures 5 and 6 that volatility is not long memory.\n",
    "\n",
    "\n",
    "- Moreover, the RFSV model reproduces the observed autocorrelation function very closely.\n",
    "\n",
    "\n",
    "- <span>[Gatheral, Jaisson and Rosenbaum]<sup id=\"cite_ref-GJR\" class=\"reference\"><a href=\"#cite_note-GJR\"><span>[</span>6<span>]</span></a></sup> further simulate volatility in the RFSV model and apply standard estimators to the simulated data.\n",
    "\n",
    "    - Real data and simulated data generate very similar plots and similar estimates of the long memory parameter to those found in the prior literature.\n",
    "\n",
    "\n",
    "- The RSFV model does not have the long memory property.\n",
    "\n",
    "\n",
    "\n",
    "- Classical estimation procedures seem to identify spurious long memory of volatility.\n",
    "  "
   ]
  },
  {
   "cell_type": "markdown",
   "metadata": {
    "slideshow": {
     "slide_type": "slide"
    }
   },
   "source": [
    "###Incompatibility of FSV with realized variance (RV) data}\n",
    "\n",
    " \n",
    "  - In Figure 7, we demonstrate graphically that long memory volatility models such as FSV with $H>1/2$ are not compatible with the RV data.\n",
    "\n",
    "\n",
    "  - In the FSV model, the autocorrelation function $\\rho(\\Delta) \\propto \\Delta^{2\\,H-2}$.  Then, for long memory, we must have $1/2<H<1$.\n",
    "    - For $\\Delta \\gg 1/\\alpha$, stationarity kicks in and $m(2,\\Delta)$ tends to a constant as $\\Delta \\to \\infty$.\n",
    "    - For $\\Delta \\ll 1/\\alpha$, mean reversion is not significant and $m(2,\\Delta) \\propto \\Delta^{2\\,H}$.\n",
    "  \n",
    " "
   ]
  },
  {
   "cell_type": "markdown",
   "metadata": {
    "slideshow": {
     "slide_type": "slide"
    }
   },
   "source": [
    "### RFSV vs FSV\n",
    "\n",
    "- We can compute $m(2,\\Delta)$ explicitly in both the FSV and RFSV models.\n",
    "\n",
    "\n",
    "- The smallest possible value of $H$ in FSV is $H=1/2$.  One empirical estimate in the literature says that $H \\approx 0.53$ some time in 2008.  \n",
    "\n",
    "\n",
    "- Let's see how the theoretical estimates of $m(2,\\Delta)$ compare with data.\n",
    "\n",
    "<h3><img src=\"http://mfe.baruch.cuny.edu/wp-content/uploads/2015/02/FsvVsRFSV.png\" align = \"left\" width=700></h3> "
   ]
  },
  {
   "cell_type": "markdown",
   "metadata": {
    "slideshow": {
     "slide_type": "fragment"
    }
   },
   "source": [
    "Figure 7: Black points are empirical estimates of $m(2,\\Delta)$; the blue line is the FSV model with $\\alpha=0.5$ and $H=0.53$; the orange line is the RFSV model with $\\alpha=0$ and $H=0.14$.\n"
   ]
  },
  {
   "cell_type": "markdown",
   "metadata": {
    "slideshow": {
     "slide_type": "slide"
    }
   },
   "source": [
    "###Does simulated RSFV data look real?"
   ]
  },
  {
   "cell_type": "markdown",
   "metadata": {
    "slideshow": {
     "slide_type": "fragment"
    }
   },
   "source": [
    "<h3><img src=\"http://mfe.baruch.cuny.edu/wp-content/uploads/2015/02/vol2.png\" align = \"left\" width=700></h3> "
   ]
  },
  {
   "cell_type": "markdown",
   "metadata": {
    "slideshow": {
     "slide_type": "fragment"
    }
   },
   "source": [
    "Figure 8: Volatility of SPX (above) and of the RFSV model (below)."
   ]
  },
  {
   "cell_type": "markdown",
   "metadata": {
    "slideshow": {
     "slide_type": "slide"
    }
   },
   "source": [
    "###Remarks on the comparison\n",
    "\n",
    " \n",
    "  - The simulated and actual graphs look very alike. \n",
    " \n",
    "  - Persistent periods of high volatility alternate with low volatility periods. \n",
    "  \n",
    "  - $H \\sim 0.1$ generates very rough looking sample paths (compared with $H=1/2$ for Brownian motion).\n",
    " \n",
    "  - Hence *rough volatility*.\n",
    "  \n",
    "  - On closer inspection, we observe fractal-type behavior.\n",
    " \n",
    "  - The graph of volatility over a small time period looks like the same graph over a much longer time period.\n",
    "  \n",
    "  - This feature of volatility has been investigated both empirically and theoretically in, for example, <span>[Bacry and Muzy]<sup id=\"cite_ref-BacryMuzy\" class=\"reference\"><a href=\"#cite_note-BacryMuzy\"><span>[</span>3<span>]</span></a></sup>\n",
    ".\n",
    " \n",
    "  - In particular, their Multifractal Random Walk (MRW) is related to a limiting case of the RSFV model as $H \\to 0$.\n",
    "  \n",
    " "
   ]
  },
  {
   "cell_type": "markdown",
   "metadata": {
    "slideshow": {
     "slide_type": "slide"
    }
   },
   "source": [
    "###Pricing under rough volatility\n",
    "\n",
    "The foregoing behavior suggest the following model for volatility under the real (or historical or physical) measure $\\mP$:\n",
    "\n",
    "$$\n",
    " \\log \\sigma_t =\\nu\\,W^H_t.\n",
    "$$\n",
    "\n",
    "Let $\\gamma=\\frac{1}{2}-H$.  We choose the Mandelbrot-Van Ness representation of fractional Brownian motion $W^H$ as follows:\n",
    "\n",
    "$$\n",
    "W^H_t ={C_H}\\,\\left\\{\\int_{-\\infty}^t \\,\\frac{dW^{\\mP}_s}{(t-s)^\\gamma} - \\int_{-\\infty}^0 \\,\\frac{dW^{\\mP}_s}{(-s)^\\gamma}\\right\\}\n",
    "$$\n",
    "\n",
    "where the choice\n",
    "\n",
    "$$\n",
    "C_H = \\sqrt{ \\frac{2\\,H\\,\\Gamma(3/2-H)}{\\Gamma(H+1/2)\\,\\Gamma(2-2\\,H)}}\n",
    "$$\n",
    "\n",
    "ensures that\n",
    "$$\n",
    "\\E\\left[W^H_t\\,W^H_s\\right]= \\frac{1}{2}\\,\\left\\{t^{2 H} + s^{2 H} - |t-s|^{2 H}\\right\\}.\n",
    "$$\n",
    "\n",
    "\n",
    "Then\n",
    "\n",
    "$$\n",
    "\\beas\n",
    "&&\\log v_u - \\log v_t \\nonumber\\\\\n",
    "&=&\\nu\\,C_H\\,\\left\\{ \\int_t^u\\,\\frac{1}{(u-s)^\\gamma}\\,d{W}^{\\mP}_s  +\\int_{-\\infty}^t\\,\\left[ \\frac{1}{(u-s)^\\gamma}-\\frac{1}{(t-s)^\\gamma} \\right]\\,d{W}^{\\mP}_s\\right\\}\\nonumber\\\\\n",
    "&=:& 2\\,\\nu\\,C_H\\,\\left[M_t(u)+ Z_t(u)\\right].\n",
    "\\eeas\n",
    "$$\n",
    "\n",
    "- Note that $\\eefm{M_t(u)}{\\mP}=0$ and $Z_t(u)$ is $\\cF_t$-measurable.  \n",
    "\n",
    "  - To price options, it would seem that we would need to know $\\cF_t$, the entire history of the Brownian motion $W_s$ for $s<t$!\n",
    "\n",
    "  "
   ]
  },
  {
   "cell_type": "markdown",
   "metadata": {
    "slideshow": {
     "slide_type": "slide"
    }
   },
   "source": [
    "###Pricing under $\\mP$\n",
    "\n",
    "\n",
    "Let\n",
    "\n",
    "$$\n",
    "\\tilde W^{\\mP}_t(u) := \\sqrt{2\\,H}\\,\\int_t^u\\,\\frac{dW^{\\mP}_s}{(u-s)^\\gamma}\n",
    "$$\n",
    "\n",
    "With \n",
    "$\\eta := 2\\,\\nu\\,C_H/\\sqrt{2\\,H}$ we have $2\\,\\nu\\,C_H\\, M_t(u)\n",
    "= \\eta\\, \\tilde W^{\\mP}_t(u)$ so denoting the stochastic exponential by $\\cE(\\cdot)$, we may write\n",
    "\n",
    "$$\n",
    "\\bea\n",
    "v_u &=& v_t \\exp\\left\\{  \\eta \\tilde W^{\\mP}_t(u) +\n",
    " 2\\,\\nu\\,C_H\\, \n",
    "Z_t(u) \\right\\}\\nonumber\\\\\n",
    "&=& \\eefm{v_u}{\\mP}\\,\\cE \\left(\\eta\\,\\tilde W^{\\mP}_t(u) \\right).\n",
    "%\\label{eq:rBergomiP}\n",
    "\\eea\n",
    "$$  \n",
    " \n",
    "  - The conditional distribution of $v_u$ depends on $\\cF_t$ only through the variance forecasts $\\eefm{v_u}{\\mP}$, \n",
    " \n",
    " \n",
    " - To price options, one does not need to know $\\cF_t$, the entire history of the Brownian motion $W_s^{\\mP}$ for $s<t$.\n",
    "\n",
    " "
   ]
  },
  {
   "cell_type": "markdown",
   "metadata": {
    "slideshow": {
     "slide_type": "slide"
    }
   },
   "source": [
    "###Pricing under $\\mQ$\n",
    "\n",
    "Our model under $\\mP$ reads:\n",
    "\n",
    "<a name=\"eq:Pmodel\"></a>(2)\n",
    "$$\n",
    "v_u =\\eefm{v_u}{\\mP}\\,\\cE\\left(\\eta\\,\\tilde W^{\\mP}_t(u) \\right).\n",
    "%\\label{eq:Pmodel}\n",
    "$$\n",
    "\n",
    "Consider some general change of measure\n",
    "\n",
    "$$\n",
    "dW^{\\mP}_s = dW^{\\mQ}_s + \\lambda_s\\,ds,\n",
    "%\\label{eq:dQdP}\n",
    "$$\n",
    "\n",
    "where $\\{ \\lambda_s: s > t \\}$  has a natural interpretation as the price of volatility risk.  We may then rewrite [(2)](#eq:Pmodel) as\n",
    "\n",
    "$$\n",
    "v_u\n",
    "=  \\eefm{v_u}{\\mP}\\,\\cE\\left(\\eta\\,\\tilde W^{\\mQ}_t(u) \\right)\n",
    "\\exp \\left\\{ \\eta\\,\\sqrt{2\\,H}\\, \\int_t^u\\,\\frac{\\lambda_s}{(u-s)^\\gamma}\\,ds\\right\\}.\n",
    "%\\label{eq:explicitBergomiQ1}\n",
    "$$\n",
    " \n",
    "- Although the conditional distribution of $v_u$ under $\\mP$ is lognormal, it will not be lognormal in general under $\\mQ$.  \n",
    " \n",
    "  - The upward sloping smile in VIX options means $\\lambda_s$ cannot be deterministic in this picture."
   ]
  },
  {
   "cell_type": "markdown",
   "metadata": {
    "slideshow": {
     "slide_type": "slide"
    }
   },
   "source": [
    "###The rough Bergomi (rBergomi) model\n",
    "\n",
    "Let's nevertheless consider the simplest change of measure \n",
    "\n",
    "$$\n",
    "d{W}^{\\mP}_s = d{W}^{\\mQ}_s + \\lambda(s)\\,ds, \n",
    "$$\n",
    "\n",
    "where $\\lambda(s)$ is a deterministic function of $s$.  Then from [(2)](#eq:Pmodel), we would have\n",
    "\n",
    "$$\n",
    "\\bea\n",
    "v_u \n",
    "&=&  \\eefm{v_u}{\\mP}\\,\\cE\\left(\\eta\\,\\tilde W^{\\mQ}_t(u) \\right)\n",
    "\\exp \\left\\{ \\eta\\,\\sqrt{2\\,H}\\,  \\int_t^u\\,\\frac{1}{(u-s)^\\gamma}\\,\\lambda(s)\\,ds\\right\\}\\nonumber\\\\\n",
    "&=& \\xi_t(u) \\,\\cE\\left(\\eta\\,\\tilde W^{\\mQ}_t(u) \\right)%\\label{eq:explicitBergomiQ}\n",
    "\\eea\n",
    "$$\n",
    "\n",
    "where the forward variances $\\xi_t(u) =  \\eefm{v_u}{\\mQ}$ are (at least in principle) tradable and  observed in the market.\n",
    "\n",
    " \n",
    "  -  $\\xi_t(u)$ is the product of two terms:\n",
    "  \n",
    "  - $ \\eefm{v_u}{\\mP}$ which depends on the historical path $\\{W_s, s<t \\}$ of the Brownian motion\n",
    "  - a term which depends on the price of risk $\\lambda(s)$.\n",
    "  \n",
    "  \n",
    "\n"
   ]
  },
  {
   "cell_type": "markdown",
   "metadata": {
    "slideshow": {
     "slide_type": "slide"
    }
   },
   "source": [
    "###Features of the rough Bergomi model\n",
    "\n",
    "\n",
    " - The rBergomi model is a non-Markovian generalization of the Bergomi model:\n",
    "$$\n",
    "\\eef{v_u}\\neq \\E[v_u|v_t].\n",
    "$$\n",
    "    - The rBergomi model is Markovian in the (infinite-dimensional) state vector $\\eefm{v_u}{\\mQ}=\\xi_t(u)$.\n",
    "\n",
    "\n",
    "  - We have achieved our aim from Lecture 1 of replacing the exponential kernels in the Bergomi model with a power-law kernel.  \n",
    " \n",
    "- We may therefore expect that the rBergomi model will generate a realistic term structure of ATM volatility skew."
   ]
  },
  {
   "cell_type": "markdown",
   "metadata": {
    "slideshow": {
     "slide_type": "slide"
    }
   },
   "source": [
    "###Re-interpretation of the conventional Bergomi model\n",
    "\n",
    " \n",
    "  - A conventional $n$-factor Bergomi model is not self-consistent for an arbitrary choice of the initial forward variance curve $\\xi_t(u)$.\n",
    " \n",
    " - $\\xi_t(u)=\\eef{v_u}$ should be consistent with the assumed dynamics.\n",
    "  \n",
    "  \n",
    "- Viewed from the perspective of the fractional Bergomi model however:\n",
    " \n",
    "  - The initial curve $\\xi_t(u)$ reflects the history $\\{W_s; s<t\\}$ of the driving Brownian motion up to time $t$.\n",
    "  - The exponential kernels in the exponent of the conventional Bergomi model approximate more realistic power-law kernels.\n",
    "  \n",
    "\n",
    "  - The conventional two-factor Bergomi model is then justified in practice as a tractable Markovian engineering approximation to a more realistic fractional Bergomi model."
   ]
  },
  {
   "cell_type": "markdown",
   "metadata": {
    "slideshow": {
     "slide_type": "slide"
    }
   },
   "source": [
    "###The stock price process\n",
    "\n",
    " \n",
    "- The observed anticorrelation between price moves and volatility moves may be  modeled naturally by anticorrelating the Brownian motion $W$ that drives the volatility process with the Brownian motion driving the price process.  \n",
    "\n",
    "\n",
    "- Thus\n",
    "$$\n",
    "\\frac{dS_t}{S_t}=\\sqrt{v_t}\\,dZ_t\n",
    "$$\n",
    "with\n",
    "$$\n",
    "dZ_t = \\rho\\,dW_t + \\sqrt{1-\\rho^2}\\,dW^\\perp_t\n",
    "$$\n",
    "where $\\rho$ is the correlation between volatility moves and price moves.\n",
    "  "
   ]
  },
  {
   "cell_type": "markdown",
   "metadata": {
    "slideshow": {
     "slide_type": "slide"
    }
   },
   "source": [
    "###Simulation of the  rBergomi model\n",
    "\n",
    "We simulate the rBergomi model as follows:\n",
    " \n",
    "\n",
    "\n",
    "- Construct the  joint covariance matrix for the Volterra process $\\tilde\n",
    "  W$ and the Brownian motion $Z$ and compute its Cholesky decomposition.\n",
    "\n",
    "\n",
    "- For each time, generate iid normal random vectors {and\n",
    "    multiply them by the lower-triangular matrix obtained by the Cholesky\n",
    "    decomposition} to get a $m \\times 2\\,n$ matrix of paths of $\\tilde W$     and $Z$ with the correct joint marginals.\n",
    "\n",
    "\n",
    "- With these paths held in memory, we may evaluate the expectation under $\\mQ$ of any payoff of interest.\n",
    "\n",
    "\n",
    "\n",
    "\n",
    "- This procedure is very slow!\n",
    " \n",
    "    - Speeding up the simulation is work in progress.\n",
    "  "
   ]
  },
  {
   "cell_type": "markdown",
   "metadata": {
    "slideshow": {
     "slide_type": "slide"
    }
   },
   "source": [
    "###Guessing rBergomi model parameters\n",
    "\n",
    " \n",
    "- The rBergomi model has only three parameters: $H$, $\\eta$ and $\\rho$.\n",
    "\n",
    "\n",
    "- If we had a fast simulation, we could just iterate on these parameters to find the best fit to observed option prices.  But we don't.\n",
    "\n",
    "\n",
    "- However, the model parameters $H$, $\\eta$ and $\\rho$ have very direct interpretations:\n",
    " \n",
    "    - $H$ controls the decay of ATM skew $\\psi(\\tau)$ for very short expirations.\n",
    "    \n",
    "    - The product $\\rho\\,\\eta$ sets the level of the ATM skew for longer expirations.\n",
    "    \n",
    "      - Keeping  $\\rho\\,\\eta$ constant but decreasing $\\rho$ (so as to make it more negative) pushes the minimum of each smile towards higher strikes. \n",
    "  \n",
    "\n",
    "- So we can guess parameters in practice.\n",
    "\n",
    "\n",
    "- As we will see, even without proper calibration (*i.e.* just guessing parameters), rBergomi model fits to the volatility surface are amazingly good."
   ]
  },
  {
   "cell_type": "markdown",
   "metadata": {
    "slideshow": {
     "slide_type": "slide"
    }
   },
   "source": [
    "###Parameter estimation from historical data\n",
    "\n",
    " \n",
    "- Both the roughness parameter (or Hurst parameter) $H$ and the volatility of volatility $\\eta$ should be the same under $\\mP$ and $\\mQ$.  \n",
    "\n",
    "\n",
    "- Earlier, using the Oxford-Man realized variance dataset, we estimated  the Hurst parameter  $H_{eff} \\approx 0.14$ and volatility of volatility $\\nu_{eff} \\approx 0.3$.  \n",
    "\n",
    "\n",
    "- However,  we not observe the instantaneous volatility $\\sigma_t$, only  $\\frac{1}{\\delta}\\,\\int_0^\\delta \\sigma_t^2\\,dt$ where $\\delta$  is roughly $3/4$ of a whole day from close to close.  \n",
    "  - Using Appendix C of <span>[Gatheral, Jaisson and Rosenbaum]<sup id=\"cite_ref-GJR\" class=\"reference\"><a href=\"#cite_note-GJR\"><span>[</span>9<span>]</span></a></sup>\n",
    ", we rescale finding $H \\approx 0.05$ and $\\nu \\approx 1.7$.    \n",
    "  \n",
    "  \n",
    "- Also, recall that\n",
    "$$\n",
    "\\eta = 2\\,\\nu\\,\\frac{C_H}{\\sqrt{2\\,H}} =  2\\,\\nu\\,\\sqrt{ \\frac{\\Gamma(3/2-H)}{\\Gamma(H+1/2)\\,\\Gamma(2-2\\,H)}}\n",
    "$$\n",
    "which yields the estimate \n",
    "$\n",
    "\\eta \\approx 2.5\n",
    "$."
   ]
  },
  {
   "cell_type": "markdown",
   "metadata": {
    "slideshow": {
     "slide_type": "slide"
    }
   },
   "source": [
    "###SPX smiles in the rBergomi model\n",
    "\n",
    " \n",
    "- In Figures 9 and 10, we show how well a rBergomi model simulation with guessed parameters fits the SPX option market as of February 4, 2010, a day when the ATM volatility term structure happened to be pretty flat.  \n",
    " \n",
    "   - rBergomi parameters were: $H=0.07$, $\\eta=1.9$, $\\rho=-0.9$.\n",
    "  \n",
    " \n",
    "\n",
    "- Only three parameters to get a very good fit to the whole SPX volatility surface!"
   ]
  },
  {
   "cell_type": "markdown",
   "metadata": {
    "slideshow": {
     "slide_type": "slide"
    }
   },
   "source": [
    "###rBergomi fits to SPX smiles as of 04-Feb-2010\n",
    "\n",
    "<h3><img src=\"http://mfe.baruch.cuny.edu/wp-content/uploads/2015/02/spxSmiles20140204-07.png\" align = \"left\" width=700></h3> "
   ]
  },
  {
   "cell_type": "markdown",
   "metadata": {
    "slideshow": {
     "slide_type": "fragment"
    }
   },
   "source": [
    "Figure 9: Red and blue points represent bid and offer SPX implied volatilities; orange smiles are from the rBergomi simulation."
   ]
  },
  {
   "cell_type": "markdown",
   "metadata": {
    "slideshow": {
     "slide_type": "slide"
    }
   },
   "source": [
    "###Shortest dated smile as of February 4, 2010\n",
    "\n",
    "<h3><img src=\"http://mfe.baruch.cuny.edu/wp-content/uploads/2015/02/spxSmiles20140204-07-1.png\" align = \"left\" width=500></h3> "
   ]
  },
  {
   "cell_type": "markdown",
   "metadata": {
    "slideshow": {
     "slide_type": "fragment"
    }
   },
   "source": [
    "Figure 10: Red and blue points represent bid and offer SPX implied volatilities; orange smile is from the rBergomi simulation.\n"
   ]
  },
  {
   "cell_type": "markdown",
   "metadata": {
    "slideshow": {
     "slide_type": "slide"
    }
   },
   "source": [
    "###ATM volatilities and skews\n",
    "\n",
    "In Figures 11 and 12, we see just how well the rBergomi model can match empirical skews and vols.  Recall also that the parameters we used are just guesses!"
   ]
  },
  {
   "cell_type": "markdown",
   "metadata": {
    "slideshow": {
     "slide_type": "slide"
    }
   },
   "source": [
    "###Term structure of ATM skew as of February 4, 2010\n",
    "\n",
    "<h3><img src=\"http://mfe.baruch.cuny.edu/wp-content/uploads/2015/02/atmSkew20100204.png\" align = \"left\" width=700></h3> "
   ]
  },
  {
   "cell_type": "markdown",
   "metadata": {
    "slideshow": {
     "slide_type": "slide"
    }
   },
   "source": [
    "Figure 11: Blue points are empirical skews; the red line is from the rBergomi simulation."
   ]
  },
  {
   "cell_type": "markdown",
   "metadata": {
    "slideshow": {
     "slide_type": "slide"
    }
   },
   "source": [
    "###Term structure of ATM vol as of February 4, 2010\n",
    "\n",
    "<h3><img src=\"http://mfe.baruch.cuny.edu/wp-content/uploads/2015/02/atmVols20100204.png\" align = \"left\" width=700></h3> "
   ]
  },
  {
   "cell_type": "markdown",
   "metadata": {
    "slideshow": {
     "slide_type": "fragment"
    }
   },
   "source": [
    "Figure 12: Blue points are empirical ATM volatilities; the red line is from the rBergomi simulation."
   ]
  },
  {
   "cell_type": "markdown",
   "metadata": {
    "slideshow": {
     "slide_type": "slide"
    }
   },
   "source": [
    "###Another date\n",
    "\n",
    " \n",
    "  - Now we take a look at another date: August 14, 2013, two days before the last expiration date in our dataset.\n",
    " \n",
    " \n",
    "  - Options set at the open of August 16, 2013 so only one trading day left.\n",
    "  \n",
    "  \n",
    "  - Note in particular that the extreme short-dated smile is well reproduced by the rBergomi model.\n",
    " \n",
    " \n",
    "  - There is no need to add jumps!\n",
    "  "
   ]
  },
  {
   "cell_type": "markdown",
   "metadata": {
    "slideshow": {
     "slide_type": "slide"
    }
   },
   "source": [
    "###SPX smiles as of August 14, 2013\n",
    "\n",
    "<h3><img src=\"http://mfe.baruch.cuny.edu/wp-content/uploads/2015/02/spxSmiles20130814-05.png\" align = \"left\" width=700></h3> "
   ]
  },
  {
   "cell_type": "markdown",
   "metadata": {
    "slideshow": {
     "slide_type": "fragment"
    }
   },
   "source": [
    "Figure 13: Red and blue points represent bid and offer SPX implied volatilities; orange smiles are from the rBergomi simulation."
   ]
  },
  {
   "cell_type": "markdown",
   "metadata": {
    "slideshow": {
     "slide_type": "slide"
    }
   },
   "source": [
    "###The forecast formula\n",
    "\n",
    " \n",
    "- In the RFSV model [(1)](#eq:dataDriven), $\\log \\sigma_t \\approx \\nu\\,W^H_t+C$ for some constant $C$.\n",
    "\n",
    "\n",
    "-  <span>[Nuzman and Poor]<sup id=\"cite_ref-NuzmanPoor\" class=\"reference\"><a href=\"#cite_note-NuzmanPoor\"><span>[</span>11<span>]</span></a></sup> show that $W^H_{t+\\Delta}$ is conditionally Gaussian with conditional expectation\n",
    "\n",
    "$$\\E[W^H_{t+\\Delta}|\\cF_t]=\\frac{\\cos(H\\pi)}{\\pi} \\Delta^{H+1/2} \\int_{-\\infty}^t \\frac{W^H_s}{(t-s+\\Delta)(t-s)^{H+1/2}} ds\n",
    "$$  \n",
    "\n",
    "and conditional variance\n",
    "\n",
    "$$\n",
    "\\text{Var}[W^H_{t+\\Delta}|\\cF_t]=c\\,\\Delta^{2H}.\n",
    "$$\n",
    "where $$\n",
    "c = \\frac{\\Gamma(3/2-H)}{\\Gamma(H+1/2)\\,\\Gamma(2-2H)}.\n",
    "$$\n",
    "\n",
    " "
   ]
  },
  {
   "cell_type": "markdown",
   "metadata": {
    "slideshow": {
     "slide_type": "slide"
    }
   },
   "source": [
    "###The forecast formula\n",
    " \n",
    "Thus, we obtain \n",
    "\n",
    "<blockquote><div style=\"background-color:#003399; color:#FFFFFF; font-style: normal;  \" ><h4>\n",
    "Variance forecast formula</h4>\n",
    "</div>\n",
    "<div style=\"background-color:#E8E8E8; color:#000000; font-style: normal; \">\n",
    "<br>\n",
    "\n",
    "<a name=\"eq:vForecast\"></a>(3)\n",
    "$$\n",
    "\\eefm{v_{t+\\Delta}}{\\mP}=\\exp\\left\\{\\eefm{\\log(v_{t+\\Delta})}{\\mP}+2\\, c\\,\\nu^2\\Delta^{2\\,H}\\right\\}\n",
    "%\\label{eq:vForecast}\n",
    "$$\n",
    "\n",
    "<br>\n",
    "\n",
    "</div>\n",
    "\n",
    "</blockquote>\n",
    "\n",
    "where \n",
    "\n",
    "$$\n",
    "\\beas\n",
    "&&\\eefm{\\log v_{t+\\Delta}}{\\mP}\\\\\n",
    "&&= \\frac{\\cos(H\\pi)}{\\pi} \\Delta^{H+1/2} \\int_{-\\infty}^t \\frac{\\log v_s}{(t-s+\\Delta)(t-s)^{H+1/2}} ds.\n",
    "\\eeas\n",
    "$$"
   ]
  },
  {
   "cell_type": "markdown",
   "metadata": {
    "slideshow": {
     "slide_type": "slide"
    }
   },
   "source": [
    "###Implement variance forecast in R"
   ]
  },
  {
   "cell_type": "code",
   "execution_count": null,
   "metadata": {
    "collapsed": false,
    "jupyter": {
     "outputs_hidden": false
    },
    "slideshow": {
     "slide_type": "fragment"
    }
   },
   "outputs": [],
   "source": [
    "%%R\n",
    "\n",
    "# Find all of the dates\n",
    "dateIndex <- substr(as.character(index(spx.rk)),1,10) # Create index of dates\n",
    "\n",
    "cTilde <- function(h){gamma(3/2-h)/(gamma(h+1/2)*gamma(2-2*h))} # Factor because we are computing conditional on \\cF_t\n",
    "\n",
    "# XTS compatible version of forecast\n",
    "rv.forecast.XTS <- function(rvdata,h,date,nLags,delta,nu){\n",
    "  i <- (1:nLags)-1\n",
    "  cf <- 1/((i+1/2)^(h+1/2)*(i+1/2+delta)) # Lowest number should apply to latest date\n",
    "  datepos <- which(dateIndex==date)\n",
    "  ldata <- log(as.numeric(rvdata[datepos-i])) # Note that this object is ordered from earlier to later\n",
    "  pick <- which(!is.na(ldata))\n",
    "  norm <- sum(cf[pick])\n",
    "  fcst <- cf[pick]%*%ldata[rev(pick)]/norm # Most recent dates get the highest weight\n",
    "  return(exp(fcst+2*nu^2*cTilde(h)*delta^(2*h)))\n",
    "}"
   ]
  },
  {
   "cell_type": "markdown",
   "metadata": {
    "slideshow": {
     "slide_type": "slide"
    }
   },
   "source": [
    "###SPX actual vs forecast variance"
   ]
  },
  {
   "cell_type": "code",
   "execution_count": null,
   "metadata": {
    "collapsed": false,
    "jupyter": {
     "outputs_hidden": false
    },
    "slideshow": {
     "slide_type": "fragment"
    }
   },
   "outputs": [],
   "source": [
    "%%R\n",
    "\n",
    "rvdata <- spx.rk\n",
    "nu <- OxfordH$nu.est[1] # Vol of vol estimate for SPX\n",
    "n <- length(rvdata)\n",
    "delta <- 1\n",
    "nLags <- 500\n",
    "range <- nLags:(n-delta)\n",
    "rv.predict <- sapply(dateIndex[range],function(d){rv.forecast.XTS(rvdata,h=h.est,d,nLags=nLags,delta=delta,nu=nu)})\n",
    "rv.actual <- rvdata[range+delta]"
   ]
  },
  {
   "cell_type": "markdown",
   "metadata": {
    "slideshow": {
     "slide_type": "slide"
    }
   },
   "source": [
    "### Scatter plot of delta days ahead predictions"
   ]
  },
  {
   "cell_type": "code",
   "execution_count": null,
   "metadata": {
    "collapsed": false,
    "jupyter": {
     "outputs_hidden": false
    },
    "slideshow": {
     "slide_type": "fragment"
    }
   },
   "outputs": [],
   "source": [
    "%%R\n",
    "\n",
    "x <- as.numeric(rv.predict)\n",
    "y <- as.numeric(rv.actual)\n",
    "plot(x,y,col=\"blue\",pch=20, ylab=\"Actual vol.\", xlab=\"Predicted vol.\")\n"
   ]
  },
  {
   "cell_type": "markdown",
   "metadata": {
    "slideshow": {
     "slide_type": "fragment"
    }
   },
   "source": [
    "Figure 14: Actual vols vs predicted vols."
   ]
  },
  {
   "cell_type": "markdown",
   "metadata": {
    "slideshow": {
     "slide_type": "slide"
    }
   },
   "source": [
    "###Superimpose actual and predicted vols"
   ]
  },
  {
   "cell_type": "code",
   "execution_count": null,
   "metadata": {
    "collapsed": false,
    "jupyter": {
     "outputs_hidden": false
    },
    "slideshow": {
     "slide_type": "fragment"
    }
   },
   "outputs": [],
   "source": [
    "%%R\n",
    "\n",
    "vol.actual <- sqrt(as.numeric(rv.actual)*252)\n",
    "vol.predict <- sqrt(rv.predict*252)\n",
    "plot(vol.actual, col=\"blue\",type=\"l\")\n",
    "lines(vol.predict, col=\"red\",type=\"l\")"
   ]
  },
  {
   "cell_type": "markdown",
   "metadata": {
    "slideshow": {
     "slide_type": "fragment"
    }
   },
   "source": [
    "Figure 15: Actual volatilities in blue; predicted vols in red."
   ]
  },
  {
   "cell_type": "markdown",
   "metadata": {
    "slideshow": {
     "slide_type": "slide"
    }
   },
   "source": [
    "### Forecasting the variance swap curve\n",
    "\n",
    "Finally, we forecast the whole variance swap curve using the variance forecasting formula [(3)](#eq:vForecast).\n"
   ]
  },
  {
   "cell_type": "code",
   "execution_count": null,
   "metadata": {
    "collapsed": false,
    "jupyter": {
     "outputs_hidden": false
    },
    "slideshow": {
     "slide_type": "fragment"
    }
   },
   "outputs": [],
   "source": [
    "%%R\n",
    "\n",
    "library(stinepack)\n",
    "\n",
    "xi1 <- function(date,nu,h,dt, tscale){ # dt=(u-t) is in units of years\n",
    "  xi <- rv.forecast.XTS(spx.rk,h=h,date=date,nLags=500,delta=dt*tscale,nu)\n",
    "  return(xi)\n",
    "}\n",
    "\n",
    "# Forward variance curve (again the array tt should be in units of years)\n",
    "xi <- function(date,tt,nu,h, tscale){sapply(tt,function(x){xi1(date,nu=nu,h=h,x,tscale)})}\n",
    "\n",
    "\n",
    "nu <- OxfordH$nu.est[1]\n",
    "h <- OxfordH$h.est[1]\n",
    "\n",
    "varSwapCurve <- function(date,bigT,nSteps,nu,h,tscale,onFactor){\n",
    "  # Make vector of fwd variances\n",
    "  tt <- seq(0,bigT,length.out=(nSteps+1))\n",
    "  dt <- tt[2]\n",
    "  xicurve <- xi(date,tt,nu,h,tscale)\n",
    "  xicurve.mid <- (xicurve[1:nSteps]+xicurve[2:(nSteps+1)])/2\n",
    "  int.xicurve <- cumsum(xicurve.mid)*dt\n",
    "  varcurve <- int.xicurve/tt[-1]\n",
    "  varcurve <- c(xicurve[1], varcurve)*onFactor*tscale #onFactor is to compensate for overnight moves\n",
    "  res <- data.frame(tt,sqrt(varcurve))\n",
    "  names(res) <- c(\"texp\",\"vsQuote\")\n",
    "  return(res)\n",
    "}\n",
    "\n",
    "varSwapForecast <- function(date,tau,nu,h,tscale,onFactor){\n",
    "  vsc <- varSwapCurve(date,bigT=2.5,nSteps=100,nu=nu,h=h,tscale,onFactor) # Creates the whole curve\n",
    "  x <- vsc$texp\n",
    "  y <- vsc$vsQuote\n",
    "  res <- stinterp(x,y,tau)$y\n",
    "  return(res)\n",
    "}\n",
    "\n",
    "# Test the function\n",
    "tau <- c(.25,.5,1,2)\n",
    "date <- \"2008-09-08\"\n",
    "varSwapForecast(date,tau,nu=nu,h=h,tscale=252,onFactor=1)"
   ]
  },
  {
   "cell_type": "markdown",
   "metadata": {
    "slideshow": {
     "slide_type": "slide"
    }
   },
   "source": [
    "###Constructing a time series of variance swap curves\n",
    "\n",
    "For each of 2,658 days from Jan 27, 2003 to August 31, 2013:\n",
    " \n",
    "  - We compute proxy variance swaps from closing prices of SPX options sourced from OptionMetrics (www.optionmetrics.com) via WRDS.\n",
    "  \n",
    "  \n",
    "  - We form the forecasts $\\eefm{v_u}{\\mP}$ using [(3)](#eq:vForecast) with 500 lags of SPX RV data sourced from The Oxford-Man Institute of Quantitative Finance (http://realized.oxford-man.ox.ac.uk).\n",
    " \n",
    " \n",
    " \n",
    "   - We note that the actual variance swap curve is a factor (of roughly 1.4) higher than the forecast, which we may attribute to a combination of overnight movements of the index and the price of volatility risk.\n",
    " \n",
    " \n",
    " - Forecasts must therefore be rescaled to obtain close-to-close realized variance forecasts."
   ]
  },
  {
   "cell_type": "markdown",
   "metadata": {
    "slideshow": {
     "slide_type": "slide"
    }
   },
   "source": [
    "### 3-month forecast vs actual variance swaps\n",
    "\n",
    "<h3><img src=\"http://mfe.baruch.cuny.edu/wp-content/uploads/2015/02/vsfa3m.png\" align = \"left\" width=700></h3> "
   ]
  },
  {
   "cell_type": "markdown",
   "metadata": {
    "slideshow": {
     "slide_type": "fragment"
    }
   },
   "source": [
    "Figure 16: Actual (proxy) 3-month variance swap quotes in blue vs forecast in red (with no scaling factor)."
   ]
  },
  {
   "cell_type": "markdown",
   "metadata": {
    "slideshow": {
     "slide_type": "slide"
    }
   },
   "source": [
    "###Ratio of actual to forecast\n",
    "\n",
    "<h3><img src=\"http://mfe.baruch.cuny.edu/wp-content/uploads/2015/02/3mratio.png\" align = \"left\" width=700></h3>"
   ]
  },
  {
   "cell_type": "markdown",
   "metadata": {
    "slideshow": {
     "slide_type": "fragment"
    }
   },
   "source": [
    "Figure 17: The ratio between 3-month actual variance swap quotes and 3-month forecasts."
   ]
  },
  {
   "cell_type": "markdown",
   "metadata": {
    "slideshow": {
     "slide_type": "slide"
    }
   },
   "source": [
    "###The Lehman weekend\n",
    "\n",
    " \n",
    "  -  Empirically, it seems that the variance curve is a simple scaling factor times the forecast, but that this scaling factor is time-varying.\n",
    "  \n",
    "      - We can think of this factor as having two multiplicative components: the overnight factor, and the price of volatility risk.\n",
    "\n",
    "\n",
    "\n",
    "  - Recall that as of the close on Friday September 12, 2008, it was widely believed that Lehman Brothers would be rescued over the weekend. By Monday morning, we knew that Lehman had failed. \n",
    "\n",
    "- In Figure 18, we see that variance swap curves just before and just after the collapse of Lehman are just rescaled versions of the RFSV forecast curves.\n",
    "\n",
    "  "
   ]
  },
  {
   "cell_type": "markdown",
   "metadata": {
    "slideshow": {
     "slide_type": "slide"
    }
   },
   "source": [
    "### We need variance swap estimates for 12-Sep-2008 and 15-Sep-2008\n",
    "\n",
    "We proxy these by taking SVI fits for the two dates and computing the log-strips."
   ]
  },
  {
   "cell_type": "code",
   "execution_count": null,
   "metadata": {
    "collapsed": false,
    "jupyter": {
     "outputs_hidden": false
    },
    "slideshow": {
     "slide_type": "fragment"
    }
   },
   "outputs": [],
   "source": [
    "%%R\n",
    "\n",
    "varSwaps12 <- c(\n",
    "    0.2872021, 0.2754535, 0.2601864, 0.2544684, 0.2513854, 0.2515314,\n",
    "    0.2508418, 0.2520099, 0.2502763, 0.2503309, 0.2580933, 0.2588361, \n",
    "    0.2565093)\n",
    "\n",
    "texp12 <- c(\n",
    "    0.01916496, 0.04654346, 0.09582478, 0.19164956, 0.26830938, 0.29842574,\n",
    "    0.51745380, 0.54483231, 0.76659822, 0.79397673, 1.26488706, 1.76317591, \n",
    "    2.26146475)\n",
    "\n",
    "varSwaps15 <-  c(\n",
    "    0.4410505, 0.3485560, 0.3083603, 0.2944378, 0.2756881, 0.2747838, \n",
    "    0.2682212, 0.2679770, 0.2668113, 0.2706713, 0.2729533, 0.2689598, \n",
    "    0.2733176)\n",
    "\n",
    "texp15 <- c(\n",
    "    0.01095140, 0.03832991, 0.08761123, 0.18343600, 0.26009582, 0.29021218, \n",
    "    0.50924025, 0.53661875, 0.75838467, 0.78576318, 1.25667351, 1.75496235, \n",
    "    2.25325120)"
   ]
  },
  {
   "cell_type": "markdown",
   "metadata": {
    "slideshow": {
     "slide_type": "slide"
    }
   },
   "source": [
    "###Actual vs predicted over the Lehman weekend\n"
   ]
  },
  {
   "cell_type": "code",
   "execution_count": null,
   "metadata": {
    "collapsed": false,
    "jupyter": {
     "outputs_hidden": false
    },
    "slideshow": {
     "slide_type": "fragment"
    }
   },
   "outputs": [],
   "source": [
    "%%R\n",
    "\n",
    "nu <- OxfordH$nu.est[1]\n",
    "h <- OxfordH$h.est[1]\n",
    "\n",
    "# Variance curve fV model forecasts\n",
    "tau1000 <- seq(0,2.5,length.out=1001)[-1]\n",
    "vs1 <- varSwapForecast(\"2008-09-12\",tau1000,nu=nu,h=h,tscale=252,onFactor=1.29)\n",
    "vs2 <- varSwapForecast(\"2008-09-15\",tau1000,nu=nu,h=h,tscale=252,onFactor=1.29)"
   ]
  },
  {
   "cell_type": "code",
   "execution_count": null,
   "metadata": {
    "collapsed": false,
    "jupyter": {
     "outputs_hidden": false
    },
    "slideshow": {
     "slide_type": "fragment"
    }
   },
   "outputs": [],
   "source": [
    "%%R\n",
    "\n",
    "# Plot results\n",
    "plot(texp12,varSwaps12,type=\"b\",col=\"red\",ylim=c(0.2,0.45),xlab=\"Maturity\",ylab=\"Variance swap quote\",lwd=2)\n",
    "lines(texp15,varSwaps15,type=\"b\",col=\"blue\",lwd=2)\n",
    "lines(tau1000,vs1,col=\"red\",type=\"l\",lty=2,lwd=2)\n",
    "lines(tau1000,vs2,col=\"blue\",type=\"l\",lty=2,lwd=2)"
   ]
  },
  {
   "cell_type": "markdown",
   "metadata": {
    "slideshow": {
     "slide_type": "fragment"
    }
   },
   "source": [
    "Figure 18: SPX variance swap curves as of September 12, 2008 (red) and September 15, 2008 (blue). The dashed curves are RFSV model forecasts rescaled by the 3-month ratio ($1.29$) as of the Friday close."
   ]
  },
  {
   "cell_type": "markdown",
   "metadata": {
    "slideshow": {
     "slide_type": "slide"
    }
   },
   "source": [
    "###Remarks\n",
    "\n",
    "We note that\n",
    " \n",
    "  - The actual variance swaps curves are very close to the forecast curves, up to a scaling factor.\n",
    "  \n",
    "  \n",
    "  - We are able to explain the change in the variance swap curve with only one extra observation: daily variance over the trading day on Monday 15-Sep-2008. \n",
    " \n",
    " \n",
    " - The SPX options market appears to be backward-looking in a very sophisticated way.\n",
    "\n",
    " "
   ]
  },
  {
   "cell_type": "markdown",
   "metadata": {
    "slideshow": {
     "slide_type": "slide"
    }
   },
   "source": [
    "###The Flash Crash\n",
    "\n",
    " \n",
    "- The so-called Flash Crash of Thursday May 6, 2010 caused  intraday realized variance to be much higher than normal.   \n",
    "  \n",
    "  \n",
    "- In Figure 19, we plot the actual variance swap curves as of the Wednesday and Friday market closes together with forecast curves rescaled by the 3-month ratio as of the close on Wednesday May 5 (which was $2.52$).  \n",
    "  \n",
    "  \n",
    "- We see that the actual variance curve as of the close on Friday is consistent with a forecast from the time series of realized variance that {\\em includes} the anomalous price action of Thursday May 6. \n",
    "  \n",
    "  \n",
    "  -  In Figure 20, we see that the actual variance swap curve on Monday, May 10  is consistent with a  forecast that excludes the  Flash Crash.\n",
    " \n",
    " \n",
    "  - Volatility traders realized that the Flash Crash should not influence future realized variance projections."
   ]
  },
  {
   "cell_type": "markdown",
   "metadata": {
    "slideshow": {
     "slide_type": "slide"
    }
   },
   "source": [
    "### Variance swap estimates \n",
    "\n",
    "We again proxy variance swaps for 05-May-2010, 07-May-2010 and 10-May-2010 by taking SVI fits for the three dates and computing the log-strips."
   ]
  },
  {
   "cell_type": "code",
   "execution_count": null,
   "metadata": {
    "collapsed": false,
    "jupyter": {
     "outputs_hidden": false
    },
    "slideshow": {
     "slide_type": "fragment"
    }
   },
   "outputs": [],
   "source": [
    "%%R\n",
    "\n",
    "varSwaps5 <- c(\n",
    "    0.4250369, 0.2552473, 0.2492892, 0.2564899, 0.2612677, 0.2659618, 0.2705928, 0.2761203,\n",
    "    0.2828139, 0.2841165, 0.2884955, 0.2895839, 0.2927817, 0.2992602, 0.3116500)\n",
    "\n",
    "texp5 <- c(\n",
    "    0.002737851, 0.043805613, 0.120465435, 0.150581793, 0.197125257, 0.292950034,\n",
    "    0.369609856, 0.402464066, 0.618754278, 0.654346338, 0.867898700, 0.900752909,\n",
    "    1.117043121, 1.615331964, 2.631074606)\n",
    " \n",
    "varSwaps7 <- c(\n",
    "    0.5469727, 0.4641713, 0.3963352, 0.3888213, 0.3762354, 0.3666858, 0.3615814, 0.3627013,\n",
    "    0.3563324, 0.3573946, 0.3495730, 0.3533829, 0.3521515, 0.3506186, 0.3594066)\n",
    "\n",
    "texp7 <- c(\n",
    "    0.01642710, 0.03832991, 0.11498973, 0.14510609, 0.19164956, 0.28747433, 0.36413415,\n",
    "    0.39698836, 0.61327858, 0.64887064, 0.86242300, 0.89527721, 1.11156742, 1.60985626,\n",
    "    2.62559890)\n",
    "\n",
    "varSwaps10 <- c(\n",
    "    0.3718439, 0.3023223, 0.2844810, 0.2869835, 0.2886912, 0.2905637, 0.2957070, 0.2960737,\n",
    "    0.3005086, 0.3031188, 0.3058492, 0.3065815, 0.3072041, 0.3122905, 0.3299425)\n",
    "\n",
    "texp10 <- c(\n",
    "    0.008213552, 0.030116359, 0.106776181, 0.136892539, 0.183436003, 0.279260780,\n",
    "    0.355920602, 0.388774812, 0.605065024, 0.640657084, 0.854209446, 0.887063655,\n",
    "    1.103353867, 1.601642710, 2.617385352)\n"
   ]
  },
  {
   "cell_type": "code",
   "execution_count": null,
   "metadata": {
    "collapsed": false,
    "jupyter": {
     "outputs_hidden": false
    },
    "slideshow": {
     "slide_type": "slide"
    }
   },
   "outputs": [],
   "source": [
    "%%R\n",
    "\n",
    "# Variance curve fV model forecasts\n",
    "vsf5 <- varSwapCurve(\"2010-05-05\",bigT=2.5,nSteps=100,nu=nu,h=h,tscale=252,onFactor=2.52)\n",
    "vsf7 <- varSwapCurve(\"2010-05-07\",bigT=2.5,nSteps=100,nu=nu,h=h,tscale=252,onFactor=2.52)\n",
    "\n",
    "plot(texp5,varSwaps5,type=\"b\",col=\"red\",xlab=expression(paste(\"Time to maturity \",tau)),ylab=\"Variance swap quote\",lwd=2,ylim=c(0.2,.55))\n",
    "lines(texp7,varSwaps7,type=\"b\",col=\"green4\",lwd=2)\n",
    "legend(\"topright\",inset=.02,c(\"May 5\",\"May 7\"),lty=1,col=c(\"red\",\"green4\"))\n",
    "\n",
    "lines(vsf5,col=\"red\",type=\"l\",lty=2,lwd=2)\n",
    "lines(vsf7,col=\"green4\",type=\"l\",lty=2,lwd=2)\n"
   ]
  },
  {
   "cell_type": "markdown",
   "metadata": {
    "slideshow": {
     "slide_type": "fragment"
    }
   },
   "source": [
    "Figure 19: SPX variance swap curves as of May 5, 2010 (red) and May 7, 2010 (green). The dashed curves are RFSV model forecasts rescaled by the 3-month ratio ($2.52$) as of the close on Wednesday May 5.  The curve as of the close on May 7 is consistent with the forecast **including** the crazy moves on May 6.\n"
   ]
  },
  {
   "cell_type": "markdown",
   "metadata": {
    "slideshow": {
     "slide_type": "slide"
    }
   },
   "source": [
    "###The weekend after the Flash Crash\n",
    "\n",
    "Now we plot forecast and actual variance swap curves as of the close on Friday May 7 and Monday May 10."
   ]
  },
  {
   "cell_type": "code",
   "execution_count": null,
   "metadata": {
    "collapsed": false,
    "jupyter": {
     "outputs_hidden": false
    },
    "slideshow": {
     "slide_type": "fragment"
    }
   },
   "outputs": [],
   "source": [
    "%%R\n",
    "\n",
    "# Variance curve fV model forecasts\n",
    "vsf7 <- varSwapCurve(\"2010-05-07\",bigT=2.5,nSteps=100,nu=nu,h=h,tscale=252,onFactor=2.52)\n",
    "vsf10 <- varSwapCurve(\"2010-05-10\",bigT=2.5,nSteps=100,nu=nu,h=h,tscale=252,onFactor=2.52)\n",
    "\n",
    "plot(texp7,varSwaps7,type=\"b\",col=\"green4\",xlab=expression(paste(\"Time to maturity \",tau)),ylab=\"Variance swap quote\",lwd=2,ylim=c(0.2,.55),plot=NA)\n",
    "lines(texp10,varSwaps10,type=\"b\",col=\"orange\",lwd=2)\n",
    "legend(\"topright\",inset=.02,c(\"May 7\",\"May 10\"),lty=1,col=c(\"green4\",\"orange\"))\n",
    "\n",
    "lines(vsf7,col=\"green4\",type=\"l\",lty=2,lwd=2)\n",
    "lines(vsf10,col=\"orange\",type=\"l\",lty=2,lwd=2)"
   ]
  },
  {
   "cell_type": "markdown",
   "metadata": {
    "slideshow": {
     "slide_type": "fragment"
    }
   },
   "source": [
    "Figure 20: The May 10 actual curve is  inconsistent with a forecast that includes the Flash Crash.  \n"
   ]
  },
  {
   "cell_type": "markdown",
   "metadata": {
    "slideshow": {
     "slide_type": "slide"
    }
   },
   "source": [
    "Now let's see what happens if we exclude the Flash Crash from the time series used to generate the variance curve forecast. "
   ]
  },
  {
   "cell_type": "code",
   "execution_count": null,
   "metadata": {
    "collapsed": false,
    "jupyter": {
     "outputs_hidden": false
    },
    "slideshow": {
     "slide_type": "fragment"
    }
   },
   "outputs": [],
   "source": [
    "%%R\n",
    "(flash.day <- which(index(spx.rk)==\"2010-05-06\"))\n",
    "spx.rk.p <- spx.rk[-flash.day]\n",
    "plot(spx.rk[\"2010-05-04::2010-05-10\"],type=\"b\")\n",
    "lines(spx.rk.p[\"2010-05-04::2010-05-10\"],col=\"red\",type=\"b\")"
   ]
  },
  {
   "cell_type": "markdown",
   "metadata": {
    "slideshow": {
     "slide_type": "fragment"
    }
   },
   "source": [
    "Figure 21: spx.rk.p has the May 6 realized variance datapoint eliminated.  Notice the crazy realized variance estimate for May 6!\n",
    "\n",
    "We need a new variance curve forecast function that uses the new time series."
   ]
  },
  {
   "cell_type": "code",
   "execution_count": null,
   "metadata": {
    "collapsed": false,
    "jupyter": {
     "outputs_hidden": false
    },
    "slideshow": {
     "slide_type": "slide"
    }
   },
   "outputs": [],
   "source": [
    "%%R\n",
    "\n",
    "xi1p <- function(date,nu,h,dt, tscale){ # dt=(u-t) is in units of years\n",
    "  xi <- rv.forecast.XTS(spx.rk.p,h=h,date=date,nLags=500,delta=dt*tscale,nu)\n",
    "  return(xi)\n",
    "}\n",
    "\n",
    "# Forward variance curve (again the array tt should be in units of years)\n",
    "xip <- function(date,tt,nu,h, tscale){sapply(tt,function(x){xi1p(date,nu=nu,h=h,x,tscale)})}\n",
    "\n",
    "varSwapCurve.p <- function(date,bigT,nSteps,nu,h,tscale,onFactor){\n",
    "  # Make vector of fwd variances\n",
    "  tt <- seq(0,bigT,length.out=(nSteps+1))\n",
    "  dt <- tt[2]\n",
    "  xicurve <- xip(date,tt,nu,h,tscale)\n",
    "  xicurve.mid <- (xicurve[1:nSteps]+xicurve[2:(nSteps+1)])/2\n",
    "  int.xicurve <- cumsum(xicurve.mid)*dt\n",
    "  varcurve <- int.xicurve/tt[-1]\n",
    "  varcurve <- c(xicurve[1], varcurve)*onFactor*tscale #onFactor is to compensate for overnight moves\n",
    "  res <- data.frame(tt,sqrt(varcurve))\n",
    "  names(res) <- c(\"texp\",\"vsQuote\")\n",
    "  return(res)\n",
    "}\n",
    "\n",
    "varSwapForecast.p <- function(date,tau,nu,h,tscale,onFactor){\n",
    "  vsc <- varSwapCurve.p(date,bigT=2.5,nSteps=100,nu=nu,h=h,tscale,onFactor) # Creates the whole curve\n",
    "  x <- vsc$texp\n",
    "  y <- vsc$vsQuote\n",
    "  res <- stinterp(x,y,tau)$y\n",
    "  return(res)\n",
    "}\n",
    "\n",
    "# Test the function\n",
    "tau <- c(.25,.5,1,2)\n",
    "date <- \"2010-05-10\"\n",
    "varSwapForecast.p(date,tau,nu=nu,h=h,tscale=252,onFactor=1/(1-.35))"
   ]
  },
  {
   "cell_type": "markdown",
   "metadata": {
    "slideshow": {
     "slide_type": "slide"
    }
   },
   "source": [
    "Finally, we compare our new forecast curves with the actuals."
   ]
  },
  {
   "cell_type": "code",
   "execution_count": null,
   "metadata": {
    "collapsed": false,
    "jupyter": {
     "outputs_hidden": false
    },
    "slideshow": {
     "slide_type": "fragment"
    }
   },
   "outputs": [],
   "source": [
    "%%R\n",
    "\n",
    "# Variance curve fV model forecasts\n",
    "vsf7 <- varSwapCurve(\"2010-05-07\",bigT=2.5,nSteps=100,nu=nu,h=h,tscale=252,onFactor=2.52)\n",
    "vsf10p <- varSwapCurve.p(\"2010-05-10\",bigT=2.5,nSteps=100,nu=nu,h=h,tscale=252,onFactor=2.52)\n",
    "\n",
    "plot(texp7,varSwaps7,type=\"b\",col=\"green4\",xlab=expression(paste(\"Time to maturity \",tau)),ylab=\"Variance swap quote\",lwd=2,ylim=c(0.2,.55),plot=NA)\n",
    "lines(texp10,varSwaps10,type=\"b\",col=\"orange\",lwd=2)\n",
    "legend(\"topright\",inset=.02,c(\"May 7\",\"May 10\"),lty=1,col=c(\"green4\",\"orange\"))\n",
    "\n",
    "lines(vsf7,col=\"green4\",type=\"l\",lty=2,lwd=2)\n",
    "lines(vsf10p,col=\"orange\",type=\"l\",lty=2,lwd=2)"
   ]
  },
  {
   "cell_type": "markdown",
   "metadata": {
    "slideshow": {
     "slide_type": "fragment"
    }
   },
   "source": [
    "Figure 22: The May 10 actual curve is consistent with a forecast that excludes the Flash Crash."
   ]
  },
  {
   "cell_type": "markdown",
   "metadata": {
    "slideshow": {
     "slide_type": "slide"
    }
   },
   "source": [
    "###Summary\n",
    "\n",
    " \n",
    "  - We uncovered a remarkable monofractal scaling relationship in historical volatility.\n",
    " \n",
    "      - A corollary is that volatility is not a long memory process, as widely believed.\n",
    "  \n",
    "  \n",
    "  - This leads to a natural non-Markovian stochastic volatility model under $\\mP$.\n",
    "  \n",
    "  \n",
    "  - The simplest specification of $\\frac{d\\mQ}{d\\mP}$ gives a non-Markovian generalization of the Bergomi model.\n",
    " \n",
    "  \n",
    "  - The history of the Brownian motion $\\lbrace W_s, s<t\\rbrace $ required for pricing is encoded in the forward variance curve, which is observed in the market.\n",
    "  \n",
    "\n",
    "  - This model fits the observed volatility surface surprisingly well with very few parameters.\n",
    " \n",
    " \n",
    " \n",
    "- For perhaps the first time, we have a simple consistent model of historical and implied volatility.\n",
    "\n",
    " "
   ]
  },
  {
   "cell_type": "markdown",
   "metadata": {
    "slideshow": {
     "slide_type": "slide"
    }
   },
   "source": [
    "## References  \n",
    "\n",
    "<br />\n",
    "\n",
    "<div class=\"reflist\" style=\"list-style-type: decimal;\">\n",
    "\n",
    "<ol>\n",
    "\n",
    "<li id=\"cite_note-ABDE\"><span class=\"mw-cite-backlink\"><b><a href=\"#cite_ref-ABDE\">^</a></b></span>\n",
    "Torben G Andersen, Tim Bollerslev, Francis X Diebold, and Heiko Ebens, The distribution of realized stock return volatility, *Journal of Financial Economics* **61**(1) 43-76 (2001).\n",
    "</li>\n",
    "\n",
    "<li id=\"cite_note-BayerFriz\"><span class=\"mw-cite-backlink\"><b><a href=\"#cite_ref-BayerFriz\">^</a></b></span> \n",
    "Christian Bayer, Peter Friz and Jim Gatheral, Pricing under rough volatility, Available at http://papers.ssrn.com/sol3/papers.cfm?abstract_id=2554754, (2015).\n",
    "</li>\n",
    " \n",
    "<li id=\"cite_note-BacryMuzy\"><span class=\"mw-cite-backlink\"><b><a href=\"#cite_ref-BacryMuzy\">^</a></b></span>\n",
    "Emmanuel Bacry and Jean-François Muzy, Log-infinitely divisible multifractal processes, \n",
    "*Communications in Mathematical Physics* **236**(3) 449-475 (2003).</li>\n",
    " \n",
    " \n",
    "<li id=\"cite_note-Bergomi2\"><span class=\"mw-cite-backlink\"><b><a href=\"#cite_ref-Bergomi2\">^</a></b></span> \n",
    "Lorenzo Bergomi, Smile dynamics II, *Risk Magazine* 67-73 (October 2005).\n",
    "</li> \n",
    "\n",
    "<li id=\"cite_note-BG\"><span class=\"mw-cite-backlink\"><b><a href=\"#cite_ref-BG\">^</a></b></span> \n",
    "Lorenzo Bergomi and Julien Guyon, Stochastic volatility’s orderly smiles. *Risk Magazine* 60-66, (May 2012).</li>\n",
    "\n",
    "<li id=\"cite_note-ComteRenault\"><span class=\"mw-cite-backlink\"><b><a href=\"#cite_ref-ComteRenault\">^</a></b></span> \n",
    "Fabienne Comte and Eric Renault, Long memory in continuous-time stochastic volatility models, *Mathematical Finance* **8** 29-323(1998).</li>\n",
    " \n",
    "<li id=\"cite_note-Gatheral\"><span class=\"mw-cite-backlink\"><b><a href=\"#cite_ref-Gatheral\">^</a></b></span>   Jim Gatheral,  <span>*The Volatility Surface: A Practitioner's Guide*</span>, John Wiley and Sons, Hoboken, NJ (2006).</li>\n",
    " \n",
    "<li id=\"cite_note-SVI\"><span class=\"mw-cite-backlink\"><b><a href=\"#cite_ref-SVI\">^</a></b></span> \n",
    "Jim Gatheral and Antoine Jacquier,  Arbitrage-free SVI volatility surfaces, *Quantitative Finance*, **14**(1) 59-71 (2014).</li>\n",
    "\n",
    "<li id=\"cite_note-GJR\"><span class=\"mw-cite-backlink\"><b><a href=\"#cite_ref-GJR\">^</a></b></span> Jim Gatheral, Thibault Jaisson and Mathieu Rosenbaum, Volatility is rough, available at http://papers.ssrn.com/sol3/papers.cfm?abstract_id=2509457, (2014).</li>\n",
    "\n",
    "<li id=\"cite_note-GO\"><span class=\"mw-cite-backlink\"><b><a href=\"#cite_ref-GO\">^</a></b></span> Jim Gatheral and Roel Oomen, Zero-intelligence realized variance estimation, *Finance and Stochastics* **14**(2) 249-283 (2010).</li> \n",
    " \n",
    "<li id=\"cite_note-NuzmanPoor\"><span class=\"mw-cite-backlink\"><b><a href=\"#cite_ref-NuzmanPoor\">^</a></b></span> Carl J. Nuzman and H. Vincent Poor, Linear estimation of self-similar processes via Lamperti’s transformation, *Journal of Applied Probability* **37**(2) 429-452 (2000).</li>\n",
    " \n",
    " \n",
    "\n",
    "</ol>\n",
    "  \n",
    "\n",
    "\n",
    " "
   ]
  },
  {
   "cell_type": "code",
   "execution_count": null,
   "metadata": {
    "collapsed": false,
    "jupyter": {
     "outputs_hidden": false
    }
   },
   "outputs": [],
   "source": []
  }
 ],
 "metadata": {
  "kernelspec": {
   "display_name": "Python 3",
   "language": "python",
   "name": "python3"
  },
  "language_info": {
   "codemirror_mode": {
    "name": "ipython",
    "version": 3
   },
   "file_extension": ".py",
   "mimetype": "text/x-python",
   "name": "python",
   "nbconvert_exporter": "python",
   "pygments_lexer": "ipython3",
   "version": "3.7.7"
  }
 },
 "nbformat": 4,
 "nbformat_minor": 4
}
